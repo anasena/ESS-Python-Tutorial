{
 "cells": [
  {
   "cell_type": "markdown",
   "metadata": {},
   "source": [
    "# Plotting in Python\n",
    "\n",
    "---\n",
    "\n",
    "## What does this cover?\n",
    "1.  Quick plots (less flexibility)\n",
    "2.  More advanced plots:  the `Figure` and `Axes` objects (ultimate flexibility)\n",
    "3.  A few tips and tricks\n",
    "\n",
    "... borrowing info from the [pyplot tutorial](https://matplotlib.org/users/pyplot_tutorial.html) and [FAQ](https://matplotlib.org/faq/usage_faq.html#parts-of-a-figure)\n",
    "\n",
    "## Plotting library\n",
    "\n",
    "* `matplotlib` is python's **mat**hematical **plot**ting **lib**rary\n",
    "\n",
    "* `pyplot` contains the functions that mimic MATLAB's plotting library"
   ]
  },
  {
   "cell_type": "code",
   "execution_count": null,
   "metadata": {
    "ExecuteTime": {
     "end_time": "2018-04-23T15:08:31.864320Z",
     "start_time": "2018-04-23T15:08:31.827880Z"
    }
   },
   "outputs": [],
   "source": [
    "import numpy as np\n",
    "import matplotlib.pyplot as plt\n",
    "\n",
    "% matplotlib inline"
   ]
  },
  {
   "cell_type": "markdown",
   "metadata": {},
   "source": [
    "# (1) Quick plots\n",
    "\n",
    "Basic plotting commands might seem familiar if you're used to MATLAB:\n",
    "\n",
    "* `plt.plot()`\n",
    "\n",
    "* `plt.contour()` and `plt.contourf()`\n",
    "\n",
    "* `plt.scatter()`\n",
    "\n",
    "* `plt.pcolor()` and `plt.pcolormesh()` (faster)\n",
    "\n",
    "* `plt.hist()`\n",
    "\n",
    "* ... and a LOT more; see the [gallery](https://matplotlib.org/gallery.html) to start with examples"
   ]
  },
  {
   "cell_type": "code",
   "execution_count": null,
   "metadata": {
    "ExecuteTime": {
     "end_time": "2018-04-23T21:13:13.692991Z",
     "start_time": "2018-04-23T21:13:13.284114Z"
    }
   },
   "outputs": [],
   "source": [
    "# simplest plot:  list of values\n",
    "plt.plot([1,3,2,4,3,5,4,6,5,7]) # plot a list of values"
   ]
  },
  {
   "cell_type": "code",
   "execution_count": null,
   "metadata": {
    "ExecuteTime": {
     "end_time": "2018-04-23T21:13:14.717425Z",
     "start_time": "2018-04-23T21:13:14.701492Z"
    }
   },
   "outputs": [],
   "source": [
    "# set up a few things to plot\n",
    "a = np.array((1,2,3,4,5))\n",
    "b = np.array((6,7,5,9,13))\n",
    "c = np.random.rand(10,10) # 10x10 array with random numbers between 0 and 1"
   ]
  },
  {
   "cell_type": "markdown",
   "metadata": {
    "ExecuteTime": {
     "end_time": "2018-04-20T21:05:17.977506Z",
     "start_time": "2018-04-20T21:05:17.969820Z"
    }
   },
   "source": [
    "#### Add plot title and labels"
   ]
  },
  {
   "cell_type": "code",
   "execution_count": null,
   "metadata": {
    "ExecuteTime": {
     "end_time": "2018-04-23T21:13:27.038009Z",
     "start_time": "2018-04-23T21:13:26.624038Z"
    }
   },
   "outputs": [],
   "source": [
    "plt.plot(a, b, marker='o', color='red')\n",
    "plt.ylabel('y label')\n",
    "plt.xlabel('x label')\n",
    "plt.title('Title')"
   ]
  },
  {
   "cell_type": "code",
   "execution_count": null,
   "metadata": {
    "ExecuteTime": {
     "end_time": "2018-04-23T21:13:28.938033Z",
     "start_time": "2018-04-23T21:13:28.451145Z"
    }
   },
   "outputs": [],
   "source": [
    "plt.contour(c)\n",
    "#plt.contourf(c)\n",
    "plt.colorbar(label='colorbar label')"
   ]
  },
  {
   "cell_type": "markdown",
   "metadata": {},
   "source": [
    "### Colormaps in matplotlib (options [here](https://matplotlib.org/users/colormaps.html))\n",
    "\n",
    "* The default colormap is `viridis`\n",
    "\n",
    "* You can specify a `cmap=` in a contour plot.\n",
    "\n",
    "* Reverse a colormap using `_r` behind the name, e.g., `cmap='viridis_r'`"
   ]
  },
  {
   "cell_type": "code",
   "execution_count": null,
   "metadata": {
    "ExecuteTime": {
     "end_time": "2018-04-23T21:13:54.291051Z",
     "start_time": "2018-04-23T21:13:53.946495Z"
    }
   },
   "outputs": [],
   "source": [
    "plt.contourf(c, cmap='YlOrRd')\n",
    "plt.colorbar(label='colorbar label')"
   ]
  },
  {
   "cell_type": "markdown",
   "metadata": {},
   "source": [
    "### Colors in matplotlib\n",
    "\n",
    "Note pyplot accepts any [HTML named color](https://www.w3schools.com/colors/colors_groups.asp) as an option (case insensitive)\n",
    "\n",
    "You can also specify any shade from white to black using a string between 0 and 1:\n",
    "\n",
    "* `color='0'` is pure black\n",
    "\n",
    "* `color='1'` is white\n",
    "\n",
    "### Line widths/styles, colors, and markers\n",
    "\n",
    "* Keywords like `linewidth` and `linestyle` and `color` (`lw`, `ls`, `c` for short) can be used to specify line properties, linestyle options [here](https://matplotlib.org/gallery/lines_bars_and_markers/line_styles_reference.html)\n",
    "\n",
    "* Add markers using `marker=`, style options [here](https://matplotlib.org/api/markers_api.html)\n",
    "\n",
    "### Grids in plots\n",
    "\n",
    "* Add a grid using `plt.grid()`\n",
    "\n",
    "#### Specify x- and y-axis limits using `plt.xlim()` and `plt.ylim()`"
   ]
  },
  {
   "cell_type": "code",
   "execution_count": null,
   "metadata": {
    "ExecuteTime": {
     "end_time": "2018-04-23T21:14:29.748420Z",
     "start_time": "2018-04-23T21:14:29.394668Z"
    }
   },
   "outputs": [],
   "source": [
    "plt.plot(a, b, lw=3, color='dodgerblue')\n",
    "plt.plot(a, b-2, lw=3, color='firebrick')\n",
    "plt.plot(a+1, b-3, linewidth=3, linestyle='--', color='0.25', marker='s')\n",
    "\n",
    "plt.grid()\n",
    "\n",
    "plt.title('Figure')\n",
    "plt.xlabel('x axis label')\n",
    "plt.ylabel('y axis label')\n",
    "\n",
    "#plt.xlim(-5,10)\n",
    "#plt.ylim(0,20)"
   ]
  },
  {
   "cell_type": "markdown",
   "metadata": {},
   "source": [
    "# (2) More advanced approach\n",
    "\n",
    "* pyplot figures have four important **classes**, and to make publication-quality figures, it's good to know what's going on:\n",
    "\n",
    "(1) `Figure`:  the whole thing (one or more Axes, all Artists, and the \"canvas\")\n",
    "\n",
    "(2) `Axes`:  what you think about as the \"plot\" (belongs to `Figure`)\n",
    "\n",
    "(3) `Axis`:  a given horizontal or vertical axis (helps set ticks and other details, belongs to `Axes`)\n",
    "\n",
    "![Oops, figure not available](fig_map.png)"
   ]
  },
  {
   "cell_type": "markdown",
   "metadata": {
    "ExecuteTime": {
     "end_time": "2018-04-22T23:53:23.736125Z",
     "start_time": "2018-04-22T23:53:23.730785Z"
    }
   },
   "source": [
    "(4) `Artist`:  ALL the things you see in a figure (the `Figure`, `Axes`, and `Axis`, text, lines, etc.)\n",
    "\n",
    "![Oops, figure not available](anatomy1.png)"
   ]
  },
  {
   "cell_type": "markdown",
   "metadata": {},
   "source": [
    "# Recommended way to created figures\n",
    "\n",
    "1. Create the `Figure` object using `plt.figure()` function (call it `fig`)\n",
    "\n",
    "2. Add one or more `Axes` objects to `fig` (call them `ax`, `ax1`, `ax2`, etc.)\n",
    "\n",
    "3. Use the `ax.plot()` syntax make plots\n",
    "\n",
    "4. Mess with axis ticks, font sizes, text, etc. using methods that belong to the `Axes` class (documented [here](https://matplotlib.org/api/axes_api.html))\n",
    "\n",
    "*Note:  In the \"basic\" plotting above, these steps are being done implicitly*"
   ]
  },
  {
   "cell_type": "code",
   "execution_count": null,
   "metadata": {
    "ExecuteTime": {
     "end_time": "2018-04-23T21:15:16.311802Z",
     "start_time": "2018-04-23T21:15:16.032703Z"
    }
   },
   "outputs": [],
   "source": [
    "# 1\n",
    "fig = plt.figure()\n",
    "\n",
    "# 2\n",
    "ax = fig.add_subplot(1,1,1) # (rows, columns, index)\n",
    "\n",
    "# 3\n",
    "#ax.plot(a, b, color='orangered', lw=3)\n",
    "\n",
    "# 4\n",
    "ax.grid()\n",
    "ax.set_title('Title', fontsize=16)\n",
    "ax.set_xlabel('x label', fontsize=16)\n",
    "ax.set_ylabel('y label', fontsize=16)\n",
    "ax.tick_params(labelsize=16)"
   ]
  },
  {
   "cell_type": "markdown",
   "metadata": {},
   "source": [
    "## Worth knowing:  Several ways to instantiate a figure and axes"
   ]
  },
  {
   "cell_type": "markdown",
   "metadata": {},
   "source": [
    "### (1) Basic:  Plotting command uses pyplot directly:  `plt.plot()`\n",
    "\n",
    "#### Creates the figures and axes implicitly\n",
    "\n",
    "    plt.plot()\n",
    "    plt.scatter()\n",
    "    ...\n",
    "\n",
    "* You can get the current fig/ax objects using:\n",
    "\n",
    "  * `fig = plt.gcf()`\n",
    "  \n",
    "  * `ax = plt.gca()`\n",
    "\n",
    "* To change x and y limits, or set axes labels/title, use:\n",
    "\n",
    "  * `plt.xlim()` and `plt.ylim()`\n",
    "  \n",
    "  * `plt.xlabel()`, `plt.ylabel()`, `plt.title()`"
   ]
  },
  {
   "cell_type": "markdown",
   "metadata": {
    "ExecuteTime": {
     "end_time": "2018-04-23T00:44:57.958321Z",
     "start_time": "2018-04-23T00:44:57.951764Z"
    }
   },
   "source": [
    "### (2) Advanced/recommended:  Plotting command uses an `Axes` object:  `ax.plot()`\n",
    "\n",
    "#### You must create the `Figure` and `Axes` objects explicitly *beforehand* via either:\n",
    "\n",
    "    fig = plt.figure()\n",
    "    ax = fig.add_subplot(1,1,1) # (nrows, ncols, axes index)\n",
    "\n",
    "**...or...**\n",
    "\n",
    "    fig, axes = plt.subplots(1,1) # (nrows, ncols)\n",
    "    \n",
    "* To change x and y limits, or set axes labels/title, use:\n",
    "\n",
    "  * `ax.set_xlim()`, `ax.set_ylim()`\n",
    "  \n",
    "  * `ax.set_xlabel()`, `ax.set_ylabel()`, `ax.set_title()`\n",
    "  \n",
    "* A lot of other things are the same... but you'll always encounter exceptions"
   ]
  },
  {
   "cell_type": "markdown",
   "metadata": {},
   "source": [
    "### (3) Hybrid approach:  `plt.axes()`\n",
    "\n",
    "### This will create the `Axes` object directly, though the `Figure` creation will be implicit\n",
    "\n",
    "    ax = plt.axes()\n",
    "\n",
    "* To get `fig`, you can use `fig = plt.gcf()`"
   ]
  },
  {
   "cell_type": "code",
   "execution_count": null,
   "metadata": {
    "ExecuteTime": {
     "end_time": "2018-04-23T21:16:13.372636Z",
     "start_time": "2018-04-23T21:16:12.943684Z"
    }
   },
   "outputs": [],
   "source": [
    "fig = plt.figure()\n",
    "ax = fig.add_subplot(1,1,1) # (rows, columns, index)\n",
    "ax_plot = ax.pcolormesh(c, cmap='Reds')\n",
    "plt.colorbar(ax_plot, label='units')\n",
    "\n",
    "ax.set_xlabel('x label')"
   ]
  },
  {
   "cell_type": "markdown",
   "metadata": {},
   "source": [
    "## Two ways to make a panel plot (e.g., 2x2)\n",
    "\n",
    "### Best practice is to use the \"advanced\" fig/ax creation, since you can specify columns and rows\n",
    "\n",
    "#### Use `ax = fig.add_subplot(rows, columns, plot)`\n",
    "\n",
    "Notice how each set of axes is created individually using the (#,#,#) numbering syntax (starts at 1)\n",
    "\n",
    "    fig = plt.figure()\n",
    "    ax1 = fig.add_subplot(2,2,1)\n",
    "    ax2 = fig.add_subplot(222)\n",
    "    ax3 = fig.add_subplot(223)\n",
    "    ax4 = fig.add_subplot(224)\n",
    "    ...\n",
    "    ax1.plot()\n",
    "    ...\n",
    "\n",
    "#### Use `fig, ax_list = fig.subplots(rows, columns)`\n",
    "\n",
    "This syntax creates `fig` and ALL axes at once, but in this case it places the axes into an array, `ax_array`:\n",
    "\n",
    "    fig, ax_array = plt.subplots(2,2) # (rows, columns)\n",
    "    ...\n",
    "    ax_array[0,0].plot()\n",
    "    ax_array[0,1].plot()\n",
    "    ..."
   ]
  },
  {
   "cell_type": "code",
   "execution_count": null,
   "metadata": {
    "ExecuteTime": {
     "end_time": "2018-04-23T14:56:18.369121Z",
     "start_time": "2018-04-23T14:56:18.022349Z"
    }
   },
   "outputs": [],
   "source": [
    "my_fontsize = 16\n",
    "\n",
    "fig = plt.figure(figsize=(6,5))\n",
    "\n",
    "ax1 = fig.add_subplot(2,1,1)\n",
    "ax2 = fig.add_subplot(212) # commas not necessary if numbers are single digits\n",
    "\n",
    "ax1.plot(a, b, label='b line') # add labels to lines to create legend\n",
    "ax1.plot(a, b+3, label='b+3 line')\n",
    "ax1.legend(fontsize=my_fontsize)\n",
    "\n",
    "ax2.contourf(c)\n",
    "\n",
    "ax1.grid()\n",
    "ax1.set_title('Axes 1 title', fontsize=my_fontsize)\n",
    "ax2.set_title('Axes 2 title', fontsize=my_fontsize)\n",
    "\n",
    "ax1.tick_params(labelsize=my_fontsize)\n",
    "ax2.tick_params(labelsize=my_fontsize)\n",
    "\n",
    "fig.tight_layout()"
   ]
  },
  {
   "cell_type": "markdown",
   "metadata": {},
   "source": [
    "# Tips/tricks\n",
    "\n",
    "### Figure size\n",
    "\n",
    "* If you're making a figure for publications, you probably want the figure to be about 7.5 or 8.5 inches wide (full paper width) or half that for a single-column figure\n",
    "\n",
    "* You can specify figure size (in inches) in one of two ways:\n",
    "  1. **As you create the figure (8 in. wide, 4 in. tall):** `fig = plt.figure(figsize=(8,4))`\n",
    "  \n",
    "  2. **After you create the figure:** `fig.set_size_inches(8,4)`\n",
    "\n",
    "### Tight layout\n",
    "\n",
    "* Use `fig.tight_layout()` at the end of the figure to let matplotlib automatically space things out for you\n",
    "\n",
    "### Saving figures\n",
    "\n",
    "* Use `plt.savefig()` or `fig.savefig()`, documentation [here](https://matplotlib.org/api/_as_gen/matplotlib.pyplot.savefig.html)\n",
    "* Within the savefig() command, `bbox_inches='tight'` will crop the figure tightly, without margins\n",
    "* Use the extension you prefer:  **png, pdf, ps, eps, svg** (a `dpi=` option will work with png, others are vector graphics)\n",
    "\n",
    "### Figure insets\n",
    "\n",
    "    fig, ax = plt.subplots(1,1)\n",
    "    left, bottom, width, height = 0.1, 0.4, 0.4, 0.5\n",
    "    fig.add_axes([left, bottom, width, height] # in percentage of figure, from 0 to 1\n",
    "    \n",
    "### Font sizes\n",
    "\n",
    "* By default, axis ticks, x- and y-axis labels, and legends all have different font sizes\n",
    "* Specify a consistent font size at the top, like `my_fontsize=10` or `12`, and use that throughout"
   ]
  },
  {
   "cell_type": "code",
   "execution_count": null,
   "metadata": {
    "ExecuteTime": {
     "end_time": "2018-04-23T14:58:39.148013Z",
     "start_time": "2018-04-23T14:58:38.337767Z"
    }
   },
   "outputs": [],
   "source": [
    "my_fontsize = 12\n",
    "\n",
    "fig, ax = plt.subplots(1,1)\n",
    "\n",
    "fig.set_size_inches(4,3)\n",
    "ax.plot(a, b, c='dodgerblue') # first figure\n",
    "\n",
    "left, bottom, width, height = 0.2,0.45,0.3,0.35\n",
    "ax_inset = fig.add_axes([left,bottom,width,height]) # create inset axes\n",
    "ax_inset.scatter(a, b, c='orangered') # add a plot to inset\n",
    "\n",
    "ax.tick_params(labelsize=my_fontsize)\n",
    "ax_inset.tick_params(labelsize=my_fontsize)\n",
    "\n",
    "fig.savefig('figure_example.png', dpi=300, bbox_inches='tight')"
   ]
  }
 ],
 "metadata": {
  "kernelspec": {
   "display_name": "Python 3",
   "language": "python",
   "name": "python3"
  },
  "language_info": {
   "codemirror_mode": {
    "name": "ipython",
    "version": 3
   },
   "file_extension": ".py",
   "mimetype": "text/x-python",
   "name": "python",
   "nbconvert_exporter": "python",
   "pygments_lexer": "ipython3",
   "version": "3.6.5"
  }
 },
 "nbformat": 4,
 "nbformat_minor": 2
}
