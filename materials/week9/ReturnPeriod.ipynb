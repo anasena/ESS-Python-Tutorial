Last login: Thu Aug 23 12:53:50 on ttys000
Howdy!
meganfowler@mdfowler:~$ cd Documents/Irvine/Python-Tutorial/
meganfowler@mdfowler:~/Documents/Irvine/Python-Tutorial$ ls
ESS-Python-Tutorial-master ExtrValueSession_Aug28.zip
ExtrValueSession_Aug28
meganfowler@mdfowler:~/Documents/Irvine/Python-Tutorial$ cd ESS-Python-Tutorial-master/
meganfowler@mdfowler:~/Documents/Irvine/Python-Tutorial/ESS-Python-Tutorial-master$ ls
LICENSE   README.md materials
meganfowler@mdfowler:~/Documents/Irvine/Python-Tutorial/ESS-Python-Tutorial-master$ cd materials/
meganfowler@mdfowler:~/Documents/Irvine/Python-Tutorial/ESS-Python-Tutorial-master/materials$ ls
Scikitlearn-Intro-myNotes.ipynb week3
week1                           week4
week2                           week5
meganfowler@mdfowler:~/Documents/Irvine/Python-Tutorial/ESS-Python-Tutorial-master/materials$ cd ../../
meganfowler@mdfowler:~/Documents/Irvine/Python-Tutorial$ ls
ESS-Python-Tutorial-master ExtrValueSession_Aug28.zip
ExtrValueSession_Aug28
meganfowler@mdfowler:~/Documents/Irvine/Python-Tutorial$ cd ExtrValueSession_Aug28
meganfowler@mdfowler:~/Documents/Irvine/Python-Tutorial/ExtrValueSession_Aug28$ ls
4127800.day           ReturnPeriod_V2.ipynb
meganfowler@mdfowler:~/Documents/Irvine/Python-Tutorial/ExtrValueSession_Aug28$ ls
4127800.day           ReturnPeriod.ipynb    ReturnPeriod_V2.ipynb dischargeData.pkl
meganfowler@mdfowler:~/Documents/Irvine/Python-Tutorial/ExtrValueSession_Aug28$ jupyter notebok 
Error executing Jupyter command 'notebok': [Errno 2] No such file or directory
meganfowler@mdfowler:~/Documents/Irvine/Python-Tutorial/ExtrValueSession_Aug28$ jupyter notebook 
[I 08:55:07.750 NotebookApp] [jupyter_nbextensions_configurator] enabled 0.4.0
[I 08:55:07.793 NotebookApp] JupyterLab beta preview extension loaded from /Users/meganfowler/anaconda3/lib/python3.6/site-packages/jupyterlab
[I 08:55:07.793 NotebookApp] JupyterLab application directory is /Users/meganfowler/anaconda3/share/jupyter/lab
[I 08:55:07.806 NotebookApp] Serving notebooks from local directory: /Users/meganfowler/Documents/Irvine/Python-Tutorial/ExtrValueSession_Aug28
[I 08:55:07.806 NotebookApp] 0 active kernels
[I 08:55:07.806 NotebookApp] The Jupyter Notebook is running at:
[I 08:55:07.806 NotebookApp] http://localhost:8888/?token=7025a9f4eb672c9fb315fe1f1c03c420ecb0bfe2da2aa87a
[I 08:55:07.806 NotebookApp] Use Control-C to stop this server and shut down all kernels (twice to skip confirmation).
[C 08:55:07.810 NotebookApp] 
    
    Copy/paste this URL into your browser when you connect for the first time,
    to login with a token:
        http://localhost:8888/?token=7025a9f4eb672c9fb315fe1f1c03c420ecb0bfe2da2aa87a
[I 08:55:08.410 NotebookApp] Accepting one-time-token-authenticated connection from ::1
[I 08:55:12.831 NotebookApp] Kernel started: a3bc9ac7-b4f8-4a12-8768-6b291e0697fa
[I 08:55:13.671 NotebookApp] Adapting to protocol v5.1 for kernel a3bc9ac7-b4f8-4a12-8768-6b291e0697fa
[I 08:57:12.807 NotebookApp] Saving file at /ReturnPeriod_V2.ipynb
[I 08:59:12.777 NotebookApp] Saving file at /ReturnPeriod_V2.ipynb
[I 09:00:55.274 NotebookApp] Saving file at /ReturnPeriod_V2.ipynb
[I 09:01:12.769 NotebookApp] Saving file at /ReturnPeriod_V2.ipynb
[I 09:02:55.299 NotebookApp] Saving file at /ReturnPeriod_V2.ipynb
[I 09:03:12.756 NotebookApp] Saving file at /ReturnPeriod_V2.ipynb
[I 09:05:10.084 NotebookApp] Saving file at /ReturnPeriod_V2.ipynb
[I 09:06:42.335 NotebookApp] Saving file at /ReturnPeriod_V2.ipynb
[I 09:06:43.750 NotebookApp] Saving file at /ReturnPeriod_V2.ipynb
[I 09:06:49.661 NotebookApp] Kernel started: 195ca0ad-1f09-408f-9baa-e6c43df95e54
[I 09:06:50.673 NotebookApp] Adapting to protocol v5.1 for kernel 195ca0ad-1f09-408f-9baa-e6c43df95e54
[I 09:06:56.891 NotebookApp] Starting buffering for 195ca0ad-1f09-408f-9baa-e6c43df95e54:b345f4672a4f423c81a0031787a54a0c
[I 09:07:05.355 NotebookApp] Starting buffering for a3bc9ac7-b4f8-4a12-8768-6b291e0697fa:a1a850d3d6f44475814051b160432ec1
^C[I 09:07:09.017 NotebookApp] interrupted
Serving notebooks from local directory: /Users/meganfowler/Documents/Irvine/Python-Tutorial/ExtrValueSession_Aug28
2 active kernels
The Jupyter Notebook is running at:
http://localhost:8888/?token=7025a9f4eb672c9fb315fe1f1c03c420ecb0bfe2da2aa87a
Shutdown this notebook server (y/[n])? ^C[C 09:07:09.363 NotebookApp] received signal 2, stopping
[I 09:07:09.364 NotebookApp] Shutting down 2 kernels
[I 09:07:09.889 NotebookApp] Kernel shutdown: a3bc9ac7-b4f8-4a12-8768-6b291e0697fa
[I 09:07:09.890 NotebookApp] Kernel shutdown: 195ca0ad-1f09-408f-9baa-e6c43df95e54
^C
meganfowler@mdfowler:~/Documents/Irvine/Python-Tutorial/ExtrValueSession_Aug28$ ls
4127800.day           ReturnPeriod.ipynb    ReturnPeriod_V1.ipynb dischargeData.pkl
meganfowler@mdfowler:~/Documents/Irvine/Python-Tutorial/ExtrValueSession_Aug28$ vi ReturnPeriod.ipynb 

{
 "cells": [
  {
   "cell_type": "markdown",
   "metadata": {},
   "source": [
    "## Extreme value fitting and estimating return periods \n",
    "What's in this notebook:\n",
    "\n",
    "1) How to read in data from a text file using Pandas \n",
    "\n",
    "2) How to fit annual maxima to an extreme value function to estimate return period \n",
    "\n",
    "3) How to use parallel for loops to speed up the same process at a global scale\n",
    "\n",
    "*Note: likely need to install joblib:* `conda install joblib`"
   ]
  },
  {
   "cell_type": "code",
   "execution_count": 1,
   "metadata": {
"ReturnPeriod.ipynb" 1032L, 215756C
