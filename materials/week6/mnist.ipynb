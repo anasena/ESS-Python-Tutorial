{
 "cells": [
  {
   "cell_type": "markdown",
   "metadata": {},
   "source": [
    "# Recognizing hand-written digits with neural networks\n",
    "\n",
    "**Neural network Python libraries**\n",
    "- *Keras*: High level library based on Tensorflow (or others) that is easy to use and flexible enough for most standard users. It has a great documentation and online support. \n",
    "- *Tensorflow*: Google's neural network library. Most widely used in ML research. Flexible and powerful but also (unnecessarily?) complicated.\n",
    "- *Pytorch*: The newcomer developed by Facebook. Flexible like Tensorflow but with a nicer, more Pythonic API.\n",
    "\n",
    "In this notebook we will tackle a classification task, recognizing hand-written digits of the famous MNIST dataset."
   ]
  },
  {
   "cell_type": "code",
   "execution_count": 1,
   "metadata": {
    "ExecuteTime": {
     "end_time": "2018-04-30T22:26:03.887597Z",
     "start_time": "2018-04-30T22:25:59.594973Z"
    }
   },
   "outputs": [
    {
     "name": "stderr",
     "output_type": "stream",
     "text": [
      "/Users/baird/anaconda/lib/python3.6/site-packages/h5py/__init__.py:36: FutureWarning: Conversion of the second argument of issubdtype from `float` to `np.floating` is deprecated. In future, it will be treated as `np.float64 == np.dtype(float).type`.\n",
      "  from ._conv import register_converters as _register_converters\n",
      "Using TensorFlow backend.\n"
     ]
    }
   ],
   "source": [
    "%matplotlib inline\n",
    "import numpy as np\n",
    "import keras\n",
    "import matplotlib.pyplot as plt\n",
    "from sklearn.model_selection import train_test_split\n",
    "from keras.layers import *\n",
    "from keras.optimizers import SGD, Adam\n",
    "from keras.models import Sequential\n",
    "from keras.utils import to_categorical"
   ]
  },
  {
   "cell_type": "markdown",
   "metadata": {},
   "source": [
    "## MNIST - Preparing and exploring the data\n",
    "\n",
    "Keras has a handy function to download the entire MNIST dataset which consists of 60,000 training images and 10000 test images."
   ]
  },
  {
   "cell_type": "code",
   "execution_count": 2,
   "metadata": {
    "ExecuteTime": {
     "end_time": "2018-04-30T22:26:18.955211Z",
     "start_time": "2018-04-30T22:26:15.391493Z"
    }
   },
   "outputs": [
    {
     "name": "stdout",
     "output_type": "stream",
     "text": [
      "Downloading data from https://s3.amazonaws.com/img-datasets/mnist.npz\n",
      "11493376/11490434 [==============================] - 3s 0us/step\n"
     ]
    }
   ],
   "source": [
    "(x_trn, y_trn), (x_test, y_test) = keras.datasets.mnist.load_data()"
   ]
  },
  {
   "cell_type": "code",
   "execution_count": 3,
   "metadata": {
    "ExecuteTime": {
     "end_time": "2018-04-30T22:26:22.073540Z",
     "start_time": "2018-04-30T22:26:22.065950Z"
    }
   },
   "outputs": [
    {
     "data": {
      "text/plain": [
       "((60000, 28, 28), (60000,), (10000, 28, 28), (10000,))"
      ]
     },
     "execution_count": 3,
     "metadata": {},
     "output_type": "execute_result"
    }
   ],
   "source": [
    "x_trn.shape, y_trn.shape, x_test.shape, y_test.shape"
   ]
  },
  {
   "cell_type": "markdown",
   "metadata": {},
   "source": [
    "**STOP!** What are training, validation and test sets?\n",
    "\n",
    "- Training set: Data used to optimize the machine learning algorithm\n",
    "- Validation set: Data used to independently verify the skill of the algorithm\n",
    "- Test set: Another independent set used for *final* verification.\n",
    "\n",
    "Let's make a validation set."
   ]
  },
  {
   "cell_type": "code",
   "execution_count": 10,
   "metadata": {
    "ExecuteTime": {
     "end_time": "2018-04-30T22:31:49.151676Z",
     "start_time": "2018-04-30T22:31:49.148172Z"
    }
   },
   "outputs": [],
   "source": [
    "# Set a random seed to make train/valid split reproducible\n",
    "np.random.seed(42)"
   ]
  },
  {
   "cell_type": "code",
   "execution_count": 11,
   "metadata": {
    "ExecuteTime": {
     "end_time": "2018-04-30T22:31:49.750862Z",
     "start_time": "2018-04-30T22:31:49.627518Z"
    }
   },
   "outputs": [],
   "source": [
    "x_trn, x_val, y_trn, y_val = train_test_split(x_trn, y_trn, test_size=0.2)"
   ]
  },
  {
   "cell_type": "code",
   "execution_count": 12,
   "metadata": {
    "ExecuteTime": {
     "end_time": "2018-04-30T22:31:49.892196Z",
     "start_time": "2018-04-30T22:31:49.884913Z"
    }
   },
   "outputs": [
    {
     "data": {
      "text/plain": [
       "((38400, 28, 28), (9600, 28, 28))"
      ]
     },
     "execution_count": 12,
     "metadata": {},
     "output_type": "execute_result"
    }
   ],
   "source": [
    "x_trn.shape, x_val.shape"
   ]
  },
  {
   "cell_type": "code",
   "execution_count": 13,
   "metadata": {
    "ExecuteTime": {
     "end_time": "2018-04-30T22:31:50.268313Z",
     "start_time": "2018-04-30T22:31:50.261758Z"
    }
   },
   "outputs": [],
   "source": [
    "def plots(xs, ys):\n",
    "    nfigs = xs.shape[0]; ncols = min(3, nfigs); nrows = int(np.floor(nfigs / ncols))\n",
    "    fig, axs = plt.subplots(nrows, ncols, figsize=(3*ncols, 3*nrows))\n",
    "    for i, ax in enumerate(axs.flat):\n",
    "        ax.imshow(xs[i], cmap='gray')\n",
    "        ax.set_title(str(ys[i]))\n",
    "        ax.set_xticks([]); ax.set_yticks([])"
   ]
  },
  {
   "cell_type": "code",
   "execution_count": 14,
   "metadata": {
    "ExecuteTime": {
     "end_time": "2018-04-30T22:31:51.316364Z",
     "start_time": "2018-04-30T22:31:50.786993Z"
    }
   },
   "outputs": [
    {
     "data": {
      "image/png": "[encoded data removed]",
      "text/plain": [
       "<Figure size 648x648 with 9 Axes>"
      ]
     },
     "metadata": {},
     "output_type": "display_data"
    }
   ],
   "source": [
    "plots(x_trn[:9], y_trn[:9])"
   ]
  },
  {
   "cell_type": "markdown",
   "metadata": {},
   "source": [
    "For gradient descent to work efficiently it is important that all the input variables or features are roughly on the same order of magnitude. Typically, we try to get them around 1."
   ]
  },
  {
   "cell_type": "code",
   "execution_count": 15,
   "metadata": {
    "ExecuteTime": {
     "end_time": "2018-04-30T22:33:29.273351Z",
     "start_time": "2018-04-30T22:33:29.268596Z"
    }
   },
   "outputs": [],
   "source": [
    "def normalize(x): return x / 255"
   ]
  },
  {
   "cell_type": "code",
   "execution_count": 16,
   "metadata": {
    "ExecuteTime": {
     "end_time": "2018-04-30T22:33:30.026530Z",
     "start_time": "2018-04-30T22:33:29.596583Z"
    }
   },
   "outputs": [],
   "source": [
    "x_trn = normalize(x_trn)\n",
    "x_val = normalize(x_val)"
   ]
  },
  {
   "cell_type": "code",
   "execution_count": 17,
   "metadata": {
    "ExecuteTime": {
     "end_time": "2018-04-30T22:33:30.043138Z",
     "start_time": "2018-04-30T22:33:30.032866Z"
    }
   },
   "outputs": [
    {
     "data": {
      "text/plain": [
       "array([[0.        , 0.        , 0.        ],\n",
       "       [0.55294118, 0.38039216, 0.38039216],\n",
       "       [0.99215686, 0.99215686, 0.99215686]])"
      ]
     },
     "execution_count": 17,
     "metadata": {},
     "output_type": "execute_result"
    }
   ],
   "source": [
    "x_trn[0, 12:15, 12:15]"
   ]
  },
  {
   "cell_type": "code",
   "execution_count": 18,
   "metadata": {
    "ExecuteTime": {
     "end_time": "2018-04-30T22:33:32.286314Z",
     "start_time": "2018-04-30T22:33:32.099544Z"
    }
   },
   "outputs": [
    {
     "data": {
      "image/png": "[encoded data removed]",
      "text/plain": [
       "<Figure size 432x288 with 1 Axes>"
      ]
     },
     "metadata": {},
     "output_type": "display_data"
    }
   ],
   "source": [
    "plt.imshow(x_trn[0, 12:15, 12:15], cmap='gray');"
   ]
  },
  {
   "cell_type": "markdown",
   "metadata": {},
   "source": [
    "Now we will do something pretty dumb. We will flatten out the images and throw away all spatial information."
   ]
  },
  {
   "cell_type": "code",
   "execution_count": 19,
   "metadata": {
    "ExecuteTime": {
     "end_time": "2018-04-30T22:33:58.621457Z",
     "start_time": "2018-04-30T22:33:58.617161Z"
    }
   },
   "outputs": [],
   "source": [
    "def flatten(x): return x.reshape(x.shape[0], -1)"
   ]
  },
  {
   "cell_type": "code",
   "execution_count": 20,
   "metadata": {
    "ExecuteTime": {
     "end_time": "2018-04-30T22:34:00.119911Z",
     "start_time": "2018-04-30T22:34:00.116465Z"
    }
   },
   "outputs": [],
   "source": [
    "x_trn = flatten(x_trn)\n",
    "x_val = flatten(x_val)"
   ]
  },
  {
   "cell_type": "code",
   "execution_count": 21,
   "metadata": {
    "ExecuteTime": {
     "end_time": "2018-04-30T22:34:00.758856Z",
     "start_time": "2018-04-30T22:34:00.753069Z"
    }
   },
   "outputs": [
    {
     "data": {
      "text/plain": [
       "(38400, 784)"
      ]
     },
     "execution_count": 21,
     "metadata": {},
     "output_type": "execute_result"
    }
   ],
   "source": [
    "x_trn.shape"
   ]
  },
  {
   "cell_type": "code",
   "execution_count": 22,
   "metadata": {
    "ExecuteTime": {
     "end_time": "2018-04-30T22:34:10.213109Z",
     "start_time": "2018-04-30T22:34:09.943106Z"
    }
   },
   "outputs": [
    {
     "data": {
      "image/png": "[encoded data removed]",
      "text/plain": [
       "<Figure size 7200x72 with 1 Axes>"
      ]
     },
     "metadata": {},
     "output_type": "display_data"
    }
   ],
   "source": [
    "fig = plt.figure(figsize=(100, 1))\n",
    "plt.imshow(x_trn[0, None, :], cmap='gray');"
   ]
  },
  {
   "cell_type": "markdown",
   "metadata": {},
   "source": [
    "We are dealing with a classification problem. That means that the correct answer to always one of 10 classes. To pass the numbers to the neural net we one-hot encode the labels."
   ]
  },
  {
   "cell_type": "code",
   "execution_count": 26,
   "metadata": {
    "ExecuteTime": {
     "end_time": "2018-04-30T22:35:31.013924Z",
     "start_time": "2018-04-30T22:35:31.005828Z"
    }
   },
   "outputs": [],
   "source": [
    "yoh_trn = to_categorical(y_trn)\n",
    "yoh_val = to_categorical(y_val)"
   ]
  },
  {
   "cell_type": "code",
   "execution_count": 27,
   "metadata": {
    "ExecuteTime": {
     "end_time": "2018-04-30T22:35:41.685345Z",
     "start_time": "2018-04-30T22:35:41.678916Z"
    }
   },
   "outputs": [
    {
     "data": {
      "text/plain": [
       "(array([5, 5, 1], dtype=uint8),\n",
       " array([[0., 0., 0., 0., 0., 1., 0., 0., 0., 0.],\n",
       "        [0., 0., 0., 0., 0., 1., 0., 0., 0., 0.],\n",
       "        [0., 1., 0., 0., 0., 0., 0., 0., 0., 0.]]))"
      ]
     },
     "execution_count": 27,
     "metadata": {},
     "output_type": "execute_result"
    }
   ],
   "source": [
    "y_trn[:3], yoh_trn[:3]"
   ]
  },
  {
   "cell_type": "markdown",
   "metadata": {},
   "source": [
    "## Training a simple linear network\n",
    "\n",
    "To start, let's train a simple linear network."
   ]
  },
  {
   "cell_type": "code",
   "execution_count": 28,
   "metadata": {
    "ExecuteTime": {
     "end_time": "2018-04-30T22:36:18.185017Z",
     "start_time": "2018-04-30T22:36:18.168901Z"
    }
   },
   "outputs": [],
   "source": [
    "linear_model = Sequential([\n",
    "    Dense(10, input_shape=(784,), activation='softmax'),\n",
    "])"
   ]
  },
  {
   "cell_type": "markdown",
   "metadata": {},
   "source": [
    "After the matrix multiplication we are using a Softmax layer."
   ]
  },
  {
   "cell_type": "code",
   "execution_count": 29,
   "metadata": {
    "ExecuteTime": {
     "end_time": "2018-04-30T22:43:01.806151Z",
     "start_time": "2018-04-30T22:43:01.801693Z"
    }
   },
   "outputs": [],
   "source": [
    "def softmax(x):\n",
    "    np.exp(x) / np.sum(np.exp(x))"
   ]
  },
  {
   "cell_type": "code",
   "execution_count": 30,
   "metadata": {
    "ExecuteTime": {
     "end_time": "2018-04-30T22:43:02.876757Z",
     "start_time": "2018-04-30T22:43:02.873053Z"
    }
   },
   "outputs": [],
   "source": [
    "x = [2, 6, 3, 5]"
   ]
  },
  {
   "cell_type": "code",
   "execution_count": 31,
   "metadata": {
    "ExecuteTime": {
     "end_time": "2018-04-30T22:43:03.104225Z",
     "start_time": "2018-04-30T22:43:03.098689Z"
    }
   },
   "outputs": [
    {
     "data": {
      "text/plain": [
       "array([  7.3890561 , 403.42879349,  20.08553692, 148.4131591 ])"
      ]
     },
     "execution_count": 31,
     "metadata": {},
     "output_type": "execute_result"
    }
   ],
   "source": [
    "np.exp(x)"
   ]
  },
  {
   "cell_type": "code",
   "execution_count": 32,
   "metadata": {
    "ExecuteTime": {
     "end_time": "2018-04-30T22:43:03.300977Z",
     "start_time": "2018-04-30T22:43:03.294208Z"
    }
   },
   "outputs": [
    {
     "data": {
      "text/plain": [
       "(array([0.01275478, 0.69638749, 0.03467109, 0.25618664]), 1.0)"
      ]
     },
     "execution_count": 32,
     "metadata": {},
     "output_type": "execute_result"
    }
   ],
   "source": [
    "out = np.exp(x) / np.sum(np.exp(x))\n",
    "out, out.sum()"
   ]
  },
  {
   "cell_type": "markdown",
   "metadata": {},
   "source": [
    "Next we need to judge how good our predictions is. For classification we use the categorical crossentropy:\n",
    "\n",
    "$L = - \\sum_c y_t^c \\log(y_p^c)$\n",
    "\n",
    "$c$ is the class, so one of our ten numbers."
   ]
  },
  {
   "cell_type": "code",
   "execution_count": 40,
   "metadata": {
    "ExecuteTime": {
     "end_time": "2018-04-30T22:48:43.647375Z",
     "start_time": "2018-04-30T22:48:43.608713Z"
    }
   },
   "outputs": [],
   "source": [
    "linear_model.compile('adam', 'categorical_crossentropy', metrics=['accuracy'])"
   ]
  },
  {
   "cell_type": "code",
   "execution_count": 41,
   "metadata": {
    "ExecuteTime": {
     "end_time": "2018-04-30T22:48:44.480328Z",
     "start_time": "2018-04-30T22:48:44.475001Z"
    }
   },
   "outputs": [
    {
     "name": "stdout",
     "output_type": "stream",
     "text": [
      "_________________________________________________________________\n",
      "Layer (type)                 Output Shape              Param #   \n",
      "=================================================================\n",
      "dense_2 (Dense)              (None, 10)                7850      \n",
      "=================================================================\n",
      "Total params: 7,850\n",
      "Trainable params: 7,850\n",
      "Non-trainable params: 0\n",
      "_________________________________________________________________\n"
     ]
    }
   ],
   "source": [
    "linear_model.summary()"
   ]
  },
  {
   "cell_type": "code",
   "execution_count": 44,
   "metadata": {
    "ExecuteTime": {
     "end_time": "2018-04-30T22:50:20.773063Z",
     "start_time": "2018-04-30T22:50:12.912631Z"
    }
   },
   "outputs": [
    {
     "name": "stdout",
     "output_type": "stream",
     "text": [
      "Train on 38400 samples, validate on 9600 samples\n",
      "Epoch 1/10\n",
      "38400/38400 [==============================] - 1s 21us/step - loss: 0.3228 - acc: 0.9096 - val_loss: 0.3116 - val_acc: 0.9184\n",
      "Epoch 2/10\n",
      "38400/38400 [==============================] - 1s 20us/step - loss: 0.3100 - acc: 0.9130 - val_loss: 0.3031 - val_acc: 0.9214\n",
      "Epoch 3/10\n",
      "38400/38400 [==============================] - 1s 21us/step - loss: 0.3014 - acc: 0.9152 - val_loss: 0.2984 - val_acc: 0.9230\n",
      "Epoch 4/10\n",
      "38400/38400 [==============================] - 1s 20us/step - loss: 0.2954 - acc: 0.9170 - val_loss: 0.2928 - val_acc: 0.9227\n",
      "Epoch 5/10\n",
      "38400/38400 [==============================] - 1s 20us/step - loss: 0.2900 - acc: 0.9186 - val_loss: 0.2900 - val_acc: 0.9237\n",
      "Epoch 6/10\n",
      "38400/38400 [==============================] - 1s 19us/step - loss: 0.2857 - acc: 0.9199 - val_loss: 0.2868 - val_acc: 0.9251\n",
      "Epoch 7/10\n",
      "38400/38400 [==============================] - 1s 19us/step - loss: 0.2818 - acc: 0.9204 - val_loss: 0.2842 - val_acc: 0.9263\n",
      "Epoch 8/10\n",
      "38400/38400 [==============================] - 1s 20us/step - loss: 0.2786 - acc: 0.9213 - val_loss: 0.2825 - val_acc: 0.9274\n",
      "Epoch 9/10\n",
      "38400/38400 [==============================] - 1s 20us/step - loss: 0.2756 - acc: 0.9220 - val_loss: 0.2829 - val_acc: 0.9263\n",
      "Epoch 10/10\n",
      "38400/38400 [==============================] - 1s 20us/step - loss: 0.2731 - acc: 0.9228 - val_loss: 0.2805 - val_acc: 0.9271\n"
     ]
    },
    {
     "data": {
      "text/plain": [
       "<keras.callbacks.History at 0x11ab2af28>"
      ]
     },
     "execution_count": 44,
     "metadata": {},
     "output_type": "execute_result"
    }
   ],
   "source": [
    "linear_model.fit(x_trn, yoh_trn, batch_size=512, epochs=10, validation_data=(x_val, yoh_val))"
   ]
  },
  {
   "cell_type": "code",
   "execution_count": 45,
   "metadata": {
    "ExecuteTime": {
     "end_time": "2018-04-30T22:50:37.357426Z",
     "start_time": "2018-04-30T22:50:37.199304Z"
    }
   },
   "outputs": [],
   "source": [
    "preds = linear_model.predict(x_val, 4096)"
   ]
  },
  {
   "cell_type": "code",
   "execution_count": 46,
   "metadata": {
    "ExecuteTime": {
     "end_time": "2018-04-30T22:50:37.930306Z",
     "start_time": "2018-04-30T22:50:37.924566Z"
    }
   },
   "outputs": [
    {
     "data": {
      "text/plain": [
       "array([[5.72473909e-05, 2.51993202e-02, 3.86591163e-03, 4.07980680e-02,\n",
       "        1.33640293e-04, 1.89266484e-02, 1.68624156e-05, 1.60237879e-03,\n",
       "        8.99161339e-01, 1.02385236e-02],\n",
       "       [9.22714826e-04, 1.34779536e-03, 7.08749369e-02, 8.78206512e-04,\n",
       "        2.63856407e-02, 8.39019252e-04, 1.08617544e-01, 1.92984535e-05,\n",
       "        7.32714891e-01, 5.73999844e-02],\n",
       "       [1.20204277e-05, 1.65531469e-06, 3.10489937e-04, 2.71605351e-03,\n",
       "        1.47874453e-04, 2.45547877e-03, 1.88120708e-07, 3.62264514e-01,\n",
       "        4.30869171e-03, 6.27783000e-01]], dtype=float32)"
      ]
     },
     "execution_count": 46,
     "metadata": {},
     "output_type": "execute_result"
    }
   ],
   "source": [
    "preds[:3]"
   ]
  },
  {
   "cell_type": "code",
   "execution_count": 47,
   "metadata": {
    "ExecuteTime": {
     "end_time": "2018-04-30T22:50:58.274875Z",
     "start_time": "2018-04-30T22:50:58.269224Z"
    }
   },
   "outputs": [
    {
     "data": {
      "text/plain": [
       "array([8, 8, 9])"
      ]
     },
     "execution_count": 47,
     "metadata": {},
     "output_type": "execute_result"
    }
   ],
   "source": [
    "num_preds = np.argmax(preds, axis=1); num_preds[:3]"
   ]
  },
  {
   "cell_type": "code",
   "execution_count": 48,
   "metadata": {
    "ExecuteTime": {
     "end_time": "2018-04-30T22:50:59.141750Z",
     "start_time": "2018-04-30T22:50:58.682251Z"
    }
   },
   "outputs": [
    {
     "data": {
      "image/png": "[encoded data removed]",
      "text/plain": [
       "<Figure size 648x648 with 9 Axes>"
      ]
     },
     "metadata": {},
     "output_type": "display_data"
    }
   ],
   "source": [
    "plots(x_val[:9].reshape(-1, 28, 28), num_preds[:9])"
   ]
  },
  {
   "cell_type": "markdown",
   "metadata": {},
   "source": [
    "## A neural network\n",
    "\n",
    "A neural network consists of several layers, connected by matrix multiplications. Layers between the input and output layer are called hidden layers. The activations in these layers are passed through a non-linear activation function.\n",
    "\n",
    "Neural networks can approximate any non-linear function: http://neuralnetworksanddeeplearning.com/chap4.html"
   ]
  },
  {
   "cell_type": "code",
   "execution_count": 55,
   "metadata": {
    "ExecuteTime": {
     "end_time": "2018-04-30T22:56:21.171868Z",
     "start_time": "2018-04-30T22:56:21.148751Z"
    }
   },
   "outputs": [],
   "source": [
    "neural_net = Sequential([\n",
    "    Dense(512, input_shape=(784,), activation='relu'),\n",
    "    Dense(10, activation='softmax'),\n",
    "])"
   ]
  },
  {
   "cell_type": "code",
   "execution_count": 56,
   "metadata": {
    "ExecuteTime": {
     "end_time": "2018-04-30T22:56:23.398762Z",
     "start_time": "2018-04-30T22:56:23.365401Z"
    }
   },
   "outputs": [],
   "source": [
    "neural_net.compile('adam', 'categorical_crossentropy', metrics=['accuracy'])"
   ]
  },
  {
   "cell_type": "code",
   "execution_count": 57,
   "metadata": {
    "ExecuteTime": {
     "end_time": "2018-04-30T22:56:23.842392Z",
     "start_time": "2018-04-30T22:56:23.835689Z"
    }
   },
   "outputs": [
    {
     "name": "stdout",
     "output_type": "stream",
     "text": [
      "_________________________________________________________________\n",
      "Layer (type)                 Output Shape              Param #   \n",
      "=================================================================\n",
      "dense_7 (Dense)              (None, 512)               401920    \n",
      "_________________________________________________________________\n",
      "dense_8 (Dense)              (None, 10)                5130      \n",
      "=================================================================\n",
      "Total params: 407,050\n",
      "Trainable params: 407,050\n",
      "Non-trainable params: 0\n",
      "_________________________________________________________________\n"
     ]
    }
   ],
   "source": [
    "neural_net.summary()"
   ]
  },
  {
   "cell_type": "code",
   "execution_count": 58,
   "metadata": {
    "ExecuteTime": {
     "end_time": "2018-04-30T22:57:00.799772Z",
     "start_time": "2018-04-30T22:56:24.723932Z"
    }
   },
   "outputs": [
    {
     "name": "stdout",
     "output_type": "stream",
     "text": [
      "Train on 38400 samples, validate on 9600 samples\n",
      "Epoch 1/10\n",
      "38400/38400 [==============================] - 4s 100us/step - loss: 0.5065 - acc: 0.8624 - val_loss: 0.2584 - val_acc: 0.9310\n",
      "Epoch 2/10\n",
      "38400/38400 [==============================] - 4s 97us/step - loss: 0.2185 - acc: 0.9384 - val_loss: 0.1901 - val_acc: 0.9484\n",
      "Epoch 3/10\n",
      "38400/38400 [==============================] - 4s 92us/step - loss: 0.1616 - acc: 0.9546 - val_loss: 0.1569 - val_acc: 0.9575\n",
      "Epoch 4/10\n",
      "38400/38400 [==============================] - 3s 90us/step - loss: 0.1279 - acc: 0.9645 - val_loss: 0.1386 - val_acc: 0.9594\n",
      "Epoch 5/10\n",
      "38400/38400 [==============================] - 4s 91us/step - loss: 0.1043 - acc: 0.9712 - val_loss: 0.1196 - val_acc: 0.9654\n",
      "Epoch 6/10\n",
      "38400/38400 [==============================] - 3s 88us/step - loss: 0.0860 - acc: 0.9772 - val_loss: 0.1101 - val_acc: 0.9673\n",
      "Epoch 7/10\n",
      "38400/38400 [==============================] - 4s 94us/step - loss: 0.0713 - acc: 0.9814 - val_loss: 0.1037 - val_acc: 0.9697\n",
      "Epoch 8/10\n",
      "38400/38400 [==============================] - 4s 92us/step - loss: 0.0611 - acc: 0.9847 - val_loss: 0.0948 - val_acc: 0.9698\n",
      "Epoch 9/10\n",
      "38400/38400 [==============================] - 4s 92us/step - loss: 0.0499 - acc: 0.9873 - val_loss: 0.0893 - val_acc: 0.9716\n",
      "Epoch 10/10\n",
      "38400/38400 [==============================] - 3s 91us/step - loss: 0.0422 - acc: 0.9904 - val_loss: 0.0870 - val_acc: 0.9733\n"
     ]
    },
    {
     "data": {
      "text/plain": [
       "<keras.callbacks.History at 0x11b191dd8>"
      ]
     },
     "execution_count": 58,
     "metadata": {},
     "output_type": "execute_result"
    }
   ],
   "source": [
    "neural_net.fit(x_trn, yoh_trn, batch_size=512, epochs=10, validation_data=(x_val, yoh_val))"
   ]
  },
  {
   "cell_type": "markdown",
   "metadata": {},
   "source": [
    "### Deep neural networks"
   ]
  },
  {
   "cell_type": "code",
   "execution_count": 59,
   "metadata": {
    "ExecuteTime": {
     "end_time": "2018-04-30T22:57:39.997705Z",
     "start_time": "2018-04-30T22:57:39.914383Z"
    }
   },
   "outputs": [],
   "source": [
    "deep_net = Sequential([\n",
    "    Dense(512, input_shape=(784,), activation='relu'),\n",
    "    Dropout(0.3),\n",
    "    Dense(256, activation='relu'),\n",
    "    Dropout(0.3),\n",
    "    Dense(256, activation='relu'),\n",
    "    Dropout(0.3),\n",
    "    Dense(10, activation='softmax'),\n",
    "])"
   ]
  },
  {
   "cell_type": "code",
   "execution_count": 60,
   "metadata": {
    "ExecuteTime": {
     "end_time": "2018-04-30T22:57:40.836916Z",
     "start_time": "2018-04-30T22:57:40.801337Z"
    }
   },
   "outputs": [],
   "source": [
    "deep_net.compile('adam', 'categorical_crossentropy', metrics=['accuracy'])"
   ]
  },
  {
   "cell_type": "code",
   "execution_count": 61,
   "metadata": {
    "ExecuteTime": {
     "end_time": "2018-04-30T22:57:41.323573Z",
     "start_time": "2018-04-30T22:57:41.316389Z"
    }
   },
   "outputs": [
    {
     "name": "stdout",
     "output_type": "stream",
     "text": [
      "_________________________________________________________________\n",
      "Layer (type)                 Output Shape              Param #   \n",
      "=================================================================\n",
      "dense_9 (Dense)              (None, 512)               401920    \n",
      "_________________________________________________________________\n",
      "dropout_1 (Dropout)          (None, 512)               0         \n",
      "_________________________________________________________________\n",
      "dense_10 (Dense)             (None, 256)               131328    \n",
      "_________________________________________________________________\n",
      "dropout_2 (Dropout)          (None, 256)               0         \n",
      "_________________________________________________________________\n",
      "dense_11 (Dense)             (None, 256)               65792     \n",
      "_________________________________________________________________\n",
      "dropout_3 (Dropout)          (None, 256)               0         \n",
      "_________________________________________________________________\n",
      "dense_12 (Dense)             (None, 10)                2570      \n",
      "=================================================================\n",
      "Total params: 601,610\n",
      "Trainable params: 601,610\n",
      "Non-trainable params: 0\n",
      "_________________________________________________________________\n"
     ]
    }
   ],
   "source": [
    "deep_net.summary()"
   ]
  },
  {
   "cell_type": "code",
   "execution_count": 62,
   "metadata": {
    "ExecuteTime": {
     "end_time": "2018-04-30T22:58:50.635674Z",
     "start_time": "2018-04-30T22:57:42.508491Z"
    },
    "scrolled": true
   },
   "outputs": [
    {
     "name": "stdout",
     "output_type": "stream",
     "text": [
      "Train on 38400 samples, validate on 9600 samples\n",
      "Epoch 1/10\n",
      "38400/38400 [==============================] - 7s 179us/step - loss: 0.6455 - acc: 0.7998 - val_loss: 0.2005 - val_acc: 0.9428\n",
      "Epoch 2/10\n",
      "38400/38400 [==============================] - 6s 166us/step - loss: 0.2149 - acc: 0.9359 - val_loss: 0.1335 - val_acc: 0.9606\n",
      "Epoch 3/10\n",
      "38400/38400 [==============================] - 6s 163us/step - loss: 0.1525 - acc: 0.9547 - val_loss: 0.1072 - val_acc: 0.9678\n",
      "Epoch 4/10\n",
      "38400/38400 [==============================] - 6s 168us/step - loss: 0.1168 - acc: 0.9640 - val_loss: 0.0955 - val_acc: 0.9716\n",
      "Epoch 5/10\n",
      "38400/38400 [==============================] - 7s 172us/step - loss: 0.0951 - acc: 0.9712 - val_loss: 0.0837 - val_acc: 0.9741\n",
      "Epoch 6/10\n",
      "38400/38400 [==============================] - 6s 169us/step - loss: 0.0836 - acc: 0.9729 - val_loss: 0.0823 - val_acc: 0.9761\n",
      "Epoch 7/10\n",
      "38400/38400 [==============================] - 7s 181us/step - loss: 0.0676 - acc: 0.9788 - val_loss: 0.0819 - val_acc: 0.9775\n",
      "Epoch 8/10\n",
      "38400/38400 [==============================] - 7s 182us/step - loss: 0.0595 - acc: 0.9814 - val_loss: 0.0762 - val_acc: 0.9776\n",
      "Epoch 9/10\n",
      "38400/38400 [==============================] - 7s 189us/step - loss: 0.0528 - acc: 0.9831 - val_loss: 0.0733 - val_acc: 0.9796\n",
      "Epoch 10/10\n",
      "38400/38400 [==============================] - 7s 195us/step - loss: 0.0496 - acc: 0.9843 - val_loss: 0.0763 - val_acc: 0.9788\n"
     ]
    },
    {
     "data": {
      "text/plain": [
       "<keras.callbacks.History at 0x11ab7e5f8>"
      ]
     },
     "execution_count": 62,
     "metadata": {},
     "output_type": "execute_result"
    }
   ],
   "source": [
    "deep_net.fit(x_trn, yoh_trn, batch_size=512, epochs=10, validation_data=(x_val, yoh_val))"
   ]
  },
  {
   "cell_type": "code",
   "execution_count": 63,
   "metadata": {
    "ExecuteTime": {
     "end_time": "2018-04-30T22:59:58.672681Z",
     "start_time": "2018-04-30T22:58:50.638448Z"
    }
   },
   "outputs": [
    {
     "name": "stdout",
     "output_type": "stream",
     "text": [
      "Train on 38400 samples, validate on 9600 samples\n",
      "Epoch 1/10\n",
      "38400/38400 [==============================] - 7s 176us/step - loss: 0.0415 - acc: 0.9866 - val_loss: 0.0753 - val_acc: 0.9793\n",
      "Epoch 2/10\n",
      "38400/38400 [==============================] - 7s 176us/step - loss: 0.0372 - acc: 0.9877 - val_loss: 0.0784 - val_acc: 0.9797\n",
      "Epoch 3/10\n",
      "38400/38400 [==============================] - 7s 175us/step - loss: 0.0344 - acc: 0.9884 - val_loss: 0.0765 - val_acc: 0.9801\n",
      "Epoch 4/10\n",
      "38400/38400 [==============================] - 8s 209us/step - loss: 0.0309 - acc: 0.9901 - val_loss: 0.0823 - val_acc: 0.9797\n",
      "Epoch 5/10\n",
      "38400/38400 [==============================] - 7s 185us/step - loss: 0.0301 - acc: 0.9896 - val_loss: 0.0784 - val_acc: 0.9798\n",
      "Epoch 6/10\n",
      "38400/38400 [==============================] - 6s 168us/step - loss: 0.0309 - acc: 0.9899 - val_loss: 0.0794 - val_acc: 0.9792\n",
      "Epoch 7/10\n",
      "38400/38400 [==============================] - 6s 165us/step - loss: 0.0290 - acc: 0.9909 - val_loss: 0.0814 - val_acc: 0.9800\n",
      "Epoch 8/10\n",
      "38400/38400 [==============================] - 7s 175us/step - loss: 0.0235 - acc: 0.9924 - val_loss: 0.0808 - val_acc: 0.9804\n",
      "Epoch 9/10\n",
      "38400/38400 [==============================] - 7s 175us/step - loss: 0.0221 - acc: 0.9928 - val_loss: 0.0843 - val_acc: 0.9798\n",
      "Epoch 10/10\n",
      "38400/38400 [==============================] - 6s 167us/step - loss: 0.0244 - acc: 0.9919 - val_loss: 0.0834 - val_acc: 0.9805\n"
     ]
    },
    {
     "data": {
      "text/plain": [
       "<keras.callbacks.History at 0x11d9a4ba8>"
      ]
     },
     "execution_count": 63,
     "metadata": {},
     "output_type": "execute_result"
    }
   ],
   "source": [
    "deep_net.optimizer.lr=1e-4\n",
    "deep_net.fit(x_trn, yoh_trn, batch_size=512, epochs=10, validation_data=(x_val, yoh_val))"
   ]
  },
  {
   "cell_type": "markdown",
   "metadata": {},
   "source": [
    "## Convolutions\n",
    "\n",
    "To take advantage of the spatial information in images we can use convolutions rather than fully connected layers.\n",
    "\n",
    "http://setosa.io/ev/image-kernels/"
   ]
  },
  {
   "cell_type": "code",
   "execution_count": 64,
   "metadata": {
    "ExecuteTime": {
     "end_time": "2018-04-30T23:00:49.112793Z",
     "start_time": "2018-04-30T23:00:49.052102Z"
    }
   },
   "outputs": [],
   "source": [
    "conv_net = Sequential([\n",
    "    Conv2D(32, kernel_size=5, strides=2, activation='relu', padding='same', input_shape=(28, 28, 1)),\n",
    "    Conv2D(64, kernel_size=3, strides=2, activation='relu', padding='same'),\n",
    "    Conv2D(128, kernel_size=3, strides=2, activation='relu', padding='same'),\n",
    "    Conv2D(10, kernel_size=3, strides=2, padding='same'),\n",
    "    GlobalAveragePooling2D(),\n",
    "    Activation('softmax')\n",
    "])"
   ]
  },
  {
   "cell_type": "code",
   "execution_count": 65,
   "metadata": {
    "ExecuteTime": {
     "end_time": "2018-04-30T23:00:49.627323Z",
     "start_time": "2018-04-30T23:00:49.620786Z"
    }
   },
   "outputs": [
    {
     "name": "stdout",
     "output_type": "stream",
     "text": [
      "_________________________________________________________________\n",
      "Layer (type)                 Output Shape              Param #   \n",
      "=================================================================\n",
      "conv2d_1 (Conv2D)            (None, 14, 14, 32)        832       \n",
      "_________________________________________________________________\n",
      "conv2d_2 (Conv2D)            (None, 7, 7, 64)          18496     \n",
      "_________________________________________________________________\n",
      "conv2d_3 (Conv2D)            (None, 4, 4, 128)         73856     \n",
      "_________________________________________________________________\n",
      "conv2d_4 (Conv2D)            (None, 2, 2, 10)          11530     \n",
      "_________________________________________________________________\n",
      "global_average_pooling2d_1 ( (None, 10)                0         \n",
      "_________________________________________________________________\n",
      "activation_1 (Activation)    (None, 10)                0         \n",
      "=================================================================\n",
      "Total params: 104,714\n",
      "Trainable params: 104,714\n",
      "Non-trainable params: 0\n",
      "_________________________________________________________________\n"
     ]
    }
   ],
   "source": [
    "conv_net.summary()"
   ]
  },
  {
   "cell_type": "code",
   "execution_count": 66,
   "metadata": {
    "ExecuteTime": {
     "end_time": "2018-04-30T23:00:50.359821Z",
     "start_time": "2018-04-30T23:00:50.324117Z"
    }
   },
   "outputs": [],
   "source": [
    "conv_net.compile('adam', 'categorical_crossentropy', metrics=['accuracy'])"
   ]
  },
  {
   "cell_type": "code",
   "execution_count": 67,
   "metadata": {
    "ExecuteTime": {
     "end_time": "2018-04-30T23:05:50.529986Z",
     "start_time": "2018-04-30T23:00:51.230921Z"
    }
   },
   "outputs": [
    {
     "name": "stdout",
     "output_type": "stream",
     "text": [
      "Train on 38400 samples, validate on 9600 samples\n",
      "Epoch 1/10\n",
      "38400/38400 [==============================] - 27s 700us/step - loss: 0.9417 - acc: 0.7220 - val_loss: 0.3708 - val_acc: 0.8921\n",
      "Epoch 2/10\n",
      "38400/38400 [==============================] - 29s 751us/step - loss: 0.3117 - acc: 0.9082 - val_loss: 0.2383 - val_acc: 0.9367\n",
      "Epoch 3/10\n",
      "38400/38400 [==============================] - 29s 755us/step - loss: 0.2111 - acc: 0.9371 - val_loss: 0.1735 - val_acc: 0.9467\n",
      "Epoch 4/10\n",
      "38400/38400 [==============================] - 35s 901us/step - loss: 0.1521 - acc: 0.9546 - val_loss: 0.1258 - val_acc: 0.9616\n",
      "Epoch 5/10\n",
      "38400/38400 [==============================] - 31s 815us/step - loss: 0.1168 - acc: 0.9645 - val_loss: 0.1038 - val_acc: 0.9678\n",
      "Epoch 6/10\n",
      "38400/38400 [==============================] - 30s 782us/step - loss: 0.0955 - acc: 0.9714 - val_loss: 0.0849 - val_acc: 0.9749\n",
      "Epoch 7/10\n",
      "38400/38400 [==============================] - 31s 816us/step - loss: 0.0806 - acc: 0.9758 - val_loss: 0.0798 - val_acc: 0.9752\n",
      "Epoch 8/10\n",
      "38400/38400 [==============================] - 30s 786us/step - loss: 0.0733 - acc: 0.9777 - val_loss: 0.0768 - val_acc: 0.9761\n",
      "Epoch 9/10\n",
      "38400/38400 [==============================] - 29s 754us/step - loss: 0.0648 - acc: 0.9805 - val_loss: 0.0737 - val_acc: 0.9768\n",
      "Epoch 10/10\n",
      "38400/38400 [==============================] - 28s 724us/step - loss: 0.0559 - acc: 0.9833 - val_loss: 0.0685 - val_acc: 0.9807\n"
     ]
    },
    {
     "data": {
      "text/plain": [
       "<keras.callbacks.History at 0x106036710>"
      ]
     },
     "execution_count": 67,
     "metadata": {},
     "output_type": "execute_result"
    }
   ],
   "source": [
    "conv_net.fit(x_trn.reshape(-1, 28, 28, 1), yoh_trn, batch_size=512, epochs=10, \n",
    "             validation_data=(x_val.reshape(-1, 28, 28, 1), yoh_val))"
   ]
  },
  {
   "cell_type": "markdown",
   "metadata": {},
   "source": [
    "## End"
   ]
  }
 ],
 "metadata": {
  "kernelspec": {
   "display_name": "Python 3",
   "language": "python",
   "name": "python3"
  },
  "language_info": {
   "codemirror_mode": {
    "name": "ipython",
    "version": 3
   },
   "file_extension": ".py",
   "mimetype": "text/x-python",
   "name": "python",
   "nbconvert_exporter": "python",
   "pygments_lexer": "ipython3",
   "version": "3.6.5"
  },
  "toc": {
   "nav_menu": {},
   "number_sections": true,
   "sideBar": false,
   "skip_h1_title": true,
   "toc_cell": false,
   "toc_position": {},
   "toc_section_display": "block",
   "toc_window_display": false
  }
 },
 "nbformat": 4,
 "nbformat_minor": 2
}
