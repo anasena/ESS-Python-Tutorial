{
 "cells": [
  {
   "cell_type": "markdown",
   "metadata": {},
   "source": [
    "# xarray Introduction\n",
    "\n",
    "xarray is a Python library for handling multi-dimensional arrays with coordinates. It is based on the NetCDF data format, but can also read and write other formats.\n",
    "\n",
    "This notebook just serves as a first introduction, for more check out the examples in the documentation: http://xarray.pydata.org/en/stable/examples.html"
   ]
  },
  {
   "cell_type": "code",
   "execution_count": 1,
   "metadata": {
    "collapsed": true
   },
   "outputs": [],
   "source": [
    "import xarray as xr\n",
    "import numpy as np\n",
    "import matplotlib.pyplot as plt\n",
    "%matplotlib inline"
   ]
  },
  {
   "cell_type": "markdown",
   "metadata": {},
   "source": [
    "## Opening a files as a dataset\n",
    "\n",
    "xarray has two basic objects: Datasets and DataArrays. Datasets contain multiple variables (e.g. temperature, humidity, etc.) while DataArrays just contain one variables. Datasets therefore are a combination of multiple DataArrays."
   ]
  },
  {
   "cell_type": "code",
   "execution_count": 2,
   "metadata": {},
   "outputs": [],
   "source": [
    "ds = xr.open_dataset('CAM01.nc', decode_times=False)"
   ]
  },
  {
   "cell_type": "markdown",
   "metadata": {},
   "source": [
    "Because this file does not have correctly encoded times, we use the `decode_times=False` option. Whenever you see an error or a warning about `unable to decode time axis`, just use this option!"
   ]
  },
  {
   "cell_type": "code",
   "execution_count": 3,
   "metadata": {},
   "outputs": [
    {
     "data": {
      "text/plain": [
       "<xarray.Dataset>\n",
       "Dimensions:  (lat: 64, lev: 30, lon: 128, time: 24)\n",
       "Coordinates:\n",
       "  * lat      (lat) float64 -87.86 -85.1 -82.31 -79.53 -76.74 -73.95 -71.16 ...\n",
       "  * lon      (lon) float64 0.0 2.812 5.625 8.438 11.25 14.06 16.88 19.69 ...\n",
       "  * lev      (lev) float64 3.643 7.595 14.36 24.61 38.27 54.6 72.01 87.82 ...\n",
       "  * time     (time) float64 0.0 0.04167 0.08333 0.125 0.1667 0.2083 0.25 ...\n",
       "Data variables:\n",
       "    TAP      (time, lev, lat, lon) float32 ...\n",
       "    SOLIN    (time, lat, lon) float32 ..."
      ]
     },
     "execution_count": 3,
     "metadata": {},
     "output_type": "execute_result"
    }
   ],
   "source": [
    "ds"
   ]
  },
  {
   "cell_type": "markdown",
   "metadata": {},
   "source": [
    "Datasets have dimensions, each of which comes with a coordinate array, specifying for example the longitude. Datasets also have one or more data variables. In our case we have TAP (Temperature), which has 4 dimensions, and SOLIN (incoming solar radiation) which has 3 dimensions.\n",
    "\n",
    "We can grab one of these variables like so:"
   ]
  },
  {
   "cell_type": "code",
   "execution_count": 4,
   "metadata": {},
   "outputs": [
    {
     "data": {
      "text/plain": [
       "<xarray.DataArray 'TAP' (time: 24, lev: 30, lat: 64, lon: 128)>\n",
       "[5898240 values with dtype=float32]\n",
       "Coordinates:\n",
       "  * lat      (lat) float64 -87.86 -85.1 -82.31 -79.53 -76.74 -73.95 -71.16 ...\n",
       "  * lon      (lon) float64 0.0 2.812 5.625 8.438 11.25 14.06 16.88 19.69 ...\n",
       "  * lev      (lev) float64 3.643 7.595 14.36 24.61 38.27 54.6 72.01 87.82 ...\n",
       "  * time     (time) float64 0.0 0.04167 0.08333 0.125 0.1667 0.2083 0.25 ...\n",
       "Attributes:\n",
       "    units:      K\n",
       "    long_name:  T after physics"
      ]
     },
     "execution_count": 4,
     "metadata": {},
     "output_type": "execute_result"
    }
   ],
   "source": [
    "TAP = ds['TAP']; TAP"
   ]
  },
  {
   "cell_type": "markdown",
   "metadata": {},
   "source": [
    "This is now a DataArray. As you can see it also has coordinates and dimensions, and additionally attributes such as units."
   ]
  },
  {
   "cell_type": "markdown",
   "metadata": {},
   "source": [
    "## Indexing\n",
    "\n",
    "Next, we will look at how indexing, i.e. selecting parts of the data, works. There are two basic methods. Selecting by integers/index, similarly to what you wold do in numpy and selecting by label.\n",
    "\n",
    "Let's start by selecting a latitude by index."
   ]
  },
  {
   "cell_type": "code",
   "execution_count": 5,
   "metadata": {},
   "outputs": [
    {
     "data": {
      "text/plain": [
       "<xarray.Dataset>\n",
       "Dimensions:  (lev: 30, lon: 128, time: 24)\n",
       "Coordinates:\n",
       "    lat      float64 -32.09\n",
       "  * lon      (lon) float64 0.0 2.812 5.625 8.438 11.25 14.06 16.88 19.69 ...\n",
       "  * lev      (lev) float64 3.643 7.595 14.36 24.61 38.27 54.6 72.01 87.82 ...\n",
       "  * time     (time) float64 0.0 0.04167 0.08333 0.125 0.1667 0.2083 0.25 ...\n",
       "Data variables:\n",
       "    TAP      (time, lev, lon) float32 ...\n",
       "    SOLIN    (time, lon) float32 ..."
      ]
     },
     "execution_count": 5,
     "metadata": {},
     "output_type": "execute_result"
    }
   ],
   "source": [
    "ds.isel(lat=20)"
   ]
  },
  {
   "cell_type": "markdown",
   "metadata": {},
   "source": [
    "We can also select several dimensions at once."
   ]
  },
  {
   "cell_type": "code",
   "execution_count": 6,
   "metadata": {},
   "outputs": [
    {
     "data": {
      "text/plain": [
       "<xarray.Dataset>\n",
       "Dimensions:  ()\n",
       "Coordinates:\n",
       "    lat      float64 -32.09\n",
       "    lon      float64 28.12\n",
       "    lev      float64 14.36\n",
       "    time     float64 0.2083\n",
       "Data variables:\n",
       "    TAP      float32 ...\n",
       "    SOLIN    float32 ..."
      ]
     },
     "execution_count": 6,
     "metadata": {},
     "output_type": "execute_result"
    }
   ],
   "source": [
    "ds.isel(lat=20, lon=10, lev=2, time=5)"
   ]
  },
  {
   "cell_type": "markdown",
   "metadata": {},
   "source": [
    "If we want to select a range of values, we can use the Python slice object, which indicates from where to where we would like to grab the values for each dimension."
   ]
  },
  {
   "cell_type": "code",
   "execution_count": 7,
   "metadata": {},
   "outputs": [
    {
     "data": {
      "text/plain": [
       "<xarray.Dataset>\n",
       "Dimensions:  (lat: 2, lon: 5, time: 24)\n",
       "Coordinates:\n",
       "  * lat      (lat) float64 -82.31 -79.53\n",
       "  * lon      (lon) float64 28.12 30.94 33.75 36.56 39.38\n",
       "    lev      float64 691.4\n",
       "  * time     (time) float64 0.0 0.04167 0.08333 0.125 0.1667 0.2083 0.25 ...\n",
       "Data variables:\n",
       "    TAP      (time, lat, lon) float32 ...\n",
       "    SOLIN    (time, lat, lon) float32 ..."
      ]
     },
     "execution_count": 7,
     "metadata": {},
     "output_type": "execute_result"
    }
   ],
   "source": [
    "ds.isel(lat=slice(2, 4), lon=slice(10, 15), lev=20)"
   ]
  },
  {
   "cell_type": "markdown",
   "metadata": {},
   "source": [
    "For DataArrays we can use the exact same syntax, but we can also use the traditional numpy indexing."
   ]
  },
  {
   "cell_type": "code",
   "execution_count": 8,
   "metadata": {},
   "outputs": [
    {
     "data": {
      "text/plain": [
       "<xarray.DataArray 'TAP' (time: 24, lev: 30, lat: 64, lon: 128)>\n",
       "[5898240 values with dtype=float32]\n",
       "Coordinates:\n",
       "  * lat      (lat) float64 -87.86 -85.1 -82.31 -79.53 -76.74 -73.95 -71.16 ...\n",
       "  * lon      (lon) float64 0.0 2.812 5.625 8.438 11.25 14.06 16.88 19.69 ...\n",
       "  * lev      (lev) float64 3.643 7.595 14.36 24.61 38.27 54.6 72.01 87.82 ...\n",
       "  * time     (time) float64 0.0 0.04167 0.08333 0.125 0.1667 0.2083 0.25 ...\n",
       "Attributes:\n",
       "    units:      K\n",
       "    long_name:  T after physics"
      ]
     },
     "execution_count": 8,
     "metadata": {},
     "output_type": "execute_result"
    }
   ],
   "source": [
    "TAP"
   ]
  },
  {
   "cell_type": "code",
   "execution_count": 9,
   "metadata": {},
   "outputs": [
    {
     "data": {
      "text/plain": [
       "<xarray.DataArray 'TAP' (time: 5, lev: 30, lon: 128)>\n",
       "array([[[ 244.217575,  244.21225 , ...,  244.44072 ,  244.286987],\n",
       "        [ 233.10199 ,  232.931168, ...,  233.212982,  233.215988],\n",
       "        ..., \n",
       "        [ 272.335968,  272.294495, ...,  272.567627,  272.447235],\n",
       "        [ 273.428131,  273.599365, ...,  274.010529,  273.811646]],\n",
       "\n",
       "       [[ 244.155823,  244.191101, ...,  244.321701,  244.188507],\n",
       "        [ 233.004333,  232.846603, ...,  233.123032,  233.113953],\n",
       "        ..., \n",
       "        [ 272.241425,  272.239594, ...,  272.519867,  272.321991],\n",
       "        [ 273.512177,  273.387909, ...,  273.911652,  273.635071]],\n",
       "\n",
       "       ..., \n",
       "       [[ 244.192627,  244.25264 , ...,  244.251068,  244.172531],\n",
       "        [ 232.976517,  232.856491, ...,  233.136703,  233.104523],\n",
       "        ..., \n",
       "        [ 272.212189,  272.1633  , ...,  272.543304,  272.260986],\n",
       "        [ 273.472137,  273.450958, ...,  273.884674,  273.574402]],\n",
       "\n",
       "       [[ 244.323776,  244.376465, ...,  244.337234,  244.286957],\n",
       "        [ 233.112808,  233.007767, ...,  233.26767 ,  233.245895],\n",
       "        ..., \n",
       "        [ 272.199768,  272.166595, ...,  272.484131,  272.290741],\n",
       "        [ 273.568726,  273.536957, ...,  273.763458,  273.581177]]], dtype=float32)\n",
       "Coordinates:\n",
       "    lat      float64 -60.0\n",
       "  * lon      (lon) float64 0.0 2.812 5.625 8.438 11.25 14.06 16.88 19.69 ...\n",
       "  * lev      (lev) float64 3.643 7.595 14.36 24.61 38.27 54.6 72.01 87.82 ...\n",
       "  * time     (time) float64 0.2083 0.25 0.2917 0.3333 0.375\n",
       "Attributes:\n",
       "    units:      K\n",
       "    long_name:  T after physics"
      ]
     },
     "execution_count": 9,
     "metadata": {},
     "output_type": "execute_result"
    }
   ],
   "source": [
    "TAP.isel(time=slice(5,10), lat=10)"
   ]
  },
  {
   "cell_type": "code",
   "execution_count": 10,
   "metadata": {},
   "outputs": [
    {
     "data": {
      "text/plain": [
       "<xarray.DataArray 'TAP' (time: 5, lev: 30, lon: 128)>\n",
       "array([[[ 244.217575,  244.21225 , ...,  244.44072 ,  244.286987],\n",
       "        [ 233.10199 ,  232.931168, ...,  233.212982,  233.215988],\n",
       "        ..., \n",
       "        [ 272.335968,  272.294495, ...,  272.567627,  272.447235],\n",
       "        [ 273.428131,  273.599365, ...,  274.010529,  273.811646]],\n",
       "\n",
       "       [[ 244.155823,  244.191101, ...,  244.321701,  244.188507],\n",
       "        [ 233.004333,  232.846603, ...,  233.123032,  233.113953],\n",
       "        ..., \n",
       "        [ 272.241425,  272.239594, ...,  272.519867,  272.321991],\n",
       "        [ 273.512177,  273.387909, ...,  273.911652,  273.635071]],\n",
       "\n",
       "       ..., \n",
       "       [[ 244.192627,  244.25264 , ...,  244.251068,  244.172531],\n",
       "        [ 232.976517,  232.856491, ...,  233.136703,  233.104523],\n",
       "        ..., \n",
       "        [ 272.212189,  272.1633  , ...,  272.543304,  272.260986],\n",
       "        [ 273.472137,  273.450958, ...,  273.884674,  273.574402]],\n",
       "\n",
       "       [[ 244.323776,  244.376465, ...,  244.337234,  244.286957],\n",
       "        [ 233.112808,  233.007767, ...,  233.26767 ,  233.245895],\n",
       "        ..., \n",
       "        [ 272.199768,  272.166595, ...,  272.484131,  272.290741],\n",
       "        [ 273.568726,  273.536957, ...,  273.763458,  273.581177]]], dtype=float32)\n",
       "Coordinates:\n",
       "    lat      float64 -60.0\n",
       "  * lon      (lon) float64 0.0 2.812 5.625 8.438 11.25 14.06 16.88 19.69 ...\n",
       "  * lev      (lev) float64 3.643 7.595 14.36 24.61 38.27 54.6 72.01 87.82 ...\n",
       "  * time     (time) float64 0.2083 0.25 0.2917 0.3333 0.375\n",
       "Attributes:\n",
       "    units:      K\n",
       "    long_name:  T after physics"
      ]
     },
     "execution_count": 10,
     "metadata": {},
     "output_type": "execute_result"
    }
   ],
   "source": [
    "TAP[5:10, :, 10]"
   ]
  },
  {
   "cell_type": "markdown",
   "metadata": {},
   "source": [
    "Now on to indexing by label. For this we use the `sel` command. Because our coordinates are floats, we have to use the `method='nearest'` option."
   ]
  },
  {
   "cell_type": "code",
   "execution_count": 11,
   "metadata": {},
   "outputs": [
    {
     "data": {
      "text/plain": [
       "<xarray.Dataset>\n",
       "Dimensions:  (lev: 30, lon: 128, time: 24)\n",
       "Coordinates:\n",
       "    lat      float64 20.93\n",
       "  * lon      (lon) float64 0.0 2.812 5.625 8.438 11.25 14.06 16.88 19.69 ...\n",
       "  * lev      (lev) float64 3.643 7.595 14.36 24.61 38.27 54.6 72.01 87.82 ...\n",
       "  * time     (time) float64 0.0 0.04167 0.08333 0.125 0.1667 0.2083 0.25 ...\n",
       "Data variables:\n",
       "    TAP      (time, lev, lon) float32 ...\n",
       "    SOLIN    (time, lon) float32 ..."
      ]
     },
     "execution_count": 11,
     "metadata": {},
     "output_type": "execute_result"
    }
   ],
   "source": [
    "ds.sel(lat=20, method='nearest')"
   ]
  },
  {
   "cell_type": "markdown",
   "metadata": {},
   "source": [
    "As above we can pass a slice object to grab a range of values. Here now, we must not use the nearest method."
   ]
  },
  {
   "cell_type": "code",
   "execution_count": 12,
   "metadata": {},
   "outputs": [
    {
     "data": {
      "text/plain": [
       "<xarray.Dataset>\n",
       "Dimensions:  (lat: 8, lev: 30, lon: 7, time: 24)\n",
       "Coordinates:\n",
       "  * lat      (lat) float64 -9.767 -6.977 -4.186 -1.395 1.395 4.186 6.977 9.767\n",
       "  * lon      (lon) float64 22.5 25.31 28.12 30.94 33.75 36.56 39.38\n",
       "  * lev      (lev) float64 3.643 7.595 14.36 24.61 38.27 54.6 72.01 87.82 ...\n",
       "  * time     (time) float64 0.0 0.04167 0.08333 0.125 0.1667 0.2083 0.25 ...\n",
       "Data variables:\n",
       "    TAP      (time, lev, lat, lon) float32 ...\n",
       "    SOLIN    (time, lat, lon) float32 ..."
      ]
     },
     "execution_count": 12,
     "metadata": {},
     "output_type": "execute_result"
    }
   ],
   "source": [
    "ds.sel(lat=slice(-10, 10), lon=slice(20, 40))"
   ]
  },
  {
   "cell_type": "markdown",
   "metadata": {},
   "source": [
    "We can also combine the different methods. If we wanted to select a certain longitude-latitude range by label (i.e. degrees) and additionally the 20th model level we can just do it in turn."
   ]
  },
  {
   "cell_type": "code",
   "execution_count": 13,
   "metadata": {},
   "outputs": [
    {
     "data": {
      "text/plain": [
       "<xarray.Dataset>\n",
       "Dimensions:  (lat: 8, lon: 7, time: 24)\n",
       "Coordinates:\n",
       "  * lat      (lat) float64 -9.767 -6.977 -4.186 -1.395 1.395 4.186 6.977 9.767\n",
       "  * lon      (lon) float64 22.5 25.31 28.12 30.94 33.75 36.56 39.38\n",
       "    lev      float64 691.4\n",
       "  * time     (time) float64 0.0 0.04167 0.08333 0.125 0.1667 0.2083 0.25 ...\n",
       "Data variables:\n",
       "    TAP      (time, lat, lon) float32 ...\n",
       "    SOLIN    (time, lat, lon) float32 ..."
      ]
     },
     "execution_count": 13,
     "metadata": {},
     "output_type": "execute_result"
    }
   ],
   "source": [
    "ds.sel(lat=slice(-10, 10), lon=slice(20, 40)).isel(lev=20)"
   ]
  },
  {
   "cell_type": "markdown",
   "metadata": {},
   "source": [
    "Again, this indexing method also works for DataArrays"
   ]
  },
  {
   "cell_type": "code",
   "execution_count": 14,
   "metadata": {},
   "outputs": [
    {
     "data": {
      "text/plain": [
       "<xarray.DataArray 'TAP' (time: 24, lat: 8, lon: 7)>\n",
       "array([[[ 283.465546,  283.025513, ...,  281.463745,  281.193878],\n",
       "        [ 283.612   ,  283.174133, ...,  281.939758,  282.270233],\n",
       "        ..., \n",
       "        [ 282.480804,  282.576263, ...,  283.051025,  283.005829],\n",
       "        [ 282.079468,  281.920898, ...,  283.57135 ,  283.292358]],\n",
       "\n",
       "       [[ 283.170349,  282.834045, ...,  281.374786,  281.141785],\n",
       "        [ 283.470795,  283.065338, ...,  281.741791,  282.05191 ],\n",
       "        ..., \n",
       "        [ 282.45932 ,  282.835358, ...,  282.872894,  282.315857],\n",
       "        [ 281.86319 ,  281.851044, ...,  283.500763,  282.934448]],\n",
       "\n",
       "       ..., \n",
       "       [[ 283.333923,  283.22934 , ...,  282.688019,  283.017426],\n",
       "        [ 282.866608,  282.889618, ...,  283.27005 ,  283.988922],\n",
       "        ..., \n",
       "        [ 282.696259,  283.405334, ...,  282.56427 ,  283.458954],\n",
       "        [ 282.639404,  282.346252, ...,  281.285553,  282.294556]],\n",
       "\n",
       "       [[ 283.280945,  283.127289, ...,  282.594757,  282.9711  ],\n",
       "        [ 282.73407 ,  282.770325, ...,  283.311768,  283.993744],\n",
       "        ..., \n",
       "        [ 282.363586,  283.274933, ...,  282.619965,  283.541046],\n",
       "        [ 282.369202,  282.235718, ...,  281.19281 ,  282.444611]]], dtype=float32)\n",
       "Coordinates:\n",
       "  * lat      (lat) float64 -9.767 -6.977 -4.186 -1.395 1.395 4.186 6.977 9.767\n",
       "  * lon      (lon) float64 22.5 25.31 28.12 30.94 33.75 36.56 39.38\n",
       "    lev      float64 691.4\n",
       "  * time     (time) float64 0.0 0.04167 0.08333 0.125 0.1667 0.2083 0.25 ...\n",
       "Attributes:\n",
       "    units:      K\n",
       "    long_name:  T after physics"
      ]
     },
     "execution_count": 14,
     "metadata": {},
     "output_type": "execute_result"
    }
   ],
   "source": [
    "TAP.sel(lat=slice(-10, 10), lon=slice(20, 40)).isel(lev=20)"
   ]
  },
  {
   "cell_type": "markdown",
   "metadata": {},
   "source": [
    "There is much more information on indexing, particularly with encoded times: http://xarray.pydata.org/en/stable/indexing.html\n",
    "\n",
    "http://xarray.pydata.org/en/stable/time-series.html\n",
    "\n",
    "Finally, we can easily convert a DataArray to a numpy array by adding `.values`"
   ]
  },
  {
   "cell_type": "code",
   "execution_count": 15,
   "metadata": {},
   "outputs": [
    {
     "data": {
      "text/plain": [
       "array([[ 283.46554565,  283.0255127 ,  282.4046936 ,  282.04602051,\n",
       "         281.659729  ,  281.46374512,  281.19387817],\n",
       "       [ 283.61199951,  283.1741333 ,  282.88516235,  282.70462036,\n",
       "         281.83996582,  281.9397583 ,  282.27023315],\n",
       "       [ 283.5725708 ,  283.24740601,  282.25656128,  282.60266113,\n",
       "         283.37704468,  283.34899902,  282.96774292],\n",
       "       [ 282.82745361,  283.24667358,  282.85299683,  282.57113647,\n",
       "         282.96005249,  283.04412842,  282.70703125],\n",
       "       [ 282.93304443,  282.26239014,  282.78433228,  282.96606445,\n",
       "         282.74237061,  282.8319397 ,  282.61657715],\n",
       "       [ 282.67178345,  281.89944458,  281.84863281,  282.58398438,\n",
       "         283.19012451,  282.87188721,  282.69122314],\n",
       "       [ 282.48080444,  282.57626343,  282.39361572,  281.59356689,\n",
       "         282.03878784,  283.05102539,  283.00582886],\n",
       "       [ 282.07946777,  281.92089844,  282.5211792 ,  280.9119873 ,\n",
       "         281.11462402,  283.5713501 ,  283.2923584 ]], dtype=float32)"
      ]
     },
     "execution_count": 15,
     "metadata": {},
     "output_type": "execute_result"
    }
   ],
   "source": [
    "TAP.sel(lat=slice(-10, 10), lon=slice(20, 40)).isel(lev=20, time=0).values"
   ]
  },
  {
   "cell_type": "markdown",
   "metadata": {},
   "source": [
    "## Plotting\n",
    "\n",
    "On great benefit of using xarray over plain NetCDF4 or numpy is the ability to quickly create decent plots. This is super-handy when interactively analyzing data. \n",
    "\n",
    "First up, let's plot a latitude-longitude slice of the incoming solar radiation."
   ]
  },
  {
   "cell_type": "code",
   "execution_count": 16,
   "metadata": {},
   "outputs": [
    {
     "data": {
      "image/png": "[encoded data removed]",
      "text/plain": [
       "<matplotlib.figure.Figure at 0x11cf58c88>"
      ]
     },
     "metadata": {},
     "output_type": "display_data"
    }
   ],
   "source": [
    "ds['SOLIN'].isel(time=1).plot();"
   ]
  },
  {
   "cell_type": "markdown",
   "metadata": {},
   "source": [
    "How about a latitude-height slice of the temperature. Since the height coordinate is pressure, we can use the option `yincrease=False` to reverse the y-axis."
   ]
  },
  {
   "cell_type": "code",
   "execution_count": 17,
   "metadata": {},
   "outputs": [
    {
     "data": {
      "image/png": "[encoded data removed]",
      "text/plain": [
       "<matplotlib.figure.Figure at 0x11cf13eb8>"
      ]
     },
     "metadata": {},
     "output_type": "display_data"
    }
   ],
   "source": [
    "ds['TAP'].isel(time=-1, lon=0).plot(yincrease=False);"
   ]
  },
  {
   "cell_type": "markdown",
   "metadata": {},
   "source": [
    "The plotting is build on top of matplotlib's [pcolormesh](https://matplotlib.org/api/_as_gen/matplotlib.pyplot.pcolormesh.html#matplotlib.pyplot.pcolormesh) function. This means we can pass all valid arguments to this function.\n",
    "\n",
    "Additionally, we can use the standard `plt` functions afterwards to customize the plot."
   ]
  },
  {
   "cell_type": "code",
   "execution_count": 18,
   "metadata": {},
   "outputs": [
    {
     "data": {
      "image/png": "[encoded data removed]",
      "text/plain": [
       "<matplotlib.figure.Figure at 0x11fc0e2b0>"
      ]
     },
     "metadata": {},
     "output_type": "display_data"
    }
   ],
   "source": [
    "ds['TAP'].isel(time=-1, lon=0).plot(yincrease=False, cmap='jet', vmin=250)\n",
    "plt.title('My custom title');"
   ]
  },
  {
   "cell_type": "markdown",
   "metadata": {},
   "source": [
    "1D data will get displayed as a line plot. Again, we can pass the regular `plt.plot` arguments."
   ]
  },
  {
   "cell_type": "code",
   "execution_count": 19,
   "metadata": {},
   "outputs": [
    {
     "data": {
      "image/png": "[encoded data removed]",
      "text/plain": [
       "<matplotlib.figure.Figure at 0x11cf51b70>"
      ]
     },
     "metadata": {},
     "output_type": "display_data"
    }
   ],
   "source": [
    "ds['SOLIN'].isel(lon=0, lat=20).plot(label='lat 20')\n",
    "ds['SOLIN'].isel(lon=0, lat=40).plot(label='lat 40')\n",
    "plt.legend();"
   ]
  },
  {
   "cell_type": "markdown",
   "metadata": {},
   "source": [
    "## Computations\n",
    "\n",
    "Now that we know how to index, let's do some computations. \n",
    "\n",
    "Why not take the mean of SOLIN over time."
   ]
  },
  {
   "cell_type": "code",
   "execution_count": 20,
   "metadata": {},
   "outputs": [
    {
     "data": {
      "text/plain": [
       "<xarray.DataArray 'SOLIN' (lat: 64, lon: 128)>\n",
       "array([[ 510.306396,  510.310059,  510.308929, ...,  510.265991,  510.284302,\n",
       "         510.297852],\n",
       "       [ 511.418915,  511.42746 ,  511.424683, ...,  511.326324,  511.368256,\n",
       "         511.39917 ],\n",
       "       [ 511.334595,  511.347931,  511.343628, ...,  511.189819,  511.255463,\n",
       "         511.303711],\n",
       "       ..., \n",
       "       [   0.      ,    0.      ,    0.      , ...,    0.      ,    0.      ,\n",
       "           0.      ],\n",
       "       [   0.      ,    0.      ,    0.      , ...,    0.      ,    0.      ,\n",
       "           0.      ],\n",
       "       [   0.      ,    0.      ,    0.      , ...,    0.      ,    0.      ,\n",
       "           0.      ]], dtype=float32)\n",
       "Coordinates:\n",
       "  * lat      (lat) float64 -87.86 -85.1 -82.31 -79.53 -76.74 -73.95 -71.16 ...\n",
       "  * lon      (lon) float64 0.0 2.812 5.625 8.438 11.25 14.06 16.88 19.69 ..."
      ]
     },
     "execution_count": 20,
     "metadata": {},
     "output_type": "execute_result"
    }
   ],
   "source": [
    "ds['SOLIN'].mean(dim='time')"
   ]
  },
  {
   "cell_type": "markdown",
   "metadata": {},
   "source": [
    "Or the standard deviation of temperature over time and longitude."
   ]
  },
  {
   "cell_type": "code",
   "execution_count": 21,
   "metadata": {},
   "outputs": [
    {
     "data": {
      "image/png": "[encoded data removed]",
      "text/plain": [
       "<matplotlib.figure.Figure at 0x11fc48550>"
      ]
     },
     "metadata": {},
     "output_type": "display_data"
    }
   ],
   "source": [
    "ds['TAP'].std(dim=('time', 'lon')).plot(yincrease=False, robust=True);"
   ]
  },
  {
   "cell_type": "markdown",
   "metadata": {},
   "source": [
    "Just as with numpy arrays we can do operations with multiple DataArrays. For no reason whatsoever we can multiply temperature and solar radiation. It will automatically match and broadcast dimensions. As an aside, if you are unsure what broadcasting is (which is super useful in numpy) check this out: https://docs.scipy.org/doc/numpy-1.14.0/user/basics.broadcasting.html"
   ]
  },
  {
   "cell_type": "code",
   "execution_count": 22,
   "metadata": {},
   "outputs": [
    {
     "data": {
      "text/plain": [
       "<xarray.DataArray (time: 24, lev: 30, lat: 64, lon: 128)>\n",
       "array([[[[      0.      , ...,       0.      ],\n",
       "         ..., \n",
       "         [      0.      , ...,       0.      ]],\n",
       "\n",
       "        ..., \n",
       "        [[      0.      , ...,       0.      ],\n",
       "         ..., \n",
       "         [      0.      , ...,       0.      ]]],\n",
       "\n",
       "\n",
       "       ..., \n",
       "       [[[ 119065.492188, ...,  119265.726562],\n",
       "         ..., \n",
       "         [      0.      , ...,       0.      ]],\n",
       "\n",
       "        ..., \n",
       "        [[ 132017.609375, ...,  132238.515625],\n",
       "         ..., \n",
       "         [      0.      , ...,       0.      ]]]], dtype=float32)\n",
       "Coordinates:\n",
       "  * lat      (lat) float64 -87.86 -85.1 -82.31 -79.53 -76.74 -73.95 -71.16 ...\n",
       "  * lon      (lon) float64 0.0 2.812 5.625 8.438 11.25 14.06 16.88 19.69 ...\n",
       "  * lev      (lev) float64 3.643 7.595 14.36 24.61 38.27 54.6 72.01 87.82 ...\n",
       "  * time     (time) float64 0.0 0.04167 0.08333 0.125 0.1667 0.2083 0.25 ..."
      ]
     },
     "execution_count": 22,
     "metadata": {},
     "output_type": "execute_result"
    }
   ],
   "source": [
    "ds['TAP'] * ds['SOLIN']"
   ]
  },
  {
   "cell_type": "markdown",
   "metadata": {},
   "source": [
    "## Opening a multi-file Dataset\n",
    "\n",
    "xarray also allows us to handle multiple files and large data amounts. For this is uses dask arrays in the background."
   ]
  },
  {
   "cell_type": "code",
   "execution_count": 23,
   "metadata": {},
   "outputs": [
    {
     "name": "stdout",
     "output_type": "stream",
     "text": [
      "CAM01.nc CAM02.nc CAM03.nc\r\n"
     ]
    }
   ],
   "source": [
    "!ls CAM*.nc"
   ]
  },
  {
   "cell_type": "code",
   "execution_count": 24,
   "metadata": {
    "collapsed": true
   },
   "outputs": [],
   "source": [
    "mfds = xr.open_mfdataset('CAM*.nc', decode_times=False)"
   ]
  },
  {
   "cell_type": "markdown",
   "metadata": {},
   "source": [
    "If you are reading in a very large dataset and it takes a very long time, you can use the option `decode_cf=False` to speed up things. As far as I know, this shouldn't break things..."
   ]
  },
  {
   "cell_type": "code",
   "execution_count": 25,
   "metadata": {},
   "outputs": [
    {
     "data": {
      "text/plain": [
       "<xarray.Dataset>\n",
       "Dimensions:  (lat: 64, lev: 30, lon: 128, time: 72)\n",
       "Coordinates:\n",
       "  * lat      (lat) float64 -87.86 -85.1 -82.31 -79.53 -76.74 -73.95 -71.16 ...\n",
       "  * lon      (lon) float64 0.0 2.812 5.625 8.438 11.25 14.06 16.88 19.69 ...\n",
       "  * lev      (lev) float64 3.643 7.595 14.36 24.61 38.27 54.6 72.01 87.82 ...\n",
       "  * time     (time) float64 0.0 0.04167 0.08333 0.125 0.1667 0.2083 0.25 ...\n",
       "Data variables:\n",
       "    TAP      (time, lev, lat, lon) float32 dask.array<shape=(72, 30, 64, 128), chunksize=(24, 30, 64, 128)>\n",
       "    SOLIN    (time, lat, lon) float32 dask.array<shape=(72, 64, 128), chunksize=(24, 64, 128)>"
      ]
     },
     "execution_count": 25,
     "metadata": {},
     "output_type": "execute_result"
    }
   ],
   "source": [
    "mfds"
   ]
  },
  {
   "cell_type": "markdown",
   "metadata": {},
   "source": [
    "So now we have a dataset with 72 time steps instead of 24. The other large difference is that the values are not actually loaded into memory. Instead they are represented as dask arrays in chunks.\n",
    "\n",
    "This means that the values will be loaded only if we access them directly or need them to do some computation. This is called lazy computing. Any operation done will be executed in chunks, one at a time across multiple processors. This is great for not blowing up your RAM. For more information check out: http://xarray.pydata.org/en/stable/dask.html\n",
    "\n",
    "Let quickly try it out."
   ]
  },
  {
   "cell_type": "code",
   "execution_count": 26,
   "metadata": {},
   "outputs": [
    {
     "data": {
      "text/plain": [
       "<xarray.DataArray 'TAP' (lev: 30, lat: 64)>\n",
       "dask.array<shape=(30, 64), dtype=float32, chunksize=(30, 64)>\n",
       "Coordinates:\n",
       "  * lat      (lat) float64 -87.86 -85.1 -82.31 -79.53 -76.74 -73.95 -71.16 ...\n",
       "  * lev      (lev) float64 3.643 7.595 14.36 24.61 38.27 54.6 72.01 87.82 ..."
      ]
     },
     "execution_count": 26,
     "metadata": {},
     "output_type": "execute_result"
    }
   ],
   "source": [
    "tmp = mfds['TAP'].mean(('time', 'lon')); tmp"
   ]
  },
  {
   "cell_type": "markdown",
   "metadata": {},
   "source": [
    "If we actually want to get the values, we can either convert the array to a numpy array or use the `load` command."
   ]
  },
  {
   "cell_type": "code",
   "execution_count": 27,
   "metadata": {},
   "outputs": [
    {
     "data": {
      "text/plain": [
       "<xarray.DataArray 'TAP' (lev: 30, lat: 64)>\n",
       "array([[ 246.670868,  246.636551,  246.598572, ...,  169.052704,  168.419128,\n",
       "         168.171921],\n",
       "       [ 232.167862,  232.414734,  232.575546, ...,  173.738846,  173.020187,\n",
       "         172.523575],\n",
       "       [ 217.026825,  216.911026,  217.021545, ...,  163.281387,  162.190521,\n",
       "         161.852112],\n",
       "       ..., \n",
       "       [ 270.860382,  270.917542,  270.963531, ...,  269.676392,  269.705048,\n",
       "         269.735504],\n",
       "       [ 272.248779,  272.238647,  272.277039, ...,  271.040863,  271.075531,\n",
       "         271.097107],\n",
       "       [ 273.61026 ,  273.599823,  273.629913, ...,  272.617889,  272.657104,\n",
       "         272.670959]], dtype=float32)\n",
       "Coordinates:\n",
       "  * lat      (lat) float64 -87.86 -85.1 -82.31 -79.53 -76.74 -73.95 -71.16 ...\n",
       "  * lev      (lev) float64 3.643 7.595 14.36 24.61 38.27 54.6 72.01 87.82 ..."
      ]
     },
     "execution_count": 27,
     "metadata": {},
     "output_type": "execute_result"
    }
   ],
   "source": [
    "tmp.load()"
   ]
  },
  {
   "cell_type": "markdown",
   "metadata": {},
   "source": [
    "## Creating DataArrays and Datasets\n",
    "\n",
    "What if we have some data in a numpy array and want to create a xarray DataArray from it."
   ]
  },
  {
   "cell_type": "code",
   "execution_count": 28,
   "metadata": {},
   "outputs": [
    {
     "data": {
      "text/plain": [
       "<xarray.DataArray (dim_0: 4, dim_1: 5)>\n",
       "array([[ 0.493679,  0.20675 ,  0.218715,  0.697395,  0.532517],\n",
       "       [ 0.327763,  0.36165 ,  0.971751,  0.477955,  0.706548],\n",
       "       [ 0.072182,  0.786471,  0.991114,  0.727688,  0.827369],\n",
       "       [ 0.167094,  0.064798,  0.813554,  0.751801,  0.621322]])\n",
       "Dimensions without coordinates: dim_0, dim_1"
      ]
     },
     "execution_count": 28,
     "metadata": {},
     "output_type": "execute_result"
    }
   ],
   "source": [
    "myda = xr.DataArray(np.random.rand(4, 5)); myda"
   ]
  },
  {
   "cell_type": "markdown",
   "metadata": {},
   "source": [
    "But now we have no coordinates... let's create some"
   ]
  },
  {
   "cell_type": "code",
   "execution_count": 29,
   "metadata": {},
   "outputs": [
    {
     "data": {
      "text/plain": [
       "(array([0, 1, 2, 3]), array([0, 1, 2, 3, 4]))"
      ]
     },
     "execution_count": 29,
     "metadata": {},
     "output_type": "execute_result"
    }
   ],
   "source": [
    "lats = np.arange(4); lons = np.arange(5)\n",
    "lats, lons"
   ]
  },
  {
   "cell_type": "code",
   "execution_count": 30,
   "metadata": {},
   "outputs": [
    {
     "data": {
      "text/plain": [
       "<xarray.DataArray (lat: 4, lon: 5)>\n",
       "array([[ 0.580963,  0.105729,  0.209738,  0.064769,  0.505583],\n",
       "       [ 0.082204,  0.152136,  0.972305,  0.377404,  0.117867],\n",
       "       [ 0.564128,  0.504259,  0.93567 ,  0.76616 ,  0.695429],\n",
       "       [ 0.134016,  0.396696,  0.994327,  0.392411,  0.711931]])\n",
       "Coordinates:\n",
       "  * lat      (lat) int64 0 1 2 3\n",
       "  * lon      (lon) int64 0 1 2 3 4"
      ]
     },
     "execution_count": 30,
     "metadata": {},
     "output_type": "execute_result"
    }
   ],
   "source": [
    "myda = xr.DataArray(np.random.rand(4, 5), coords = {'lat': lats, 'lon': lons}, dims=('lat', 'lon'))\n",
    "myda"
   ]
  },
  {
   "cell_type": "markdown",
   "metadata": {},
   "source": [
    "We can also add attributes such as units."
   ]
  },
  {
   "cell_type": "code",
   "execution_count": 31,
   "metadata": {},
   "outputs": [],
   "source": [
    "myda.attrs['units'] = 'K'"
   ]
  },
  {
   "cell_type": "markdown",
   "metadata": {},
   "source": [
    "And a name for our variable"
   ]
  },
  {
   "cell_type": "code",
   "execution_count": 32,
   "metadata": {},
   "outputs": [],
   "source": [
    "myda.name = 'Var1'"
   ]
  },
  {
   "cell_type": "markdown",
   "metadata": {},
   "source": [
    "Let's now create another DataArray with one coordinate from above and a new one."
   ]
  },
  {
   "cell_type": "code",
   "execution_count": 33,
   "metadata": {},
   "outputs": [
    {
     "data": {
      "text/plain": [
       "array([0, 1, 2])"
      ]
     },
     "execution_count": 33,
     "metadata": {},
     "output_type": "execute_result"
    }
   ],
   "source": [
    "levs = np.arange(3); levs"
   ]
  },
  {
   "cell_type": "code",
   "execution_count": 34,
   "metadata": {},
   "outputs": [
    {
     "data": {
      "text/plain": [
       "<xarray.DataArray 'Var2' (lev: 3, lon: 5)>\n",
       "array([[ 0.737322,  0.667538,  0.119973,  0.442553,  0.902985],\n",
       "       [ 0.065068,  0.433848,  0.479421,  0.625673,  0.08194 ],\n",
       "       [ 0.115688,  0.851471,  0.123189,  0.580963,  0.559465]])\n",
       "Coordinates:\n",
       "  * lev      (lev) int64 0 1 2\n",
       "  * lon      (lon) int64 0 1 2 3 4"
      ]
     },
     "execution_count": 34,
     "metadata": {},
     "output_type": "execute_result"
    }
   ],
   "source": [
    "myda2 = xr.DataArray(np.random.rand(3, 5), coords = {'lev': levs, 'lon': lons}, dims=('lev', 'lon'))\n",
    "myda2.name = 'Var2'\n",
    "myda2"
   ]
  },
  {
   "cell_type": "markdown",
   "metadata": {},
   "source": [
    " Now we merge the two DataArrays to a Dataset."
   ]
  },
  {
   "cell_type": "code",
   "execution_count": 35,
   "metadata": {},
   "outputs": [
    {
     "data": {
      "text/plain": [
       "<xarray.Dataset>\n",
       "Dimensions:  (lat: 4, lev: 3, lon: 5)\n",
       "Coordinates:\n",
       "  * lat      (lat) int64 0 1 2 3\n",
       "  * lon      (lon) int64 0 1 2 3 4\n",
       "  * lev      (lev) int64 0 1 2\n",
       "Data variables:\n",
       "    Var1     (lat, lon) float64 0.581 0.1057 0.2097 0.06477 0.5056 0.0822 ...\n",
       "    Var2     (lev, lon) float64 0.7373 0.6675 0.12 0.4426 0.903 0.06507 ..."
      ]
     },
     "execution_count": 35,
     "metadata": {},
     "output_type": "execute_result"
    }
   ],
   "source": [
    "myds = xr.merge([myda, myda2]); myds"
   ]
  },
  {
   "cell_type": "markdown",
   "metadata": {},
   "source": [
    "## Plotting with cartopy \n",
    "\n",
    "Yes, you can combine the plotting functionality with cartopy. More about plotting can be found here: http://xarray.pydata.org/en/stable/plotting.html\n",
    "\n",
    "I am no expert, but let's still try to figure out how to do one plot..."
   ]
  },
  {
   "cell_type": "code",
   "execution_count": 36,
   "metadata": {
    "collapsed": true
   },
   "outputs": [],
   "source": [
    "import cartopy.crs as ccrs"
   ]
  },
  {
   "cell_type": "code",
   "execution_count": 37,
   "metadata": {},
   "outputs": [
    {
     "data": {
      "image/png": "[encoded data removed]",
      "text/plain": [
       "<matplotlib.figure.Figure at 0x12c7ef9b0>"
      ]
     },
     "metadata": {},
     "output_type": "display_data"
    }
   ],
   "source": [
    "fig = plt.figure(figsize=(10, 10))\n",
    "ax = plt.axes(projection=ccrs.Orthographic(-80, 35))\n",
    "TAP.isel(time=1, lev=20).plot.contourf(ax=ax, transform=ccrs.PlateCarree())\n",
    "ax.set_global(); ax.coastlines();"
   ]
  },
  {
   "cell_type": "markdown",
   "metadata": {},
   "source": [
    "# End"
   ]
  },
  {
   "cell_type": "code",
   "execution_count": null,
   "metadata": {
    "collapsed": true
   },
   "outputs": [],
   "source": []
  }
 ],
 "metadata": {
  "kernelspec": {
   "display_name": "Python 3",
   "language": "python",
   "name": "python3"
  },
  "language_info": {
   "codemirror_mode": {
    "name": "ipython",
    "version": 3
   },
   "file_extension": ".py",
   "mimetype": "text/x-python",
   "name": "python",
   "nbconvert_exporter": "python",
   "pygments_lexer": "ipython3",
   "version": "3.6.2"
  },
  "toc": {
   "nav_menu": {},
   "number_sections": true,
   "sideBar": false,
   "skip_h1_title": true,
   "toc_cell": false,
   "toc_position": {},
   "toc_section_display": "block",
   "toc_window_display": false
  }
 },
 "nbformat": 4,
 "nbformat_minor": 2
}
