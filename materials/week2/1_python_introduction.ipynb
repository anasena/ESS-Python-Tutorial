{
 "cells": [
  {
   "cell_type": "markdown",
   "metadata": {},
   "source": [
    "# Jupyter Notebook\n",
    "\n",
    "This is an example of a Jupyter Notebook.  Stephan introduced this last week; see the notes [here](https://github.com/raspstephan/ESS-Python-Tutorial/blob/master/materials/week1/jupyter-intro.ipynb).\n",
    "\n",
    "__*You can shut a notebook down by closing browser windows, and from the terminal shell, typing ```ctrl``` + ```c``` twice.*__\n",
    "\n",
    "# A brief introduction to Python\n",
    "\n",
    "The official Python tutorial is very informative.  Most information below follows the official tutorial at https://docs.python.org/3/tutorial/."
   ]
  },
  {
   "cell_type": "code",
   "execution_count": 1,
   "metadata": {
    "ExecuteTime": {
     "end_time": "2018-03-07T00:33:58.997674Z",
     "start_time": "2018-03-07T00:33:58.985042Z"
    }
   },
   "outputs": [
    {
     "data": {
      "text/plain": [
       "4"
      ]
     },
     "execution_count": 1,
     "metadata": {},
     "output_type": "execute_result"
    }
   ],
   "source": [
    "2+2"
   ]
  },
  {
   "cell_type": "code",
   "execution_count": 2,
   "metadata": {
    "ExecuteTime": {
     "end_time": "2018-03-07T00:33:59.201181Z",
     "start_time": "2018-03-07T00:33:59.194521Z"
    }
   },
   "outputs": [
    {
     "data": {
      "text/plain": [
       "62.5"
      ]
     },
     "execution_count": 2,
     "metadata": {},
     "output_type": "execute_result"
    }
   ],
   "source": [
    "70 - (5*6) / 4"
   ]
  },
  {
   "cell_type": "code",
   "execution_count": 3,
   "metadata": {
    "ExecuteTime": {
     "end_time": "2018-03-07T00:33:59.490540Z",
     "start_time": "2018-03-07T00:33:59.485859Z"
    }
   },
   "outputs": [
    {
     "data": {
      "text/plain": [
       "10.0"
      ]
     },
     "execution_count": 3,
     "metadata": {},
     "output_type": "execute_result"
    }
   ],
   "source": [
    "(70 - (5*6)) / 4"
   ]
  },
  {
   "cell_type": "markdown",
   "metadata": {},
   "source": [
    "## Floats versus integers\n",
    "\n",
    "Python is a high-level language, and there are **no variable declarations** (Python does this implicitly).\n",
    "\n",
    "* Numbers like 2 and 4 are seen as a type **```int```**, and numbers with decimals (62.5, 10.0) are seen as type **```float```**.\n",
    "* **NOTE**: division **``` / ```** always returns a floating point number\n",
    "* Get the type of a number or Python object using ```type()```"
   ]
  },
  {
   "cell_type": "code",
   "execution_count": 4,
   "metadata": {
    "ExecuteTime": {
     "end_time": "2018-03-07T00:34:00.067935Z",
     "start_time": "2018-03-07T00:34:00.063169Z"
    }
   },
   "outputs": [
    {
     "data": {
      "text/plain": [
       "1.0"
      ]
     },
     "execution_count": 4,
     "metadata": {},
     "output_type": "execute_result"
    }
   ],
   "source": [
    "2/2"
   ]
  },
  {
   "cell_type": "code",
   "execution_count": 5,
   "metadata": {
    "ExecuteTime": {
     "end_time": "2018-03-07T00:34:00.214302Z",
     "start_time": "2018-03-07T00:34:00.209169Z"
    }
   },
   "outputs": [
    {
     "data": {
      "text/plain": [
       "float"
      ]
     },
     "execution_count": 5,
     "metadata": {},
     "output_type": "execute_result"
    }
   ],
   "source": [
    "type(2/2)"
   ]
  },
  {
   "cell_type": "code",
   "execution_count": 6,
   "metadata": {
    "ExecuteTime": {
     "end_time": "2018-03-07T00:34:00.354784Z",
     "start_time": "2018-03-07T00:34:00.349140Z"
    }
   },
   "outputs": [
    {
     "data": {
      "text/plain": [
       "2.0"
      ]
     },
     "execution_count": 6,
     "metadata": {},
     "output_type": "execute_result"
    }
   ],
   "source": [
    "2/1"
   ]
  },
  {
   "cell_type": "markdown",
   "metadata": {},
   "source": [
    "## Powers in Python\n",
    "\n",
    "To raise something to a power, use a double asterisk:  ** \\*\\* **\n",
    "\n",
    "To ensure your numbers are interpreted as **```float```** types, good practice is to always use decimals in at least one number:"
   ]
  },
  {
   "cell_type": "code",
   "execution_count": 7,
   "metadata": {
    "ExecuteTime": {
     "end_time": "2018-03-07T00:34:00.653956Z",
     "start_time": "2018-03-07T00:34:00.648430Z"
    }
   },
   "outputs": [
    {
     "data": {
      "text/plain": [
       "25"
      ]
     },
     "execution_count": 7,
     "metadata": {},
     "output_type": "execute_result"
    }
   ],
   "source": [
    "5**2"
   ]
  },
  {
   "cell_type": "code",
   "execution_count": 8,
   "metadata": {
    "ExecuteTime": {
     "end_time": "2018-03-07T00:34:00.781623Z",
     "start_time": "2018-03-07T00:34:00.777236Z"
    }
   },
   "outputs": [
    {
     "data": {
      "text/plain": [
       "25.0"
      ]
     },
     "execution_count": 8,
     "metadata": {},
     "output_type": "execute_result"
    }
   ],
   "source": [
    "5**2.0"
   ]
  },
  {
   "cell_type": "code",
   "execution_count": 9,
   "metadata": {
    "ExecuteTime": {
     "end_time": "2018-03-07T00:34:00.923630Z",
     "start_time": "2018-03-07T00:34:00.919141Z"
    }
   },
   "outputs": [
    {
     "data": {
      "text/plain": [
       "25.0"
      ]
     },
     "execution_count": 9,
     "metadata": {},
     "output_type": "execute_result"
    }
   ],
   "source": [
    "5.**2"
   ]
  },
  {
   "cell_type": "markdown",
   "metadata": {},
   "source": [
    "## Assigning and printing\n",
    "\n",
    "Assign variables using the ```=``` sign.\n",
    "\n",
    "Print variables using the ```print()``` function."
   ]
  },
  {
   "cell_type": "code",
   "execution_count": 10,
   "metadata": {
    "ExecuteTime": {
     "end_time": "2018-03-07T00:34:01.228148Z",
     "start_time": "2018-03-07T00:34:01.223784Z"
    }
   },
   "outputs": [
    {
     "name": "stdout",
     "output_type": "stream",
     "text": [
      "35.0\n"
     ]
    }
   ],
   "source": [
    "width = 5.0\n",
    "height = 7.0\n",
    "area = width*height\n",
    "print(area)"
   ]
  },
  {
   "cell_type": "markdown",
   "metadata": {},
   "source": [
    "Note that Python supports very compact variable manipulation, allowing for ```+=```, ```-=```, ```*=```, and ```/=```"
   ]
  },
  {
   "cell_type": "code",
   "execution_count": 11,
   "metadata": {
    "ExecuteTime": {
     "end_time": "2018-03-07T00:34:01.537560Z",
     "start_time": "2018-03-07T00:34:01.532788Z"
    }
   },
   "outputs": [
    {
     "name": "stdout",
     "output_type": "stream",
     "text": [
      "10.0\n"
     ]
    }
   ],
   "source": [
    "width = 5.0\n",
    "width = width+5\n",
    "print(width)"
   ]
  },
  {
   "cell_type": "code",
   "execution_count": 12,
   "metadata": {
    "ExecuteTime": {
     "end_time": "2018-03-07T00:34:01.703286Z",
     "start_time": "2018-03-07T00:34:01.698620Z"
    }
   },
   "outputs": [
    {
     "name": "stdout",
     "output_type": "stream",
     "text": [
      "10.0\n"
     ]
    }
   ],
   "source": [
    "width = 5.0\n",
    "width += 5\n",
    "print(width)"
   ]
  },
  {
   "cell_type": "markdown",
   "metadata": {},
   "source": [
    "## Strings\n",
    "\n",
    "Variables can also be assigned as strings when you enclose them in quotes.  __You can use _either_ single _or_ double quotes.__"
   ]
  },
  {
   "cell_type": "code",
   "execution_count": 13,
   "metadata": {
    "ExecuteTime": {
     "end_time": "2018-03-07T00:34:02.053819Z",
     "start_time": "2018-03-07T00:34:02.047589Z"
    }
   },
   "outputs": [
    {
     "name": "stdout",
     "output_type": "stream",
     "text": [
      "Hello\n"
     ]
    }
   ],
   "source": [
    "string1 = \"Hello\"\n",
    "print(string1)"
   ]
  },
  {
   "cell_type": "code",
   "execution_count": 14,
   "metadata": {
    "ExecuteTime": {
     "end_time": "2018-03-07T00:34:02.241891Z",
     "start_time": "2018-03-07T00:34:02.238845Z"
    }
   },
   "outputs": [
    {
     "name": "stdout",
     "output_type": "stream",
     "text": [
      "HelloHelloHello\n"
     ]
    }
   ],
   "source": [
    "print(string1*3)"
   ]
  },
  {
   "cell_type": "markdown",
   "metadata": {},
   "source": [
    "Strings can also be indexed.  Remember the first index is ```0``` for Python."
   ]
  },
  {
   "cell_type": "code",
   "execution_count": 15,
   "metadata": {
    "ExecuteTime": {
     "end_time": "2018-03-07T00:34:02.628189Z",
     "start_time": "2018-03-07T00:34:02.623926Z"
    }
   },
   "outputs": [
    {
     "data": {
      "text/plain": [
       "'H'"
      ]
     },
     "execution_count": 15,
     "metadata": {},
     "output_type": "execute_result"
    }
   ],
   "source": [
    "string1[0]"
   ]
  },
  {
   "cell_type": "code",
   "execution_count": 16,
   "metadata": {
    "ExecuteTime": {
     "end_time": "2018-03-07T00:34:02.804764Z",
     "start_time": "2018-03-07T00:34:02.798204Z"
    }
   },
   "outputs": [
    {
     "data": {
      "text/plain": [
       "'e'"
      ]
     },
     "execution_count": 16,
     "metadata": {},
     "output_type": "execute_result"
    }
   ],
   "source": [
    "string1[1]"
   ]
  },
  {
   "cell_type": "markdown",
   "metadata": {},
   "source": [
    "You can also index backwards in Python.  The last character is at the index location ```-1```:"
   ]
  },
  {
   "cell_type": "code",
   "execution_count": 17,
   "metadata": {
    "ExecuteTime": {
     "end_time": "2018-03-07T00:34:03.154156Z",
     "start_time": "2018-03-07T00:34:03.148546Z"
    }
   },
   "outputs": [
    {
     "data": {
      "text/plain": [
       "'o'"
      ]
     },
     "execution_count": 17,
     "metadata": {},
     "output_type": "execute_result"
    }
   ],
   "source": [
    "string1[-1]"
   ]
  },
  {
   "cell_type": "code",
   "execution_count": 18,
   "metadata": {
    "ExecuteTime": {
     "end_time": "2018-03-07T00:34:03.321452Z",
     "start_time": "2018-03-07T00:34:03.315219Z"
    }
   },
   "outputs": [
    {
     "data": {
      "text/plain": [
       "'l'"
      ]
     },
     "execution_count": 18,
     "metadata": {},
     "output_type": "execute_result"
    }
   ],
   "source": [
    "string1[-3]"
   ]
  },
  {
   "cell_type": "markdown",
   "metadata": {},
   "source": [
    "## Lists\n",
    "\n",
    "This is a versatile way of creating compound data types.  Indexing works in a similar way as above.\n",
    "\n",
    "Create a list by enclosing comma-separated items in square brackets:"
   ]
  },
  {
   "cell_type": "code",
   "execution_count": 19,
   "metadata": {
    "ExecuteTime": {
     "end_time": "2018-03-07T00:34:03.654847Z",
     "start_time": "2018-03-07T00:34:03.649549Z"
    }
   },
   "outputs": [],
   "source": [
    "list1 = [1,2,3,4,5,6,7,8,9]"
   ]
  },
  {
   "cell_type": "code",
   "execution_count": 20,
   "metadata": {
    "ExecuteTime": {
     "end_time": "2018-03-07T00:34:03.828632Z",
     "start_time": "2018-03-07T00:34:03.825176Z"
    }
   },
   "outputs": [
    {
     "name": "stdout",
     "output_type": "stream",
     "text": [
      "[1, 2, 3, 4, 5, 6, 7, 8, 9]\n"
     ]
    }
   ],
   "source": [
    "print(list1)"
   ]
  },
  {
   "cell_type": "code",
   "execution_count": 21,
   "metadata": {
    "ExecuteTime": {
     "end_time": "2018-03-07T00:34:04.017133Z",
     "start_time": "2018-03-07T00:34:04.012000Z"
    }
   },
   "outputs": [
    {
     "name": "stdout",
     "output_type": "stream",
     "text": [
      "1\n"
     ]
    }
   ],
   "source": [
    "print(list1[0])"
   ]
  },
  {
   "cell_type": "code",
   "execution_count": 22,
   "metadata": {
    "ExecuteTime": {
     "end_time": "2018-03-07T00:34:04.187836Z",
     "start_time": "2018-03-07T00:34:04.183667Z"
    }
   },
   "outputs": [
    {
     "name": "stdout",
     "output_type": "stream",
     "text": [
      "7\n"
     ]
    }
   ],
   "source": [
    "print(list1[-3])"
   ]
  },
  {
   "cell_type": "markdown",
   "metadata": {},
   "source": [
    "### Slicing lists\n",
    "\n",
    "Slicing operations return new lists."
   ]
  },
  {
   "cell_type": "code",
   "execution_count": 23,
   "metadata": {
    "ExecuteTime": {
     "end_time": "2018-03-07T00:34:04.539239Z",
     "start_time": "2018-03-07T00:34:04.532830Z"
    }
   },
   "outputs": [
    {
     "data": {
      "text/plain": [
       "[4, 5, 6, 7, 8, 9]"
      ]
     },
     "execution_count": 23,
     "metadata": {},
     "output_type": "execute_result"
    }
   ],
   "source": [
    "list1[3:]"
   ]
  },
  {
   "cell_type": "code",
   "execution_count": 24,
   "metadata": {
    "ExecuteTime": {
     "end_time": "2018-03-07T00:34:04.703725Z",
     "start_time": "2018-03-07T00:34:04.699113Z"
    }
   },
   "outputs": [],
   "source": [
    "list2 = list1[3:]"
   ]
  },
  {
   "cell_type": "code",
   "execution_count": 25,
   "metadata": {
    "ExecuteTime": {
     "end_time": "2018-03-07T00:34:04.870325Z",
     "start_time": "2018-03-07T00:34:04.865230Z"
    }
   },
   "outputs": [
    {
     "name": "stdout",
     "output_type": "stream",
     "text": [
      "[4, 5, 6, 7, 8, 9]\n"
     ]
    }
   ],
   "source": [
    "print(list2)"
   ]
  },
  {
   "cell_type": "markdown",
   "metadata": {},
   "source": [
    "### Appending to lists\n",
    "\n",
    "Add to the end of a list by using the ```append()``` method.\n",
    "\n",
    "__Note ```list2``` is an object, and has methods that can be accessed via the ```.``` syntax__"
   ]
  },
  {
   "cell_type": "code",
   "execution_count": 26,
   "metadata": {
    "ExecuteTime": {
     "end_time": "2018-03-07T00:34:05.195223Z",
     "start_time": "2018-03-07T00:34:05.192603Z"
    }
   },
   "outputs": [],
   "source": [
    "list2.append(234)"
   ]
  },
  {
   "cell_type": "code",
   "execution_count": 27,
   "metadata": {
    "ExecuteTime": {
     "end_time": "2018-03-07T00:34:05.372577Z",
     "start_time": "2018-03-07T00:34:05.367321Z"
    }
   },
   "outputs": [
    {
     "name": "stdout",
     "output_type": "stream",
     "text": [
      "[4, 5, 6, 7, 8, 9, 234]\n"
     ]
    }
   ],
   "source": [
    "print(list2)"
   ]
  },
  {
   "cell_type": "markdown",
   "metadata": {},
   "source": [
    "### Assigning and replacing list values\n",
    "\n",
    "You can also assign specific values, or do this to slices."
   ]
  },
  {
   "cell_type": "code",
   "execution_count": 28,
   "metadata": {
    "ExecuteTime": {
     "end_time": "2018-03-07T00:34:05.719395Z",
     "start_time": "2018-03-07T00:34:05.715403Z"
    }
   },
   "outputs": [],
   "source": [
    "list3 = ['a', 'b', 'c', 'd', 'e', 'f', 'g']"
   ]
  },
  {
   "cell_type": "code",
   "execution_count": 29,
   "metadata": {
    "ExecuteTime": {
     "end_time": "2018-03-07T00:34:05.870874Z",
     "start_time": "2018-03-07T00:34:05.865814Z"
    }
   },
   "outputs": [
    {
     "name": "stdout",
     "output_type": "stream",
     "text": [
      "['a', 'b', 'c', 'd', 'e', 'f', 'g']\n"
     ]
    }
   ],
   "source": [
    "print(list3)"
   ]
  },
  {
   "cell_type": "code",
   "execution_count": 30,
   "metadata": {
    "ExecuteTime": {
     "end_time": "2018-03-07T00:34:06.026943Z",
     "start_time": "2018-03-07T00:34:06.023642Z"
    }
   },
   "outputs": [],
   "source": [
    "list3[0] = 'A'"
   ]
  },
  {
   "cell_type": "code",
   "execution_count": 31,
   "metadata": {
    "ExecuteTime": {
     "end_time": "2018-03-07T00:34:06.194592Z",
     "start_time": "2018-03-07T00:34:06.191195Z"
    }
   },
   "outputs": [
    {
     "name": "stdout",
     "output_type": "stream",
     "text": [
      "['A', 'b', 'c', 'd', 'e', 'f', 'g']\n"
     ]
    }
   ],
   "source": [
    "print(list3)"
   ]
  },
  {
   "cell_type": "code",
   "execution_count": 32,
   "metadata": {
    "ExecuteTime": {
     "end_time": "2018-03-07T00:34:06.371334Z",
     "start_time": "2018-03-07T00:34:06.366682Z"
    }
   },
   "outputs": [],
   "source": [
    "list3[0:3] = ['A','B','C']"
   ]
  },
  {
   "cell_type": "code",
   "execution_count": 33,
   "metadata": {
    "ExecuteTime": {
     "end_time": "2018-03-07T00:34:06.558786Z",
     "start_time": "2018-03-07T00:34:06.555577Z"
    }
   },
   "outputs": [
    {
     "name": "stdout",
     "output_type": "stream",
     "text": [
      "['A', 'B', 'C', 'd', 'e', 'f', 'g']\n"
     ]
    }
   ],
   "source": [
    "print(list3)"
   ]
  },
  {
   "cell_type": "markdown",
   "metadata": {},
   "source": [
    "### Getting the length of a list\n",
    "\n",
    "Use the ```len()``` function to get the length of a list."
   ]
  },
  {
   "cell_type": "code",
   "execution_count": 34,
   "metadata": {
    "ExecuteTime": {
     "end_time": "2018-03-07T00:34:06.920017Z",
     "start_time": "2018-03-07T00:34:06.914610Z"
    }
   },
   "outputs": [
    {
     "data": {
      "text/plain": [
       "9"
      ]
     },
     "execution_count": 34,
     "metadata": {},
     "output_type": "execute_result"
    }
   ],
   "source": [
    "len(list1)"
   ]
  },
  {
   "cell_type": "code",
   "execution_count": 35,
   "metadata": {
    "ExecuteTime": {
     "end_time": "2018-03-07T00:34:07.193414Z",
     "start_time": "2018-03-07T00:34:07.182807Z"
    }
   },
   "outputs": [
    {
     "data": {
      "text/plain": [
       "7"
      ]
     },
     "execution_count": 35,
     "metadata": {},
     "output_type": "execute_result"
    }
   ],
   "source": [
    "len(list2)"
   ]
  },
  {
   "cell_type": "markdown",
   "metadata": {},
   "source": [
    "## Simple loops\n",
    "\n",
    "Python's syntax does **NOT** require semicolons at the end of statements.\n",
    "\n",
    "The Python language determines where loops begin and end **strictly from spacing**.  Use the same number of spaces or a **```tab```** for each loop.\n",
    "\n",
    "Loops can begin with **```for```** and **```while```**.  Other statements, such as **```else```**, **```if```**, and **```elif```** also exist.  Note **```elif```** and **```else if```** are equivalent and both acceptable.\n",
    "\n",
    "For example, to loop through weekday names and print each:"
   ]
  },
  {
   "cell_type": "code",
   "execution_count": 36,
   "metadata": {
    "ExecuteTime": {
     "end_time": "2018-03-07T00:34:07.429721Z",
     "start_time": "2018-03-07T00:34:07.421294Z"
    }
   },
   "outputs": [
    {
     "name": "stdout",
     "output_type": "stream",
     "text": [
      "Monday\n",
      "Tuesday\n",
      "Wednesday\n",
      "Thursday\n",
      "Friday\n",
      "Saturday\n",
      "Sunday\n"
     ]
    }
   ],
   "source": [
    "weekdays = [\"Monday\", \"Tuesday\", \"Wednesday\", \"Thursday\", \"Friday\", \"Saturday\", \"Sunday\"]\n",
    "for i in [0,1,2,3,4,5,6]:\n",
    "    print(weekdays[i])"
   ]
  },
  {
   "cell_type": "markdown",
   "metadata": {},
   "source": [
    "### The ```range()```  and ```list()``` functions\n",
    "\n",
    "**```range()```** is a function that creates an *internal* list (i.e., an [iterator])(https://wiki.python.org/moin/Iterator) of numbers over which you can iterate.\n",
    "\n",
    "* ```range(N)``` will go FROM ```0``` TO ```N-1```"
   ]
  },
  {
   "cell_type": "code",
   "execution_count": 37,
   "metadata": {
    "ExecuteTime": {
     "end_time": "2018-03-07T00:34:07.804278Z",
     "start_time": "2018-03-07T00:34:07.798241Z"
    }
   },
   "outputs": [
    {
     "data": {
      "text/plain": [
       "range(0, 5)"
      ]
     },
     "execution_count": 37,
     "metadata": {},
     "output_type": "execute_result"
    }
   ],
   "source": [
    "range(5) # goes from 0 to 4 inclusive"
   ]
  },
  {
   "cell_type": "markdown",
   "metadata": {},
   "source": [
    "You can convert this into a Python list by using the **```list()```** function:"
   ]
  },
  {
   "cell_type": "code",
   "execution_count": 38,
   "metadata": {
    "ExecuteTime": {
     "end_time": "2018-03-07T00:34:08.157712Z",
     "start_time": "2018-03-07T00:34:08.148624Z"
    }
   },
   "outputs": [
    {
     "data": {
      "text/plain": [
       "[0, 1, 2, 3, 4]"
      ]
     },
     "execution_count": 38,
     "metadata": {},
     "output_type": "execute_result"
    }
   ],
   "source": [
    "list(range(5))"
   ]
  },
  {
   "cell_type": "markdown",
   "metadata": {},
   "source": [
    "The **```range()```** function takes at most 3 arguments:  start, stop, and interval."
   ]
  },
  {
   "cell_type": "code",
   "execution_count": 39,
   "metadata": {
    "ExecuteTime": {
     "end_time": "2018-03-07T00:34:08.508443Z",
     "start_time": "2018-03-07T00:34:08.501160Z"
    }
   },
   "outputs": [
    {
     "data": {
      "text/plain": [
       "[2, 3, 4]"
      ]
     },
     "execution_count": 39,
     "metadata": {},
     "output_type": "execute_result"
    }
   ],
   "source": [
    "list(range(2,5))"
   ]
  },
  {
   "cell_type": "code",
   "execution_count": 40,
   "metadata": {
    "ExecuteTime": {
     "end_time": "2018-03-07T00:34:08.659280Z",
     "start_time": "2018-03-07T00:34:08.654463Z"
    }
   },
   "outputs": [
    {
     "data": {
      "text/plain": [
       "[0, 5, 10, 15, 20, 25, 30, 35, 40, 45, 50, 55, 60, 65, 70, 75, 80, 85, 90, 95]"
      ]
     },
     "execution_count": 40,
     "metadata": {},
     "output_type": "execute_result"
    }
   ],
   "source": [
    "list(range(0,100,5)) # lets you go from 0 to 99 at intervals of 5"
   ]
  },
  {
   "cell_type": "markdown",
   "metadata": {},
   "source": [
    "To add comments in Python code, note use of the ```#``` symbol, as above.\n",
    "\n",
    "## For loops\n",
    "\n",
    "* Python does not require **```end```** statements or semicolons.  Instead, the use of spacing in the loops implicitly tells python where loops begin and end.  Manually insert (4!) spaces (or use a **```tab```** on the keyboard) to struture a loop.\n",
    "\n",
    "* All output in Python is suppressed automatically, unless you choose to **```print()```** it.  This means you don't need semicolons at the end of lines, and you'll get an error if you do.\n",
    "\n",
    "* Note **```range()```** can be used in combination with the **```len()```** or other functions to make looping more streamlined:"
   ]
  },
  {
   "cell_type": "code",
   "execution_count": 41,
   "metadata": {
    "ExecuteTime": {
     "end_time": "2018-03-07T00:34:09.046891Z",
     "start_time": "2018-03-07T00:34:09.038669Z"
    }
   },
   "outputs": [
    {
     "name": "stdout",
     "output_type": "stream",
     "text": [
      "Monday\n",
      "Tuesday\n",
      "Wednesday\n",
      "Thursday\n",
      "Friday\n",
      "Saturday\n",
      "Sunday\n"
     ]
    }
   ],
   "source": [
    "for i in range(7):\n",
    "    print(weekdays[i])"
   ]
  },
  {
   "cell_type": "code",
   "execution_count": 42,
   "metadata": {
    "ExecuteTime": {
     "end_time": "2018-03-07T00:34:09.219298Z",
     "start_time": "2018-03-07T00:34:09.209865Z"
    }
   },
   "outputs": [
    {
     "name": "stdout",
     "output_type": "stream",
     "text": [
      "Monday\n",
      "Tuesday\n",
      "Wednesday\n",
      "Thursday\n",
      "Friday\n",
      "Saturday\n",
      "Sunday\n"
     ]
    }
   ],
   "source": [
    "for i in range(len(weekdays)):\n",
    "    print(weekdays[i])"
   ]
  },
  {
   "cell_type": "markdown",
   "metadata": {},
   "source": [
    "__You can also simply loop over the list itself:__"
   ]
  },
  {
   "cell_type": "code",
   "execution_count": 43,
   "metadata": {
    "ExecuteTime": {
     "end_time": "2018-03-07T00:34:09.570516Z",
     "start_time": "2018-03-07T00:34:09.566254Z"
    }
   },
   "outputs": [
    {
     "name": "stdout",
     "output_type": "stream",
     "text": [
      "Monday\n",
      "Tuesday\n",
      "Wednesday\n",
      "Thursday\n",
      "Friday\n",
      "Saturday\n",
      "Sunday\n"
     ]
    }
   ],
   "source": [
    "for i in weekdays:\n",
    "    print(i)"
   ]
  },
  {
   "cell_type": "markdown",
   "metadata": {},
   "source": [
    "All loops respond to spacing in the same way.  See below for an example of a **```while```** loop.\n",
    "\n",
    "## Defining functions (an example with the Fibonacci series)\n",
    "\n",
    "*image from [Wikipedia](https://en.wikipedia.org/wiki/Fibonacci_number)*\n",
    "\n",
    "![Fibonacci series](https://upload.wikimedia.org/wikipedia/commons/thumb/b/bf/PascalTriangleFibanacci.svg/360px-PascalTriangleFibanacci.svg.png)"
   ]
  },
  {
   "cell_type": "code",
   "execution_count": 44,
   "metadata": {
    "ExecuteTime": {
     "end_time": "2018-03-07T00:34:09.955150Z",
     "start_time": "2018-03-07T00:34:09.949996Z"
    }
   },
   "outputs": [
    {
     "name": "stdout",
     "output_type": "stream",
     "text": [
      "1\n",
      "1\n",
      "2\n",
      "3\n",
      "5\n",
      "8\n"
     ]
    }
   ],
   "source": [
    "a,b = 0,1 # note multiple statements in one line\n",
    "while b<10:\n",
    "    print(b)\n",
    "    a,b = b, a+b"
   ]
  },
  {
   "cell_type": "code",
   "execution_count": 45,
   "metadata": {
    "ExecuteTime": {
     "end_time": "2018-03-07T00:34:10.139781Z",
     "start_time": "2018-03-07T00:34:10.133241Z"
    }
   },
   "outputs": [
    {
     "name": "stdout",
     "output_type": "stream",
     "text": [
      "0\n",
      "1\n",
      "1\n",
      "2\n",
      "3\n",
      "5\n",
      "8\n",
      "13\n",
      "21\n",
      "34\n",
      "55\n",
      "89\n",
      "144\n",
      "233\n",
      "377\n",
      "610\n",
      "987\n"
     ]
    }
   ],
   "source": [
    "def fib(n): # Write a Fibonacci series up to integer n\n",
    "    a,b = 0,1\n",
    "    while a<n:\n",
    "        print(a)\n",
    "        a,b = b, a+b\n",
    "fib(1000)"
   ]
  },
  {
   "cell_type": "markdown",
   "metadata": {},
   "source": [
    "More advanced information on defining functions can be found online at the tutorial link,  https://docs.python.org/3/tutorial/controlflow.html.\n",
    "\n",
    "Information on all statements useful in loops can be found there, including\n",
    "**```if```**, **```for```**, **```break```**, **```continue```**, **```pass```**, and others."
   ]
  },
  {
   "cell_type": "markdown",
   "metadata": {},
   "source": [
    "## The ```lambda``` keyword\n",
    "\n",
    "Finally, the **```lambda```** keyword is very useful when defining functions.  __There's not enough time in this tutorial to go through all the uses of ```lambda```, but it's something you will likely come across when doing more advanced statistical function fitting.__\n",
    "\n",
    "In short, the **```lambda```** keyword will help you create anonymous functions (i.e., functions not bound to a name.  Note the use of **```return```** here, as well."
   ]
  },
  {
   "cell_type": "code",
   "execution_count": 46,
   "metadata": {
    "ExecuteTime": {
     "end_time": "2018-03-07T00:34:11.012816Z",
     "start_time": "2018-03-07T00:34:11.008587Z"
    }
   },
   "outputs": [],
   "source": [
    "def raise_to_power(n):\n",
    "    \"\"\" This creates a polynomial that raises a number x to the nth power \"\"\"\n",
    "    return lambda x: x**n"
   ]
  },
  {
   "cell_type": "code",
   "execution_count": 47,
   "metadata": {
    "ExecuteTime": {
     "end_time": "2018-03-07T00:34:11.386419Z",
     "start_time": "2018-03-07T00:34:11.382228Z"
    }
   },
   "outputs": [],
   "source": [
    "f = raise_to_power(5)"
   ]
  },
  {
   "cell_type": "code",
   "execution_count": 48,
   "metadata": {
    "ExecuteTime": {
     "end_time": "2018-03-07T00:34:12.541045Z",
     "start_time": "2018-03-07T00:34:12.536578Z"
    }
   },
   "outputs": [
    {
     "data": {
      "text/plain": [
       "0"
      ]
     },
     "execution_count": 48,
     "metadata": {},
     "output_type": "execute_result"
    }
   ],
   "source": [
    "f(0)"
   ]
  },
  {
   "cell_type": "code",
   "execution_count": 49,
   "metadata": {
    "ExecuteTime": {
     "end_time": "2018-03-07T00:34:12.788283Z",
     "start_time": "2018-03-07T00:34:12.782979Z"
    }
   },
   "outputs": [
    {
     "data": {
      "text/plain": [
       "1"
      ]
     },
     "execution_count": 49,
     "metadata": {},
     "output_type": "execute_result"
    }
   ],
   "source": [
    "f(1)"
   ]
  },
  {
   "cell_type": "code",
   "execution_count": 50,
   "metadata": {
    "ExecuteTime": {
     "end_time": "2018-03-07T00:34:13.229284Z",
     "start_time": "2018-03-07T00:34:13.224404Z"
    }
   },
   "outputs": [
    {
     "data": {
      "text/plain": [
       "32"
      ]
     },
     "execution_count": 50,
     "metadata": {},
     "output_type": "execute_result"
    }
   ],
   "source": [
    "f(2)"
   ]
  },
  {
   "cell_type": "markdown",
   "metadata": {},
   "source": [
    "Also note the string after the **```def()```** statement above.  This is a *function annotation*, and anything enclosed in three quotes (**double** or **single**) will not be printed but is useful for multi-line documentation."
   ]
  },
  {
   "cell_type": "markdown",
   "metadata": {},
   "source": [
    "# Common data types in Python (and NumPy)\n",
    "\n",
    "* tuple ```a=(1,2)```\n",
    "\n",
    "* integer ```b=1```\n",
    "\n",
    "* float ```c=1.``` or ```c=1.0```\n",
    "\n",
    "* list ```d=[1,2,3,4]```\n",
    "\n",
    "* dictionary ```dict = {'a':(1,2), 'b':1, 'c':1.0, 'd':[1,2,3,4] }```"
   ]
  },
  {
   "cell_type": "code",
   "execution_count": 51,
   "metadata": {
    "ExecuteTime": {
     "end_time": "2018-03-07T00:34:14.698991Z",
     "start_time": "2018-03-07T00:34:14.695313Z"
    }
   },
   "outputs": [],
   "source": [
    "dict = {'a':(1,2), 'b':1, 'c':1.0, 'd':[1,2,3,4] }"
   ]
  },
  {
   "cell_type": "code",
   "execution_count": 52,
   "metadata": {
    "ExecuteTime": {
     "end_time": "2018-03-07T00:34:15.388911Z",
     "start_time": "2018-03-07T00:34:15.383591Z"
    }
   },
   "outputs": [
    {
     "data": {
      "text/plain": [
       "1"
      ]
     },
     "execution_count": 52,
     "metadata": {},
     "output_type": "execute_result"
    }
   ],
   "source": [
    "dict['b']"
   ]
  },
  {
   "cell_type": "code",
   "execution_count": 53,
   "metadata": {
    "ExecuteTime": {
     "end_time": "2018-03-07T00:34:15.924558Z",
     "start_time": "2018-03-07T00:34:15.919894Z"
    }
   },
   "outputs": [
    {
     "data": {
      "text/plain": [
       "[1, 2, 3, 4]"
      ]
     },
     "execution_count": 53,
     "metadata": {},
     "output_type": "execute_result"
    }
   ],
   "source": [
    "dict['d']"
   ]
  }
 ],
 "metadata": {
  "kernelspec": {
   "display_name": "Python 3",
   "language": "python",
   "name": "python3"
  },
  "language_info": {
   "codemirror_mode": {
    "name": "ipython",
    "version": 3
   },
   "file_extension": ".py",
   "mimetype": "text/x-python",
   "name": "python",
   "nbconvert_exporter": "python",
   "pygments_lexer": "ipython3",
   "version": "3.6.4"
  }
 },
 "nbformat": 4,
 "nbformat_minor": 1
}
