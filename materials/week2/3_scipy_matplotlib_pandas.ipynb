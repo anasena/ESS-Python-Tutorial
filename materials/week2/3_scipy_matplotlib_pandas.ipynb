{
 "cells": [
  {
   "cell_type": "markdown",
   "metadata": {},
   "source": [
    "# scipy, matplotlib.pyplot, pandas (and datetime)\n",
    "\n",
    "Note the **```pyplot```** module is imported directoy from **```matplotlib```** and is shortened to **```plt```**.  Pyplot is the main tool you will need to plot on screen and save figures using Matplotlib.\n",
    "\n",
    "The best way to learn about scipy is through its [official tutorial](https://docs.scipy.org/doc/scipy/reference/tutorial/).\n",
    "\n",
    "## Look at the official scipy doc [here](https://docs.scipy.org/doc/scipy-1.0.0/reference/).  It has a TON of goodies:\n",
    "* ```scipy.stats```\n",
    "\n",
    "* ```scipy.integrate```\n",
    "\n",
    "* ```scipy.optimize```\n",
    "\n",
    "* ```scipy.interpolate```\n",
    "\n",
    "* ```scipy.fftpack```\n",
    "\n",
    "* ```scipy.signal```\n",
    "\n",
    "* ```scipy.linalg```\n",
    "\n",
    "* ```scipy.io```"
   ]
  },
  {
   "cell_type": "code",
   "execution_count": 1,
   "metadata": {
    "ExecuteTime": {
     "end_time": "2018-03-07T20:16:17.053972Z",
     "start_time": "2018-03-07T20:16:15.575982Z"
    }
   },
   "outputs": [],
   "source": [
    "import numpy\n",
    "import scipy\n",
    "import scipy.stats\n",
    "import matplotlib.pyplot as plt # note, this is often imported as \"plt\"\n",
    "import pandas # for 2D tables like csv and text files\n",
    "import datetime # for time series data\n",
    "\n",
    "# special code for Jupyter Notebook; allows in-line plotting (may not be needed on your machine)\n",
    "%matplotlib inline"
   ]
  },
  {
   "cell_type": "markdown",
   "metadata": {},
   "source": [
    "* Now let's create a \"noisy\" array of data.  Add in noise by using **```numpy.random.normal()```**, which draws random samples around a Gaussian distribution taking 3 arguments as input (location, stdev/scale, and size)\n",
    "* ```numpy.random.normal()``` documentation is [here](https://docs.scipy.org/doc/numpy/reference/generated/numpy.random.normal.html#numpy.random.normal)\n",
    "* Other random sampling options from numpy are [here](https://docs.scipy.org/doc/numpy/reference/routines.random.html)"
   ]
  },
  {
   "cell_type": "code",
   "execution_count": 2,
   "metadata": {
    "ExecuteTime": {
     "end_time": "2018-03-07T20:16:18.684990Z",
     "start_time": "2018-03-07T20:16:18.681110Z"
    }
   },
   "outputs": [],
   "source": [
    "N = 1000\n",
    "xvals = numpy.linspace(1,100,N)"
   ]
  },
  {
   "cell_type": "code",
   "execution_count": 3,
   "metadata": {
    "ExecuteTime": {
     "end_time": "2018-03-07T20:16:19.092860Z",
     "start_time": "2018-03-07T20:16:19.087940Z"
    }
   },
   "outputs": [],
   "source": [
    "a_signal = numpy.linspace(1,100,N)\n",
    "a_noise = numpy.random.normal(loc=0, scale=5, size=N)\n",
    "a = a_signal+a_noise"
   ]
  },
  {
   "cell_type": "code",
   "execution_count": 4,
   "metadata": {
    "ExecuteTime": {
     "end_time": "2018-03-07T20:16:19.501333Z",
     "start_time": "2018-03-07T20:16:19.494124Z"
    }
   },
   "outputs": [
    {
     "data": {
      "text/plain": [
       "DescribeResult(nobs=1000, minmax=(-6.138743490777136, 109.07639318657108), mean=50.27800236350832, variance=848.752157530529, skewness=0.02086277620746494, kurtosis=-1.1422926546517504)"
      ]
     },
     "execution_count": 4,
     "metadata": {},
     "output_type": "execute_result"
    }
   ],
   "source": [
    "scipy.stats.describe(a)"
   ]
  },
  {
   "cell_type": "code",
   "execution_count": 5,
   "metadata": {
    "ExecuteTime": {
     "end_time": "2018-03-07T20:16:20.148462Z",
     "start_time": "2018-03-07T20:16:20.143290Z"
    }
   },
   "outputs": [],
   "source": [
    "b_signal = numpy.linspace(1,100,N)\n",
    "b_noise = numpy.random.normal(loc=0, scale=15, size=N)\n",
    "b = b_signal+b_noise"
   ]
  },
  {
   "cell_type": "code",
   "execution_count": 6,
   "metadata": {
    "ExecuteTime": {
     "end_time": "2018-03-07T20:16:21.046739Z",
     "start_time": "2018-03-07T20:16:20.683408Z"
    }
   },
   "outputs": [
    {
     "data": {
      "text/plain": [
       "<matplotlib.collections.PathCollection at 0x1127dc9e8>"
      ]
     },
     "execution_count": 6,
     "metadata": {},
     "output_type": "execute_result"
    },
    {
     "data": {
      "image/png": "[encoded data removed]",
      "text/plain": [
       "<matplotlib.figure.Figure at 0x11065be10>"
      ]
     },
     "metadata": {},
     "output_type": "display_data"
    }
   ],
   "source": [
    "plt.scatter(xvals, b) # blue\n",
    "plt.scatter(xvals, a) # orange"
   ]
  },
  {
   "cell_type": "markdown",
   "metadata": {},
   "source": [
    "## ==========> NOW YOU TRY <==========\n",
    "\n",
    "* Create an array ```c``` with twice the spread of ```b```, then add it to the plot above"
   ]
  },
  {
   "cell_type": "code",
   "execution_count": null,
   "metadata": {
    "ExecuteTime": {
     "end_time": "2018-03-07T19:47:12.922124Z",
     "start_time": "2018-03-07T19:47:12.915418Z"
    }
   },
   "outputs": [],
   "source": []
  },
  {
   "cell_type": "code",
   "execution_count": 7,
   "metadata": {
    "ExecuteTime": {
     "end_time": "2018-03-07T20:16:23.341658Z",
     "start_time": "2018-03-07T20:16:23.338247Z"
    }
   },
   "outputs": [],
   "source": [
    "#plt.scatter(xvals, c)\n",
    "#plt.scatter(xvals, b)\n",
    "#plt.scatter(xvals, a)"
   ]
  },
  {
   "cell_type": "markdown",
   "metadata": {},
   "source": [
    "## Standard deviation\n",
    "\n",
    "* Center a and b by their means:\n",
    "\n",
    "```a_stdev = numpy.std(a)```"
   ]
  },
  {
   "cell_type": "code",
   "execution_count": 8,
   "metadata": {
    "ExecuteTime": {
     "end_time": "2018-03-07T20:16:26.987300Z",
     "start_time": "2018-03-07T20:16:26.982693Z"
    }
   },
   "outputs": [],
   "source": [
    "a_ctd = a - a.mean()\n",
    "b_ctd = b - b.mean()"
   ]
  },
  {
   "cell_type": "markdown",
   "metadata": {},
   "source": [
    "* Compute the standard deviation of a and b.  The following lines of code are equivalent to the standard deviation formula:\n",
    "\n",
    "$$ \\sigma_a = \\sqrt{ \\frac{1}{N-1} \\sum^n_{i=1}(a_i - \\bar{a})^2 } $$"
   ]
  },
  {
   "cell_type": "code",
   "execution_count": 9,
   "metadata": {
    "ExecuteTime": {
     "end_time": "2018-03-07T20:16:27.854127Z",
     "start_time": "2018-03-07T20:16:27.849750Z"
    }
   },
   "outputs": [],
   "source": [
    "a_stdev = numpy.std(a, ddof=1) # ensures 1/(N-1), default is (1/N)\n",
    "\n",
    "#a_stdev = ( (1./(N-1)) * numpy.sum(a_ctd**2.) ) ** 0.5\n",
    "\n",
    "#a_stdev = numpy.sqrt( (1./(N-1)) * numpy.sum(a_ctd**2.) )"
   ]
  },
  {
   "cell_type": "code",
   "execution_count": 10,
   "metadata": {
    "ExecuteTime": {
     "end_time": "2018-03-07T20:16:28.234644Z",
     "start_time": "2018-03-07T20:16:28.231134Z"
    }
   },
   "outputs": [],
   "source": [
    "b_stdev = numpy.sqrt( (1./(N-1)) * numpy.sum(b_ctd**2.) )"
   ]
  },
  {
   "cell_type": "markdown",
   "metadata": {},
   "source": [
    "## Pearson correlation using ```scipy.stats.pearsonr()```\n",
    "\n",
    "* Compute the correlation between a and b.  You can do this using **```scipy.stats.pearsonr()```**.\n",
    "\n",
    "* Note that this function outputs a tuple with the correlation value and the p-value.  See the documentation [here](https://docs.scipy.org/doc/scipy/reference/generated/scipy.stats.pearsonr.html).\n",
    "\n",
    "* Also beware that the **```scipy.stats.pearsonr()```** function does not use a conservative $\\frac{1}{(N-1)}$ estimate of standard deviation.\n",
    "\n",
    "$$ \\mathrm{corr} = \\frac{1}{N} \\frac{ \\sum^n_{i=1} (a_i-\\bar{a})(b_i-\\bar{b})}{\\sigma_a \\sigma_b} $$"
   ]
  },
  {
   "cell_type": "code",
   "execution_count": 11,
   "metadata": {
    "ExecuteTime": {
     "end_time": "2018-03-07T20:16:29.047491Z",
     "start_time": "2018-03-07T20:16:29.041452Z"
    }
   },
   "outputs": [
    {
     "name": "stdout",
     "output_type": "stream",
     "text": [
      "(0.8774042194270321, 1.299e-320)\n"
     ]
    }
   ],
   "source": [
    "ab_corr = scipy.stats.pearsonr(a,b)\n",
    "print(ab_corr) # returns corr coeff. and p-value"
   ]
  },
  {
   "cell_type": "markdown",
   "metadata": {},
   "source": [
    "* You can also calculate the correlation by hand (you're on your own for the p-value, though...)"
   ]
  },
  {
   "cell_type": "code",
   "execution_count": 12,
   "metadata": {
    "ExecuteTime": {
     "end_time": "2018-03-07T20:16:29.788673Z",
     "start_time": "2018-03-07T20:16:29.784285Z"
    }
   },
   "outputs": [],
   "source": [
    "a_stdev, b_stdev = numpy.std(a), numpy.std(b) # note multiple assignments per line, NON-conservative estimate\n",
    "ab_corr = numpy.mean( (b_ctd*a_ctd) / (a_stdev*b_stdev) )"
   ]
  },
  {
   "cell_type": "code",
   "execution_count": 13,
   "metadata": {
    "ExecuteTime": {
     "end_time": "2018-03-07T20:16:30.134408Z",
     "start_time": "2018-03-07T20:16:30.130944Z"
    }
   },
   "outputs": [
    {
     "name": "stdout",
     "output_type": "stream",
     "text": [
      "0.8774042194270321\n"
     ]
    }
   ],
   "source": [
    "print(ab_corr)"
   ]
  },
  {
   "cell_type": "markdown",
   "metadata": {
    "collapsed": true
   },
   "source": [
    "## Linear regression using ```scipy.stats.linregress()```\n",
    "\n",
    "* Now calculate a simple linear regression on the a and b arrays.  Note **```scipy.stats.linregress()```** outputs 5 different variables.  See its documentation [here](http://docs.scipy.org/doc/scipy/reference/generated/scipy.stats.linregress.html)."
   ]
  },
  {
   "cell_type": "code",
   "execution_count": 14,
   "metadata": {
    "ExecuteTime": {
     "end_time": "2018-03-07T20:16:30.815267Z",
     "start_time": "2018-03-07T20:16:30.808078Z"
    }
   },
   "outputs": [
    {
     "name": "stdout",
     "output_type": "stream",
     "text": [
      "1.002491590108983 0.7684936307142688\n"
     ]
    }
   ],
   "source": [
    "a_slope, a_intercept, a_rval, a_pval, a_stderr = scipy.stats.linregress(xvals,a)\n",
    "b_slope, b_intercept, b_rval, b_pval, b_stderr = scipy.stats.linregress(b,xvals)\n",
    "print(a_slope, b_slope)"
   ]
  },
  {
   "cell_type": "markdown",
   "metadata": {},
   "source": [
    "Calculate a line of best fit using the linear regression info:"
   ]
  },
  {
   "cell_type": "code",
   "execution_count": 15,
   "metadata": {
    "ExecuteTime": {
     "end_time": "2018-03-07T20:16:31.600668Z",
     "start_time": "2018-03-07T20:16:31.596551Z"
    }
   },
   "outputs": [],
   "source": [
    "a_fit = a_slope * xvals + a_intercept\n",
    "b_fit = b_slope * xvals + b_intercept"
   ]
  },
  {
   "cell_type": "markdown",
   "metadata": {},
   "source": [
    "# matplotlib.pyplot\n",
    "\n",
    "If/when you have the time, the official [Pyplot tutorial](https://matplotlib.org/users/pyplot_tutorial.html) is a good place to start."
   ]
  },
  {
   "cell_type": "markdown",
   "metadata": {},
   "source": [
    "## Simple plotting\n",
    "\n",
    "* Now plot the a and b data along with a best-fit line.\n",
    "* There are a few different ways of creating a figure.\n",
    "* One way is using **```plt.plot()```** directory:"
   ]
  },
  {
   "cell_type": "code",
   "execution_count": 16,
   "metadata": {
    "ExecuteTime": {
     "end_time": "2018-03-07T20:16:47.504102Z",
     "start_time": "2018-03-07T20:16:47.314145Z"
    }
   },
   "outputs": [
    {
     "data": {
      "text/plain": [
       "<matplotlib.legend.Legend at 0x1128da9b0>"
      ]
     },
     "execution_count": 16,
     "metadata": {},
     "output_type": "execute_result"
    },
    {
     "data": {
      "image/png": "[encoded data removed]",
      "text/plain": [
       "<matplotlib.figure.Figure at 0x1106a21d0>"
      ]
     },
     "metadata": {},
     "output_type": "display_data"
    }
   ],
   "source": [
    "plt.scatter(xvals, a, label='a')\n",
    "plt.plot(xvals, a_fit, label='a fit', c='red')\n",
    "plt.legend()"
   ]
  },
  {
   "cell_type": "markdown",
   "metadata": {},
   "source": [
    "Another way is calling **```plt.subplot()```**, which will allow you to plot panels using a (row,col,plot_number) syntax:"
   ]
  },
  {
   "cell_type": "code",
   "execution_count": 17,
   "metadata": {
    "ExecuteTime": {
     "end_time": "2018-03-07T20:16:48.928974Z",
     "start_time": "2018-03-07T20:16:48.746339Z"
    }
   },
   "outputs": [
    {
     "data": {
      "text/plain": [
       "<matplotlib.legend.Legend at 0x1129b66d8>"
      ]
     },
     "execution_count": 17,
     "metadata": {},
     "output_type": "execute_result"
    },
    {
     "data": {
      "image/png": "[encoded data removed]",
      "text/plain": [
       "<matplotlib.figure.Figure at 0x112842b38>"
      ]
     },
     "metadata": {},
     "output_type": "display_data"
    }
   ],
   "source": [
    "ax1 = plt.subplot(1,1,1) # (rows, cols, plot), (111) also works --> commas not necessary\n",
    "ax1.scatter(xvals, a, label='a')\n",
    "ax1.plot(xvals, a_fit, label='a fit', c='red')\n",
    "ax1.legend()"
   ]
  },
  {
   "cell_type": "markdown",
   "metadata": {},
   "source": [
    "The __most flexible__ way of creating a figure is to create it using **```fig = plt.figure()```** and *adding* subplots one by one using **```fig.add_subplot()```**.\n",
    "\n",
    "* ** The advantage of this method is that axes can be adjusted individually and there is a LOT of flexibitily here.**\n",
    "* **If you plan to be creating publication-ready figures, this is a great place to start.**\n",
    "* Note this figure is saved as a PDF using the **```plt.savefig()```** function:  http://matplotlib.org/api/pyplot_api.html#matplotlib.pyplot.savefig"
   ]
  },
  {
   "cell_type": "code",
   "execution_count": 18,
   "metadata": {
    "ExecuteTime": {
     "end_time": "2018-03-07T20:16:50.663455Z",
     "start_time": "2018-03-07T20:16:50.094272Z"
    }
   },
   "outputs": [
    {
     "data": {
      "image/png": "[encoded data removed]",
      "text/plain": [
       "<matplotlib.figure.Figure at 0x1129e50f0>"
      ]
     },
     "metadata": {},
     "output_type": "display_data"
    }
   ],
   "source": [
    "fig = plt.figure(figsize=(8,6)) # size is optional\n",
    "\n",
    "my_font_size = 12\n",
    "\n",
    "ax1 = fig.add_subplot(2,1,1) # (rows, cols, plot)\n",
    "ax1.scatter(xvals, a, label='a', color='black')\n",
    "ax1.plot(xvals, a_fit, color='red', label='a fit', lw=3)\n",
    "ax1.set_ylim(-50,150)\n",
    "ax1.set_ylabel('a label', fontsize = my_font_size)\n",
    "ax1.tick_params(labelsize = my_font_size)\n",
    "ax1.legend(loc=0)\n",
    "\n",
    "ax2 = fig.add_subplot(2,1,2)\n",
    "ax2.scatter(xvals, b, label='b', color='black')\n",
    "ax2.plot(xvals, b_fit, color='red', label='b fit', lw=3)\n",
    "ax2.set_ylim(-50,150)\n",
    "ax2.set_ylabel('b label', fontsize = my_font_size)\n",
    "ax2.tick_params(labelsize = my_font_size)\n",
    "ax2.legend(loc=0)\n",
    "\n",
    "plt.tight_layout() # helpful for stretching axes to the \"figsize\" chosen in line 1\n",
    "plt.savefig('ab_trends.pdf', transparent=True)"
   ]
  },
  {
   "cell_type": "markdown",
   "metadata": {},
   "source": [
    "## ==========> NOW YOU TRY <==========\n",
    "\n",
    "* The linear regression fit looks wrong for b.  Can you find the error?  (Hint?:  The plotting syntax is correct)"
   ]
  },
  {
   "cell_type": "markdown",
   "metadata": {},
   "source": [
    "# Plotting the Niño 3.4 index (with ```pandas``` and ```datetime```)\n",
    "\n",
    "* Download MONTHLY Niño index data (.txt file) from the Climate Prediction Center website:\n",
    "http://www.cpc.ncep.noaa.gov/data/indices/ersst4.nino.mth.81-10.ascii\n",
    "\n",
    "* This file is available in the week2 folder on the seminar webpage"
   ]
  },
  {
   "cell_type": "markdown",
   "metadata": {},
   "source": [
    "* Read a txt or csv file using the ```pandas.read_table()``` function"
   ]
  },
  {
   "cell_type": "code",
   "execution_count": 19,
   "metadata": {
    "ExecuteTime": {
     "end_time": "2018-03-07T20:16:53.123429Z",
     "start_time": "2018-03-07T20:16:53.106825Z"
    }
   },
   "outputs": [],
   "source": [
    "filename = 'ersst4.nino.mth.81-10.ascii.txt'\n",
    "data_file = pandas.read_table(filename, delim_whitespace=True)\n",
    "data = data_file.values"
   ]
  },
  {
   "cell_type": "code",
   "execution_count": 20,
   "metadata": {
    "ExecuteTime": {
     "end_time": "2018-03-07T20:16:53.548874Z",
     "start_time": "2018-03-07T20:16:53.543306Z"
    }
   },
   "outputs": [
    {
     "data": {
      "text/plain": [
       "pandas.core.frame.DataFrame"
      ]
     },
     "execution_count": 20,
     "metadata": {},
     "output_type": "execute_result"
    }
   ],
   "source": [
    "type(data_file)"
   ]
  },
  {
   "cell_type": "code",
   "execution_count": 21,
   "metadata": {
    "ExecuteTime": {
     "end_time": "2018-03-07T20:16:54.022411Z",
     "start_time": "2018-03-07T20:16:53.976187Z"
    }
   },
   "outputs": [
    {
     "data": {
      "text/html": [
       "<div>\n",
       "<style scoped>\n",
       "    .dataframe tbody tr th:only-of-type {\n",
       "        vertical-align: middle;\n",
       "    }\n",
       "\n",
       "    .dataframe tbody tr th {\n",
       "        vertical-align: top;\n",
       "    }\n",
       "\n",
       "    .dataframe thead th {\n",
       "        text-align: right;\n",
       "    }\n",
       "</style>\n",
       "<table border=\"1\" class=\"dataframe\">\n",
       "  <thead>\n",
       "    <tr style=\"text-align: right;\">\n",
       "      <th></th>\n",
       "      <th>YR</th>\n",
       "      <th>MON</th>\n",
       "      <th>NINO1+2</th>\n",
       "      <th>ANOM</th>\n",
       "      <th>NINO3</th>\n",
       "      <th>ANOM.1</th>\n",
       "      <th>NINO4</th>\n",
       "      <th>ANOM.2</th>\n",
       "      <th>NINO3.4</th>\n",
       "      <th>ANOM.3</th>\n",
       "    </tr>\n",
       "  </thead>\n",
       "  <tbody>\n",
       "    <tr>\n",
       "      <th>0</th>\n",
       "      <td>1950</td>\n",
       "      <td>1</td>\n",
       "      <td>23.30</td>\n",
       "      <td>-1.41</td>\n",
       "      <td>23.84</td>\n",
       "      <td>-1.96</td>\n",
       "      <td>27.18</td>\n",
       "      <td>-1.17</td>\n",
       "      <td>24.91</td>\n",
       "      <td>-1.80</td>\n",
       "    </tr>\n",
       "    <tr>\n",
       "      <th>1</th>\n",
       "      <td>1950</td>\n",
       "      <td>2</td>\n",
       "      <td>24.33</td>\n",
       "      <td>-1.85</td>\n",
       "      <td>25.06</td>\n",
       "      <td>-1.49</td>\n",
       "      <td>26.83</td>\n",
       "      <td>-1.37</td>\n",
       "      <td>25.26</td>\n",
       "      <td>-1.62</td>\n",
       "    </tr>\n",
       "    <tr>\n",
       "      <th>2</th>\n",
       "      <td>1950</td>\n",
       "      <td>3</td>\n",
       "      <td>25.24</td>\n",
       "      <td>-1.33</td>\n",
       "      <td>26.53</td>\n",
       "      <td>-0.76</td>\n",
       "      <td>26.91</td>\n",
       "      <td>-1.41</td>\n",
       "      <td>26.08</td>\n",
       "      <td>-1.28</td>\n",
       "    </tr>\n",
       "    <tr>\n",
       "      <th>3</th>\n",
       "      <td>1950</td>\n",
       "      <td>4</td>\n",
       "      <td>23.88</td>\n",
       "      <td>-1.80</td>\n",
       "      <td>26.64</td>\n",
       "      <td>-0.97</td>\n",
       "      <td>27.42</td>\n",
       "      <td>-1.16</td>\n",
       "      <td>26.38</td>\n",
       "      <td>-1.46</td>\n",
       "    </tr>\n",
       "    <tr>\n",
       "      <th>4</th>\n",
       "      <td>1950</td>\n",
       "      <td>5</td>\n",
       "      <td>22.91</td>\n",
       "      <td>-1.56</td>\n",
       "      <td>25.87</td>\n",
       "      <td>-1.42</td>\n",
       "      <td>27.95</td>\n",
       "      <td>-0.94</td>\n",
       "      <td>26.25</td>\n",
       "      <td>-1.71</td>\n",
       "    </tr>\n",
       "    <tr>\n",
       "      <th>5</th>\n",
       "      <td>1950</td>\n",
       "      <td>6</td>\n",
       "      <td>21.60</td>\n",
       "      <td>-1.55</td>\n",
       "      <td>25.63</td>\n",
       "      <td>-1.00</td>\n",
       "      <td>28.27</td>\n",
       "      <td>-0.62</td>\n",
       "      <td>26.59</td>\n",
       "      <td>-1.14</td>\n",
       "    </tr>\n",
       "    <tr>\n",
       "      <th>6</th>\n",
       "      <td>1950</td>\n",
       "      <td>7</td>\n",
       "      <td>20.58</td>\n",
       "      <td>-1.47</td>\n",
       "      <td>25.01</td>\n",
       "      <td>-0.80</td>\n",
       "      <td>27.84</td>\n",
       "      <td>-1.00</td>\n",
       "      <td>26.40</td>\n",
       "      <td>-0.91</td>\n",
       "    </tr>\n",
       "    <tr>\n",
       "      <th>7</th>\n",
       "      <td>1950</td>\n",
       "      <td>8</td>\n",
       "      <td>20.29</td>\n",
       "      <td>-0.82</td>\n",
       "      <td>24.52</td>\n",
       "      <td>-0.71</td>\n",
       "      <td>27.54</td>\n",
       "      <td>-1.23</td>\n",
       "      <td>25.90</td>\n",
       "      <td>-1.06</td>\n",
       "    </tr>\n",
       "    <tr>\n",
       "      <th>8</th>\n",
       "      <td>1950</td>\n",
       "      <td>9</td>\n",
       "      <td>19.67</td>\n",
       "      <td>-1.19</td>\n",
       "      <td>24.17</td>\n",
       "      <td>-0.90</td>\n",
       "      <td>27.44</td>\n",
       "      <td>-1.34</td>\n",
       "      <td>25.73</td>\n",
       "      <td>-1.14</td>\n",
       "    </tr>\n",
       "    <tr>\n",
       "      <th>9</th>\n",
       "      <td>1950</td>\n",
       "      <td>10</td>\n",
       "      <td>20.14</td>\n",
       "      <td>-1.03</td>\n",
       "      <td>24.41</td>\n",
       "      <td>-0.71</td>\n",
       "      <td>27.43</td>\n",
       "      <td>-1.34</td>\n",
       "      <td>25.86</td>\n",
       "      <td>-0.97</td>\n",
       "    </tr>\n",
       "    <tr>\n",
       "      <th>10</th>\n",
       "      <td>1950</td>\n",
       "      <td>11</td>\n",
       "      <td>20.19</td>\n",
       "      <td>-1.66</td>\n",
       "      <td>24.21</td>\n",
       "      <td>-0.98</td>\n",
       "      <td>27.42</td>\n",
       "      <td>-1.28</td>\n",
       "      <td>25.71</td>\n",
       "      <td>-1.06</td>\n",
       "    </tr>\n",
       "    <tr>\n",
       "      <th>11</th>\n",
       "      <td>1950</td>\n",
       "      <td>12</td>\n",
       "      <td>21.82</td>\n",
       "      <td>-1.26</td>\n",
       "      <td>24.36</td>\n",
       "      <td>-1.00</td>\n",
       "      <td>27.35</td>\n",
       "      <td>-1.22</td>\n",
       "      <td>25.43</td>\n",
       "      <td>-1.30</td>\n",
       "    </tr>\n",
       "    <tr>\n",
       "      <th>12</th>\n",
       "      <td>1951</td>\n",
       "      <td>1</td>\n",
       "      <td>24.19</td>\n",
       "      <td>-0.53</td>\n",
       "      <td>24.96</td>\n",
       "      <td>-0.84</td>\n",
       "      <td>27.39</td>\n",
       "      <td>-0.96</td>\n",
       "      <td>25.40</td>\n",
       "      <td>-1.31</td>\n",
       "    </tr>\n",
       "    <tr>\n",
       "      <th>13</th>\n",
       "      <td>1951</td>\n",
       "      <td>2</td>\n",
       "      <td>25.04</td>\n",
       "      <td>-1.13</td>\n",
       "      <td>25.81</td>\n",
       "      <td>-0.73</td>\n",
       "      <td>27.17</td>\n",
       "      <td>-1.03</td>\n",
       "      <td>25.78</td>\n",
       "      <td>-1.10</td>\n",
       "    </tr>\n",
       "    <tr>\n",
       "      <th>14</th>\n",
       "      <td>1951</td>\n",
       "      <td>3</td>\n",
       "      <td>25.51</td>\n",
       "      <td>-1.06</td>\n",
       "      <td>27.04</td>\n",
       "      <td>-0.24</td>\n",
       "      <td>27.85</td>\n",
       "      <td>-0.46</td>\n",
       "      <td>27.02</td>\n",
       "      <td>-0.34</td>\n",
       "    </tr>\n",
       "    <tr>\n",
       "      <th>15</th>\n",
       "      <td>1951</td>\n",
       "      <td>4</td>\n",
       "      <td>25.19</td>\n",
       "      <td>-0.48</td>\n",
       "      <td>27.43</td>\n",
       "      <td>-0.18</td>\n",
       "      <td>28.43</td>\n",
       "      <td>-0.15</td>\n",
       "      <td>27.63</td>\n",
       "      <td>-0.22</td>\n",
       "    </tr>\n",
       "    <tr>\n",
       "      <th>16</th>\n",
       "      <td>1951</td>\n",
       "      <td>5</td>\n",
       "      <td>24.55</td>\n",
       "      <td>0.07</td>\n",
       "      <td>27.15</td>\n",
       "      <td>-0.14</td>\n",
       "      <td>29.09</td>\n",
       "      <td>0.20</td>\n",
       "      <td>27.99</td>\n",
       "      <td>0.03</td>\n",
       "    </tr>\n",
       "    <tr>\n",
       "      <th>17</th>\n",
       "      <td>1951</td>\n",
       "      <td>6</td>\n",
       "      <td>24.57</td>\n",
       "      <td>1.42</td>\n",
       "      <td>26.62</td>\n",
       "      <td>-0.01</td>\n",
       "      <td>29.04</td>\n",
       "      <td>0.14</td>\n",
       "      <td>27.51</td>\n",
       "      <td>-0.22</td>\n",
       "    </tr>\n",
       "    <tr>\n",
       "      <th>18</th>\n",
       "      <td>1951</td>\n",
       "      <td>7</td>\n",
       "      <td>23.79</td>\n",
       "      <td>1.75</td>\n",
       "      <td>26.56</td>\n",
       "      <td>0.75</td>\n",
       "      <td>28.76</td>\n",
       "      <td>-0.09</td>\n",
       "      <td>27.58</td>\n",
       "      <td>0.27</td>\n",
       "    </tr>\n",
       "    <tr>\n",
       "      <th>19</th>\n",
       "      <td>1951</td>\n",
       "      <td>8</td>\n",
       "      <td>22.25</td>\n",
       "      <td>1.14</td>\n",
       "      <td>25.86</td>\n",
       "      <td>0.63</td>\n",
       "      <td>28.24</td>\n",
       "      <td>-0.52</td>\n",
       "      <td>27.07</td>\n",
       "      <td>0.11</td>\n",
       "    </tr>\n",
       "    <tr>\n",
       "      <th>20</th>\n",
       "      <td>1951</td>\n",
       "      <td>9</td>\n",
       "      <td>21.45</td>\n",
       "      <td>0.59</td>\n",
       "      <td>25.73</td>\n",
       "      <td>0.66</td>\n",
       "      <td>28.44</td>\n",
       "      <td>-0.34</td>\n",
       "      <td>27.28</td>\n",
       "      <td>0.41</td>\n",
       "    </tr>\n",
       "    <tr>\n",
       "      <th>21</th>\n",
       "      <td>1951</td>\n",
       "      <td>10</td>\n",
       "      <td>21.77</td>\n",
       "      <td>0.60</td>\n",
       "      <td>25.73</td>\n",
       "      <td>0.62</td>\n",
       "      <td>28.50</td>\n",
       "      <td>-0.27</td>\n",
       "      <td>27.12</td>\n",
       "      <td>0.29</td>\n",
       "    </tr>\n",
       "    <tr>\n",
       "      <th>22</th>\n",
       "      <td>1951</td>\n",
       "      <td>11</td>\n",
       "      <td>22.31</td>\n",
       "      <td>0.47</td>\n",
       "      <td>25.99</td>\n",
       "      <td>0.80</td>\n",
       "      <td>28.68</td>\n",
       "      <td>-0.03</td>\n",
       "      <td>27.13</td>\n",
       "      <td>0.35</td>\n",
       "    </tr>\n",
       "    <tr>\n",
       "      <th>23</th>\n",
       "      <td>1951</td>\n",
       "      <td>12</td>\n",
       "      <td>22.91</td>\n",
       "      <td>-0.17</td>\n",
       "      <td>25.84</td>\n",
       "      <td>0.48</td>\n",
       "      <td>28.52</td>\n",
       "      <td>-0.05</td>\n",
       "      <td>26.90</td>\n",
       "      <td>0.17</td>\n",
       "    </tr>\n",
       "    <tr>\n",
       "      <th>24</th>\n",
       "      <td>1952</td>\n",
       "      <td>1</td>\n",
       "      <td>24.40</td>\n",
       "      <td>-0.32</td>\n",
       "      <td>25.96</td>\n",
       "      <td>0.16</td>\n",
       "      <td>28.37</td>\n",
       "      <td>0.03</td>\n",
       "      <td>26.76</td>\n",
       "      <td>0.05</td>\n",
       "    </tr>\n",
       "    <tr>\n",
       "      <th>25</th>\n",
       "      <td>1952</td>\n",
       "      <td>2</td>\n",
       "      <td>25.95</td>\n",
       "      <td>-0.22</td>\n",
       "      <td>26.49</td>\n",
       "      <td>-0.05</td>\n",
       "      <td>28.12</td>\n",
       "      <td>-0.09</td>\n",
       "      <td>26.86</td>\n",
       "      <td>-0.01</td>\n",
       "    </tr>\n",
       "    <tr>\n",
       "      <th>26</th>\n",
       "      <td>1952</td>\n",
       "      <td>3</td>\n",
       "      <td>26.26</td>\n",
       "      <td>-0.30</td>\n",
       "      <td>27.29</td>\n",
       "      <td>-0.00</td>\n",
       "      <td>28.15</td>\n",
       "      <td>-0.17</td>\n",
       "      <td>27.36</td>\n",
       "      <td>-0.00</td>\n",
       "    </tr>\n",
       "    <tr>\n",
       "      <th>27</th>\n",
       "      <td>1952</td>\n",
       "      <td>4</td>\n",
       "      <td>24.91</td>\n",
       "      <td>-0.76</td>\n",
       "      <td>27.59</td>\n",
       "      <td>-0.02</td>\n",
       "      <td>28.58</td>\n",
       "      <td>-0.01</td>\n",
       "      <td>28.02</td>\n",
       "      <td>0.17</td>\n",
       "    </tr>\n",
       "    <tr>\n",
       "      <th>28</th>\n",
       "      <td>1952</td>\n",
       "      <td>5</td>\n",
       "      <td>23.99</td>\n",
       "      <td>-0.48</td>\n",
       "      <td>27.15</td>\n",
       "      <td>-0.14</td>\n",
       "      <td>28.76</td>\n",
       "      <td>-0.13</td>\n",
       "      <td>28.16</td>\n",
       "      <td>0.20</td>\n",
       "    </tr>\n",
       "    <tr>\n",
       "      <th>29</th>\n",
       "      <td>1952</td>\n",
       "      <td>6</td>\n",
       "      <td>22.55</td>\n",
       "      <td>-0.60</td>\n",
       "      <td>26.11</td>\n",
       "      <td>-0.52</td>\n",
       "      <td>28.55</td>\n",
       "      <td>-0.34</td>\n",
       "      <td>27.48</td>\n",
       "      <td>-0.25</td>\n",
       "    </tr>\n",
       "    <tr>\n",
       "      <th>...</th>\n",
       "      <td>...</td>\n",
       "      <td>...</td>\n",
       "      <td>...</td>\n",
       "      <td>...</td>\n",
       "      <td>...</td>\n",
       "      <td>...</td>\n",
       "      <td>...</td>\n",
       "      <td>...</td>\n",
       "      <td>...</td>\n",
       "      <td>...</td>\n",
       "    </tr>\n",
       "    <tr>\n",
       "      <th>765</th>\n",
       "      <td>2013</td>\n",
       "      <td>10</td>\n",
       "      <td>20.60</td>\n",
       "      <td>-0.57</td>\n",
       "      <td>24.97</td>\n",
       "      <td>-0.15</td>\n",
       "      <td>28.85</td>\n",
       "      <td>0.07</td>\n",
       "      <td>26.67</td>\n",
       "      <td>-0.16</td>\n",
       "    </tr>\n",
       "    <tr>\n",
       "      <th>766</th>\n",
       "      <td>2013</td>\n",
       "      <td>11</td>\n",
       "      <td>21.58</td>\n",
       "      <td>-0.27</td>\n",
       "      <td>25.06</td>\n",
       "      <td>-0.13</td>\n",
       "      <td>28.68</td>\n",
       "      <td>-0.03</td>\n",
       "      <td>26.63</td>\n",
       "      <td>-0.15</td>\n",
       "    </tr>\n",
       "    <tr>\n",
       "      <th>767</th>\n",
       "      <td>2013</td>\n",
       "      <td>12</td>\n",
       "      <td>22.83</td>\n",
       "      <td>-0.25</td>\n",
       "      <td>25.26</td>\n",
       "      <td>-0.10</td>\n",
       "      <td>28.53</td>\n",
       "      <td>-0.04</td>\n",
       "      <td>26.52</td>\n",
       "      <td>-0.20</td>\n",
       "    </tr>\n",
       "    <tr>\n",
       "      <th>768</th>\n",
       "      <td>2014</td>\n",
       "      <td>1</td>\n",
       "      <td>24.71</td>\n",
       "      <td>-0.01</td>\n",
       "      <td>25.43</td>\n",
       "      <td>-0.37</td>\n",
       "      <td>28.15</td>\n",
       "      <td>-0.20</td>\n",
       "      <td>26.12</td>\n",
       "      <td>-0.59</td>\n",
       "    </tr>\n",
       "    <tr>\n",
       "      <th>769</th>\n",
       "      <td>2014</td>\n",
       "      <td>2</td>\n",
       "      <td>25.74</td>\n",
       "      <td>-0.44</td>\n",
       "      <td>25.98</td>\n",
       "      <td>-0.56</td>\n",
       "      <td>28.23</td>\n",
       "      <td>0.03</td>\n",
       "      <td>26.16</td>\n",
       "      <td>-0.72</td>\n",
       "    </tr>\n",
       "    <tr>\n",
       "      <th>770</th>\n",
       "      <td>2014</td>\n",
       "      <td>3</td>\n",
       "      <td>26.26</td>\n",
       "      <td>-0.31</td>\n",
       "      <td>27.09</td>\n",
       "      <td>-0.20</td>\n",
       "      <td>28.44</td>\n",
       "      <td>0.12</td>\n",
       "      <td>26.89</td>\n",
       "      <td>-0.47</td>\n",
       "    </tr>\n",
       "    <tr>\n",
       "      <th>771</th>\n",
       "      <td>2014</td>\n",
       "      <td>4</td>\n",
       "      <td>25.56</td>\n",
       "      <td>-0.11</td>\n",
       "      <td>27.65</td>\n",
       "      <td>0.04</td>\n",
       "      <td>28.91</td>\n",
       "      <td>0.32</td>\n",
       "      <td>27.71</td>\n",
       "      <td>-0.13</td>\n",
       "    </tr>\n",
       "    <tr>\n",
       "      <th>772</th>\n",
       "      <td>2014</td>\n",
       "      <td>5</td>\n",
       "      <td>25.16</td>\n",
       "      <td>0.68</td>\n",
       "      <td>27.67</td>\n",
       "      <td>0.38</td>\n",
       "      <td>29.16</td>\n",
       "      <td>0.28</td>\n",
       "      <td>28.01</td>\n",
       "      <td>0.05</td>\n",
       "    </tr>\n",
       "    <tr>\n",
       "      <th>773</th>\n",
       "      <td>2014</td>\n",
       "      <td>6</td>\n",
       "      <td>24.32</td>\n",
       "      <td>1.17</td>\n",
       "      <td>27.11</td>\n",
       "      <td>0.48</td>\n",
       "      <td>29.05</td>\n",
       "      <td>0.16</td>\n",
       "      <td>27.68</td>\n",
       "      <td>-0.05</td>\n",
       "    </tr>\n",
       "    <tr>\n",
       "      <th>774</th>\n",
       "      <td>2014</td>\n",
       "      <td>7</td>\n",
       "      <td>23.12</td>\n",
       "      <td>1.08</td>\n",
       "      <td>26.30</td>\n",
       "      <td>0.49</td>\n",
       "      <td>29.05</td>\n",
       "      <td>0.20</td>\n",
       "      <td>27.28</td>\n",
       "      <td>-0.03</td>\n",
       "    </tr>\n",
       "    <tr>\n",
       "      <th>775</th>\n",
       "      <td>2014</td>\n",
       "      <td>8</td>\n",
       "      <td>22.03</td>\n",
       "      <td>0.92</td>\n",
       "      <td>25.41</td>\n",
       "      <td>0.18</td>\n",
       "      <td>29.11</td>\n",
       "      <td>0.34</td>\n",
       "      <td>26.90</td>\n",
       "      <td>-0.06</td>\n",
       "    </tr>\n",
       "    <tr>\n",
       "      <th>776</th>\n",
       "      <td>2014</td>\n",
       "      <td>9</td>\n",
       "      <td>21.47</td>\n",
       "      <td>0.61</td>\n",
       "      <td>25.36</td>\n",
       "      <td>0.29</td>\n",
       "      <td>29.24</td>\n",
       "      <td>0.45</td>\n",
       "      <td>27.03</td>\n",
       "      <td>0.15</td>\n",
       "    </tr>\n",
       "    <tr>\n",
       "      <th>777</th>\n",
       "      <td>2014</td>\n",
       "      <td>10</td>\n",
       "      <td>21.66</td>\n",
       "      <td>0.49</td>\n",
       "      <td>25.72</td>\n",
       "      <td>0.61</td>\n",
       "      <td>29.28</td>\n",
       "      <td>0.50</td>\n",
       "      <td>27.25</td>\n",
       "      <td>0.42</td>\n",
       "    </tr>\n",
       "    <tr>\n",
       "      <th>778</th>\n",
       "      <td>2014</td>\n",
       "      <td>11</td>\n",
       "      <td>22.39</td>\n",
       "      <td>0.55</td>\n",
       "      <td>26.03</td>\n",
       "      <td>0.84</td>\n",
       "      <td>29.37</td>\n",
       "      <td>0.66</td>\n",
       "      <td>27.52</td>\n",
       "      <td>0.74</td>\n",
       "    </tr>\n",
       "    <tr>\n",
       "      <th>779</th>\n",
       "      <td>2014</td>\n",
       "      <td>12</td>\n",
       "      <td>23.36</td>\n",
       "      <td>0.27</td>\n",
       "      <td>26.07</td>\n",
       "      <td>0.71</td>\n",
       "      <td>29.33</td>\n",
       "      <td>0.75</td>\n",
       "      <td>27.40</td>\n",
       "      <td>0.67</td>\n",
       "    </tr>\n",
       "    <tr>\n",
       "      <th>780</th>\n",
       "      <td>2015</td>\n",
       "      <td>1</td>\n",
       "      <td>24.68</td>\n",
       "      <td>-0.03</td>\n",
       "      <td>26.25</td>\n",
       "      <td>0.46</td>\n",
       "      <td>29.10</td>\n",
       "      <td>0.75</td>\n",
       "      <td>27.21</td>\n",
       "      <td>0.50</td>\n",
       "    </tr>\n",
       "    <tr>\n",
       "      <th>781</th>\n",
       "      <td>2015</td>\n",
       "      <td>2</td>\n",
       "      <td>25.84</td>\n",
       "      <td>-0.34</td>\n",
       "      <td>26.67</td>\n",
       "      <td>0.13</td>\n",
       "      <td>28.99</td>\n",
       "      <td>0.79</td>\n",
       "      <td>27.23</td>\n",
       "      <td>0.36</td>\n",
       "    </tr>\n",
       "    <tr>\n",
       "      <th>782</th>\n",
       "      <td>2015</td>\n",
       "      <td>3</td>\n",
       "      <td>26.69</td>\n",
       "      <td>0.12</td>\n",
       "      <td>27.51</td>\n",
       "      <td>0.22</td>\n",
       "      <td>29.16</td>\n",
       "      <td>0.84</td>\n",
       "      <td>27.77</td>\n",
       "      <td>0.41</td>\n",
       "    </tr>\n",
       "    <tr>\n",
       "      <th>783</th>\n",
       "      <td>2015</td>\n",
       "      <td>4</td>\n",
       "      <td>26.29</td>\n",
       "      <td>0.61</td>\n",
       "      <td>28.23</td>\n",
       "      <td>0.62</td>\n",
       "      <td>29.61</td>\n",
       "      <td>1.03</td>\n",
       "      <td>28.58</td>\n",
       "      <td>0.73</td>\n",
       "    </tr>\n",
       "    <tr>\n",
       "      <th>784</th>\n",
       "      <td>2015</td>\n",
       "      <td>5</td>\n",
       "      <td>25.68</td>\n",
       "      <td>1.21</td>\n",
       "      <td>28.19</td>\n",
       "      <td>0.90</td>\n",
       "      <td>29.83</td>\n",
       "      <td>0.95</td>\n",
       "      <td>28.82</td>\n",
       "      <td>0.86</td>\n",
       "    </tr>\n",
       "    <tr>\n",
       "      <th>785</th>\n",
       "      <td>2015</td>\n",
       "      <td>6</td>\n",
       "      <td>25.13</td>\n",
       "      <td>1.98</td>\n",
       "      <td>27.87</td>\n",
       "      <td>1.24</td>\n",
       "      <td>29.77</td>\n",
       "      <td>0.87</td>\n",
       "      <td>28.70</td>\n",
       "      <td>0.97</td>\n",
       "    </tr>\n",
       "    <tr>\n",
       "      <th>786</th>\n",
       "      <td>2015</td>\n",
       "      <td>7</td>\n",
       "      <td>24.30</td>\n",
       "      <td>2.26</td>\n",
       "      <td>27.40</td>\n",
       "      <td>1.59</td>\n",
       "      <td>29.58</td>\n",
       "      <td>0.74</td>\n",
       "      <td>28.50</td>\n",
       "      <td>1.19</td>\n",
       "    </tr>\n",
       "    <tr>\n",
       "      <th>787</th>\n",
       "      <td>2015</td>\n",
       "      <td>8</td>\n",
       "      <td>22.83</td>\n",
       "      <td>1.73</td>\n",
       "      <td>27.06</td>\n",
       "      <td>1.83</td>\n",
       "      <td>29.57</td>\n",
       "      <td>0.81</td>\n",
       "      <td>28.47</td>\n",
       "      <td>1.51</td>\n",
       "    </tr>\n",
       "    <tr>\n",
       "      <th>788</th>\n",
       "      <td>2015</td>\n",
       "      <td>9</td>\n",
       "      <td>22.96</td>\n",
       "      <td>2.10</td>\n",
       "      <td>27.12</td>\n",
       "      <td>2.05</td>\n",
       "      <td>29.63</td>\n",
       "      <td>0.85</td>\n",
       "      <td>28.62</td>\n",
       "      <td>1.75</td>\n",
       "    </tr>\n",
       "    <tr>\n",
       "      <th>789</th>\n",
       "      <td>2015</td>\n",
       "      <td>10</td>\n",
       "      <td>23.08</td>\n",
       "      <td>1.91</td>\n",
       "      <td>27.37</td>\n",
       "      <td>2.25</td>\n",
       "      <td>29.73</td>\n",
       "      <td>0.96</td>\n",
       "      <td>28.87</td>\n",
       "      <td>2.04</td>\n",
       "    </tr>\n",
       "    <tr>\n",
       "      <th>790</th>\n",
       "      <td>2015</td>\n",
       "      <td>11</td>\n",
       "      <td>23.87</td>\n",
       "      <td>2.03</td>\n",
       "      <td>27.72</td>\n",
       "      <td>2.53</td>\n",
       "      <td>29.99</td>\n",
       "      <td>1.29</td>\n",
       "      <td>29.14</td>\n",
       "      <td>2.37</td>\n",
       "    </tr>\n",
       "    <tr>\n",
       "      <th>791</th>\n",
       "      <td>2015</td>\n",
       "      <td>12</td>\n",
       "      <td>24.86</td>\n",
       "      <td>1.78</td>\n",
       "      <td>27.83</td>\n",
       "      <td>2.48</td>\n",
       "      <td>29.87</td>\n",
       "      <td>1.30</td>\n",
       "      <td>29.04</td>\n",
       "      <td>2.32</td>\n",
       "    </tr>\n",
       "    <tr>\n",
       "      <th>792</th>\n",
       "      <td>2016</td>\n",
       "      <td>1</td>\n",
       "      <td>26.21</td>\n",
       "      <td>1.49</td>\n",
       "      <td>28.14</td>\n",
       "      <td>2.34</td>\n",
       "      <td>29.46</td>\n",
       "      <td>1.11</td>\n",
       "      <td>28.95</td>\n",
       "      <td>2.24</td>\n",
       "    </tr>\n",
       "    <tr>\n",
       "      <th>793</th>\n",
       "      <td>2016</td>\n",
       "      <td>2</td>\n",
       "      <td>27.30</td>\n",
       "      <td>1.12</td>\n",
       "      <td>28.40</td>\n",
       "      <td>1.85</td>\n",
       "      <td>29.40</td>\n",
       "      <td>1.19</td>\n",
       "      <td>28.89</td>\n",
       "      <td>2.02</td>\n",
       "    </tr>\n",
       "    <tr>\n",
       "      <th>794</th>\n",
       "      <td>2016</td>\n",
       "      <td>3</td>\n",
       "      <td>27.47</td>\n",
       "      <td>0.91</td>\n",
       "      <td>28.79</td>\n",
       "      <td>1.50</td>\n",
       "      <td>29.46</td>\n",
       "      <td>1.14</td>\n",
       "      <td>29.00</td>\n",
       "      <td>1.64</td>\n",
       "    </tr>\n",
       "  </tbody>\n",
       "</table>\n",
       "<p>795 rows × 10 columns</p>\n",
       "</div>"
      ],
      "text/plain": [
       "       YR  MON  NINO1+2  ANOM  NINO3  ANOM.1  NINO4  ANOM.2  NINO3.4  ANOM.3\n",
       "0    1950    1    23.30 -1.41  23.84   -1.96  27.18   -1.17    24.91   -1.80\n",
       "1    1950    2    24.33 -1.85  25.06   -1.49  26.83   -1.37    25.26   -1.62\n",
       "2    1950    3    25.24 -1.33  26.53   -0.76  26.91   -1.41    26.08   -1.28\n",
       "3    1950    4    23.88 -1.80  26.64   -0.97  27.42   -1.16    26.38   -1.46\n",
       "4    1950    5    22.91 -1.56  25.87   -1.42  27.95   -0.94    26.25   -1.71\n",
       "5    1950    6    21.60 -1.55  25.63   -1.00  28.27   -0.62    26.59   -1.14\n",
       "6    1950    7    20.58 -1.47  25.01   -0.80  27.84   -1.00    26.40   -0.91\n",
       "7    1950    8    20.29 -0.82  24.52   -0.71  27.54   -1.23    25.90   -1.06\n",
       "8    1950    9    19.67 -1.19  24.17   -0.90  27.44   -1.34    25.73   -1.14\n",
       "9    1950   10    20.14 -1.03  24.41   -0.71  27.43   -1.34    25.86   -0.97\n",
       "10   1950   11    20.19 -1.66  24.21   -0.98  27.42   -1.28    25.71   -1.06\n",
       "11   1950   12    21.82 -1.26  24.36   -1.00  27.35   -1.22    25.43   -1.30\n",
       "12   1951    1    24.19 -0.53  24.96   -0.84  27.39   -0.96    25.40   -1.31\n",
       "13   1951    2    25.04 -1.13  25.81   -0.73  27.17   -1.03    25.78   -1.10\n",
       "14   1951    3    25.51 -1.06  27.04   -0.24  27.85   -0.46    27.02   -0.34\n",
       "15   1951    4    25.19 -0.48  27.43   -0.18  28.43   -0.15    27.63   -0.22\n",
       "16   1951    5    24.55  0.07  27.15   -0.14  29.09    0.20    27.99    0.03\n",
       "17   1951    6    24.57  1.42  26.62   -0.01  29.04    0.14    27.51   -0.22\n",
       "18   1951    7    23.79  1.75  26.56    0.75  28.76   -0.09    27.58    0.27\n",
       "19   1951    8    22.25  1.14  25.86    0.63  28.24   -0.52    27.07    0.11\n",
       "20   1951    9    21.45  0.59  25.73    0.66  28.44   -0.34    27.28    0.41\n",
       "21   1951   10    21.77  0.60  25.73    0.62  28.50   -0.27    27.12    0.29\n",
       "22   1951   11    22.31  0.47  25.99    0.80  28.68   -0.03    27.13    0.35\n",
       "23   1951   12    22.91 -0.17  25.84    0.48  28.52   -0.05    26.90    0.17\n",
       "24   1952    1    24.40 -0.32  25.96    0.16  28.37    0.03    26.76    0.05\n",
       "25   1952    2    25.95 -0.22  26.49   -0.05  28.12   -0.09    26.86   -0.01\n",
       "26   1952    3    26.26 -0.30  27.29   -0.00  28.15   -0.17    27.36   -0.00\n",
       "27   1952    4    24.91 -0.76  27.59   -0.02  28.58   -0.01    28.02    0.17\n",
       "28   1952    5    23.99 -0.48  27.15   -0.14  28.76   -0.13    28.16    0.20\n",
       "29   1952    6    22.55 -0.60  26.11   -0.52  28.55   -0.34    27.48   -0.25\n",
       "..    ...  ...      ...   ...    ...     ...    ...     ...      ...     ...\n",
       "765  2013   10    20.60 -0.57  24.97   -0.15  28.85    0.07    26.67   -0.16\n",
       "766  2013   11    21.58 -0.27  25.06   -0.13  28.68   -0.03    26.63   -0.15\n",
       "767  2013   12    22.83 -0.25  25.26   -0.10  28.53   -0.04    26.52   -0.20\n",
       "768  2014    1    24.71 -0.01  25.43   -0.37  28.15   -0.20    26.12   -0.59\n",
       "769  2014    2    25.74 -0.44  25.98   -0.56  28.23    0.03    26.16   -0.72\n",
       "770  2014    3    26.26 -0.31  27.09   -0.20  28.44    0.12    26.89   -0.47\n",
       "771  2014    4    25.56 -0.11  27.65    0.04  28.91    0.32    27.71   -0.13\n",
       "772  2014    5    25.16  0.68  27.67    0.38  29.16    0.28    28.01    0.05\n",
       "773  2014    6    24.32  1.17  27.11    0.48  29.05    0.16    27.68   -0.05\n",
       "774  2014    7    23.12  1.08  26.30    0.49  29.05    0.20    27.28   -0.03\n",
       "775  2014    8    22.03  0.92  25.41    0.18  29.11    0.34    26.90   -0.06\n",
       "776  2014    9    21.47  0.61  25.36    0.29  29.24    0.45    27.03    0.15\n",
       "777  2014   10    21.66  0.49  25.72    0.61  29.28    0.50    27.25    0.42\n",
       "778  2014   11    22.39  0.55  26.03    0.84  29.37    0.66    27.52    0.74\n",
       "779  2014   12    23.36  0.27  26.07    0.71  29.33    0.75    27.40    0.67\n",
       "780  2015    1    24.68 -0.03  26.25    0.46  29.10    0.75    27.21    0.50\n",
       "781  2015    2    25.84 -0.34  26.67    0.13  28.99    0.79    27.23    0.36\n",
       "782  2015    3    26.69  0.12  27.51    0.22  29.16    0.84    27.77    0.41\n",
       "783  2015    4    26.29  0.61  28.23    0.62  29.61    1.03    28.58    0.73\n",
       "784  2015    5    25.68  1.21  28.19    0.90  29.83    0.95    28.82    0.86\n",
       "785  2015    6    25.13  1.98  27.87    1.24  29.77    0.87    28.70    0.97\n",
       "786  2015    7    24.30  2.26  27.40    1.59  29.58    0.74    28.50    1.19\n",
       "787  2015    8    22.83  1.73  27.06    1.83  29.57    0.81    28.47    1.51\n",
       "788  2015    9    22.96  2.10  27.12    2.05  29.63    0.85    28.62    1.75\n",
       "789  2015   10    23.08  1.91  27.37    2.25  29.73    0.96    28.87    2.04\n",
       "790  2015   11    23.87  2.03  27.72    2.53  29.99    1.29    29.14    2.37\n",
       "791  2015   12    24.86  1.78  27.83    2.48  29.87    1.30    29.04    2.32\n",
       "792  2016    1    26.21  1.49  28.14    2.34  29.46    1.11    28.95    2.24\n",
       "793  2016    2    27.30  1.12  28.40    1.85  29.40    1.19    28.89    2.02\n",
       "794  2016    3    27.47  0.91  28.79    1.50  29.46    1.14    29.00    1.64\n",
       "\n",
       "[795 rows x 10 columns]"
      ]
     },
     "execution_count": 21,
     "metadata": {},
     "output_type": "execute_result"
    }
   ],
   "source": [
    "data_file\n",
    "#data_file.describe()"
   ]
  },
  {
   "cell_type": "code",
   "execution_count": 22,
   "metadata": {
    "ExecuteTime": {
     "end_time": "2018-03-07T20:16:54.943829Z",
     "start_time": "2018-03-07T20:16:54.939906Z"
    }
   },
   "outputs": [
    {
     "name": "stdout",
     "output_type": "stream",
     "text": [
      "(795, 10)\n"
     ]
    }
   ],
   "source": [
    "# the first column [0] is the year of the data set\n",
    "# the ninth column [9] is the Nino3.4 index\n",
    "print(data.shape)"
   ]
  },
  {
   "cell_type": "code",
   "execution_count": 23,
   "metadata": {
    "ExecuteTime": {
     "end_time": "2018-03-07T20:16:55.461723Z",
     "start_time": "2018-03-07T20:16:55.457098Z"
    }
   },
   "outputs": [],
   "source": [
    "years = data[:,0]\n",
    "months = data[:,1]\n",
    "nino34 = data[:,8]\n",
    "nino34_centered = nino34 - nino34.mean()"
   ]
  },
  {
   "cell_type": "markdown",
   "metadata": {},
   "source": [
    "### Use the ```datetime``` module in Python to handle dates and time series\n",
    "\n",
    "This file contains monthly averages of ENSO indices.  The time is only given as the year, however, so we must convert "
   ]
  },
  {
   "cell_type": "code",
   "execution_count": 24,
   "metadata": {
    "ExecuteTime": {
     "end_time": "2018-03-07T20:16:56.329368Z",
     "start_time": "2018-03-07T20:16:56.323791Z"
    }
   },
   "outputs": [
    {
     "name": "stdout",
     "output_type": "stream",
     "text": [
      "2018-03-07\n",
      "2018-03-07 13:45:00\n"
     ]
    }
   ],
   "source": [
    "today = datetime.date(2018,3,7)\n",
    "now = datetime.datetime(2018,3,7,13,45,0)\n",
    "print(today)\n",
    "print(now)"
   ]
  },
  {
   "cell_type": "code",
   "execution_count": 25,
   "metadata": {
    "ExecuteTime": {
     "end_time": "2018-03-07T20:16:56.818022Z",
     "start_time": "2018-03-07T20:16:56.810978Z"
    }
   },
   "outputs": [],
   "source": [
    "ntime = years.size # length of time series array\n",
    "\n",
    "# TWO WAYS to create a list of datetime objects\n",
    "# here, looping\n",
    "year_month_list = []\n",
    "for i in range(ntime):\n",
    "    year_month_list.append(datetime.date( int(years[i]), int(months[i]) ,15))"
   ]
  },
  {
   "cell_type": "markdown",
   "metadata": {},
   "source": [
    "* [List comprehensions](http://www.secnetix.de/olli/Python/list_comprehensions.hawk) are a fast way to create a list that has a \"built-in\" for loop:"
   ]
  },
  {
   "cell_type": "code",
   "execution_count": 26,
   "metadata": {
    "ExecuteTime": {
     "end_time": "2018-03-07T20:16:57.677965Z",
     "start_time": "2018-03-07T20:16:57.673146Z"
    }
   },
   "outputs": [],
   "source": [
    "# here, list comprehension (kind of like a backwards list, all tucked into brackets)\n",
    "year_month_list = [datetime.date(int(years[i]), int(months[i]), 15) for i in range(ntime)]"
   ]
  },
  {
   "cell_type": "markdown",
   "metadata": {},
   "source": [
    "* Now create a figure of the monthly, centered Niño 3.4 index"
   ]
  },
  {
   "cell_type": "code",
   "execution_count": 27,
   "metadata": {
    "ExecuteTime": {
     "end_time": "2018-03-07T20:16:58.641545Z",
     "start_time": "2018-03-07T20:16:58.461234Z"
    }
   },
   "outputs": [
    {
     "data": {
      "text/plain": [
       "<matplotlib.lines.Line2D at 0x1130f8908>"
      ]
     },
     "execution_count": 27,
     "metadata": {},
     "output_type": "execute_result"
    },
    {
     "data": {
      "image/png": "[encoded data removed]",
      "text/plain": [
       "<matplotlib.figure.Figure at 0x112fde898>"
      ]
     },
     "metadata": {},
     "output_type": "display_data"
    }
   ],
   "source": [
    "fig = plt.figure(figsize=(10,3)) # figsize=(inches wide, inches tall) --> not necessary\n",
    "ax = fig.add_subplot(1,1,1)\n",
    "\n",
    "ax.plot(year_month_list,nino34_centered, color='red', lw=2) # a higher zorder means the line will sit over others\n",
    "ax.set_xlabel('Year')\n",
    "ax.set_ylabel('SST anomaly')\n",
    "ax.set_title('Nino 3.4 index (monthly)')\n",
    "ax.axhline(y=0, color='black', ls='-', lw=2, zorder=1)"
   ]
  },
  {
   "cell_type": "markdown",
   "metadata": {},
   "source": [
    "**Create a moving or rolling average using the ```pandas``` module, which comes with the Anaconda distribution but can be installed separately**\n",
    "\n",
    "* Note pandas is the Python Data Analysis Library and is *distinct* from NumPy and SciPy but provides a lot of complementary functions.  Read about it [here](http://pandas.pydata.org/)."
   ]
  },
  {
   "cell_type": "code",
   "execution_count": 28,
   "metadata": {
    "ExecuteTime": {
     "end_time": "2018-03-07T20:16:59.444104Z",
     "start_time": "2018-03-07T20:16:59.439406Z"
    }
   },
   "outputs": [],
   "source": [
    "nino34_centered_rolling_mean = pandas.Series(nino34_centered).rolling(window=12,center=True).mean()"
   ]
  },
  {
   "cell_type": "code",
   "execution_count": 29,
   "metadata": {
    "ExecuteTime": {
     "end_time": "2018-03-07T20:17:00.054585Z",
     "start_time": "2018-03-07T20:16:59.868003Z"
    },
    "scrolled": true
   },
   "outputs": [
    {
     "data": {
      "text/plain": [
       "<matplotlib.lines.Line2D at 0x109f90438>"
      ]
     },
     "execution_count": 29,
     "metadata": {},
     "output_type": "execute_result"
    },
    {
     "data": {
      "image/png": "[encoded data removed]",
      "text/plain": [
       "<matplotlib.figure.Figure at 0x112fde1d0>"
      ]
     },
     "metadata": {},
     "output_type": "display_data"
    }
   ],
   "source": [
    "fig = plt.figure(figsize=(10,3))\n",
    "ax = fig.add_subplot(1,1,1)\n",
    "ax.plot(year_month_list,nino34_centered_rolling_mean, color='red', lw=2, zorder=2)\n",
    "ax.set_xlabel('Year')\n",
    "ax.set_ylabel('SST anomaly')\n",
    "ax.set_title('Nino 3.4 index (rolling mean)')\n",
    "ax.axhline(y=0, color='black', ls='-', lw=2, zorder=1)"
   ]
  },
  {
   "cell_type": "markdown",
   "metadata": {},
   "source": [
    "## ==========> NOW YOU TRY <==========\n",
    "\n",
    "* Change the rolling mean above to be a 3-year mean, and re-run the cells to plot"
   ]
  }
 ],
 "metadata": {
  "kernelspec": {
   "display_name": "Python 3",
   "language": "python",
   "name": "python3"
  },
  "language_info": {
   "codemirror_mode": {
    "name": "ipython",
    "version": 3
   },
   "file_extension": ".py",
   "mimetype": "text/x-python",
   "name": "python",
   "nbconvert_exporter": "python",
   "pygments_lexer": "ipython3",
   "version": "3.6.4"
  }
 },
 "nbformat": 4,
 "nbformat_minor": 1
}
