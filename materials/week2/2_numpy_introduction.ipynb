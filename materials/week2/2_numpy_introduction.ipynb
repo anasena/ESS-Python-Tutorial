{
 "cells": [
  {
   "cell_type": "markdown",
   "metadata": {},
   "source": [
    "# numpy\n",
    "\n",
    "For a more comprehensive introduction to NumPy, see the official tutorial here:  [https://docs.scipy.org/doc/numpy-dev/user/quickstart.html](https://docs.scipy.org/doc/numpy-dev/user/quickstart.html).\n",
    "\n",
    "The main object in NumPy is the multidimensional array.  In NumPy, dimensions are called *axes*.  The **```numpy.array()```** function is how you can create a simple array.  Note that two parentheses that are needed **```(())```** for correct syntax:"
   ]
  },
  {
   "cell_type": "code",
   "execution_count": 1,
   "metadata": {
    "ExecuteTime": {
     "end_time": "2018-03-07T00:34:23.389375Z",
     "start_time": "2018-03-07T00:34:23.065559Z"
    }
   },
   "outputs": [],
   "source": [
    "import numpy\n",
    "\n",
    "# special code for Jupyter Notebook; allows in-line plotting (may not be needed on your machine)\n",
    "%matplotlib inline"
   ]
  },
  {
   "cell_type": "code",
   "execution_count": 2,
   "metadata": {
    "ExecuteTime": {
     "end_time": "2018-03-07T00:34:23.692728Z",
     "start_time": "2018-03-07T00:34:23.686703Z"
    }
   },
   "outputs": [],
   "source": [
    "array1 = numpy.array(( [1,2,3], [4,5,6], [7,8,9] ))\n",
    "array2 = numpy.array([ (1,2), (3,4) ]) # brackets and parentheses both work\n",
    "array3 = numpy.array(( (1,2), (3,4) ))\n",
    "array4 = numpy.array(( 'apple', 'orange', 'banana' ))"
   ]
  },
  {
   "cell_type": "markdown",
   "metadata": {},
   "source": [
    "__ERRORS IN PYTHON:__\n",
    "* Usually a line number is given.  Toggle lines on/off in the a notebook by typing:   ```esc``` and then ```shift```+```L```\n",
    "* Here, it says ```invalid syntax```, so we've done something wrong... __can you fix it?__"
   ]
  },
  {
   "cell_type": "code",
   "execution_count": 3,
   "metadata": {
    "ExecuteTime": {
     "end_time": "2018-03-07T00:34:24.513167Z",
     "start_time": "2018-03-07T00:34:24.505425Z"
    }
   },
   "outputs": [
    {
     "ename": "SyntaxError",
     "evalue": "invalid syntax (<ipython-input-3-ed729f202d23>, line 8)",
     "output_type": "error",
     "traceback": [
      "\u001b[0;36m  File \u001b[0;32m\"<ipython-input-3-ed729f202d23>\"\u001b[0;36m, line \u001b[0;32m8\u001b[0m\n\u001b[0;31m    print()\u001b[0m\n\u001b[0m        ^\u001b[0m\n\u001b[0;31mSyntaxError\u001b[0m\u001b[0;31m:\u001b[0m invalid syntax\n"
     ]
    }
   ],
   "source": [
    "print(array1) # print function requires () in Python 3.x\n",
    "print() # print empty line for separator\n",
    "print(array1.shape)\n",
    "print()\n",
    "print(array2)\n",
    "print()\n",
    "print(array3\n",
    "print()\n",
    "print(array4)"
   ]
  },
  {
   "cell_type": "code",
   "execution_count": 4,
   "metadata": {
    "ExecuteTime": {
     "end_time": "2018-03-07T00:34:24.906254Z",
     "start_time": "2018-03-07T00:34:24.902296Z"
    }
   },
   "outputs": [
    {
     "name": "stdout",
     "output_type": "stream",
     "text": [
      "I had an apple with lunch.\n"
     ]
    }
   ],
   "source": [
    "print(\"I had an \" + array4[0] + \" with lunch.\") # note the print statement accepts a + to concatenate strings"
   ]
  },
  {
   "cell_type": "markdown",
   "metadata": {},
   "source": [
    "## numpy array copying versus assigning"
   ]
  },
  {
   "cell_type": "code",
   "execution_count": 5,
   "metadata": {
    "ExecuteTime": {
     "end_time": "2018-03-07T00:34:25.613906Z",
     "start_time": "2018-03-07T00:34:25.609550Z"
    }
   },
   "outputs": [
    {
     "name": "stdout",
     "output_type": "stream",
     "text": [
      "[[1 2]\n",
      " [3 4]]\n"
     ]
    }
   ],
   "source": [
    "array5 = array3\n",
    "print(array5)"
   ]
  },
  {
   "cell_type": "code",
   "execution_count": 6,
   "metadata": {
    "ExecuteTime": {
     "end_time": "2018-03-07T00:34:25.836626Z",
     "start_time": "2018-03-07T00:34:25.830853Z"
    }
   },
   "outputs": [
    {
     "name": "stdout",
     "output_type": "stream",
     "text": [
      "[[2 4]\n",
      " [6 8]]\n"
     ]
    }
   ],
   "source": [
    "array5 *= 2 # multiply array5 by 2, in place\n",
    "print(array5)"
   ]
  },
  {
   "cell_type": "code",
   "execution_count": 7,
   "metadata": {
    "ExecuteTime": {
     "end_time": "2018-03-07T00:34:26.043215Z",
     "start_time": "2018-03-07T00:34:26.038796Z"
    }
   },
   "outputs": [
    {
     "name": "stdout",
     "output_type": "stream",
     "text": [
      "[[2 4]\n",
      " [6 8]]\n"
     ]
    }
   ],
   "source": [
    "print(array3) # note array3 is the SAME as array5, and changes accordingly"
   ]
  },
  {
   "cell_type": "code",
   "execution_count": 8,
   "metadata": {
    "ExecuteTime": {
     "end_time": "2018-03-07T00:34:26.230544Z",
     "start_time": "2018-03-07T00:34:26.225246Z"
    }
   },
   "outputs": [
    {
     "name": "stdout",
     "output_type": "stream",
     "text": [
      "[[ 4  8]\n",
      " [12 16]]\n",
      "[[2 4]\n",
      " [6 8]]\n"
     ]
    }
   ],
   "source": [
    "# avoid this behavhior by using numpy.copy\n",
    "array5 = numpy.copy(array3)\n",
    "array5 *= 2\n",
    "print(array5)\n",
    "print(array3)"
   ]
  },
  {
   "cell_type": "markdown",
   "metadata": {},
   "source": [
    "### Placeholder arrays:  zeros, ones, and empty\n",
    "\n",
    "You can create a large placeholder array to fill in later.  This can be done using **```numpy.zeros()```**, **```numpy.ones()```**, or **```numpy.empty()```**:"
   ]
  },
  {
   "cell_type": "code",
   "execution_count": 9,
   "metadata": {
    "ExecuteTime": {
     "end_time": "2018-03-07T00:34:26.581607Z",
     "start_time": "2018-03-07T00:34:26.577153Z"
    }
   },
   "outputs": [],
   "source": [
    "zeros_array = numpy.zeros((5,5)) # (nrows,ncols)\n",
    "ones_array = numpy.ones((5,5))\n",
    "empty_array = numpy.empty((3,3))"
   ]
  },
  {
   "cell_type": "code",
   "execution_count": 10,
   "metadata": {
    "ExecuteTime": {
     "end_time": "2018-03-07T00:34:26.770953Z",
     "start_time": "2018-03-07T00:34:26.763882Z"
    }
   },
   "outputs": [
    {
     "name": "stdout",
     "output_type": "stream",
     "text": [
      "[[2.68156159e+154 1.29074163e-231 2.47032823e-323]\n",
      " [0.00000000e+000 0.00000000e+000 0.00000000e+000]\n",
      " [0.00000000e+000 0.00000000e+000 0.00000000e+000]]\n"
     ]
    }
   ],
   "source": [
    "print(empty_array)"
   ]
  },
  {
   "cell_type": "markdown",
   "metadata": {},
   "source": [
    "# Data types\n",
    "\n",
    "* The default data type for a float in numpy is **```numpy.float64```**\n",
    "* The default data type for a numpy array is a **```numpy.ndarray```**\n",
    "* You can check this using the **```type()```** function"
   ]
  },
  {
   "cell_type": "code",
   "execution_count": 11,
   "metadata": {
    "ExecuteTime": {
     "end_time": "2018-03-07T00:34:27.153246Z",
     "start_time": "2018-03-07T00:34:27.147975Z"
    }
   },
   "outputs": [
    {
     "name": "stdout",
     "output_type": "stream",
     "text": [
      "<class 'numpy.float64'>\n"
     ]
    }
   ],
   "source": [
    "print(type(zeros_array[0,0]))"
   ]
  },
  {
   "cell_type": "markdown",
   "metadata": {},
   "source": [
    "The ```.mean()``` and ```.shape()``` syntax are methods that belong to ```array1```:"
   ]
  },
  {
   "cell_type": "code",
   "execution_count": 12,
   "metadata": {
    "ExecuteTime": {
     "end_time": "2018-03-07T00:34:27.539388Z",
     "start_time": "2018-03-07T00:34:27.532948Z"
    }
   },
   "outputs": [
    {
     "name": "stdout",
     "output_type": "stream",
     "text": [
      "(3, 3)\n",
      "5.0\n"
     ]
    }
   ],
   "source": [
    "print(array1.shape) # same as numpy.shape(array1)\n",
    "print(array1.mean()) # same as numpy.mean(array1)"
   ]
  },
  {
   "cell_type": "markdown",
   "metadata": {},
   "source": [
    "## The ```numpy.arange()``` and ```numpy.linspace``` functions\n",
    "\n",
    "**```numpy.arange()```** is analogous to **```range()```**, except **```numpy.arange()```** outputs a ```numpy.ndarray``` object, and **```range()```** outputs an iterator.\n",
    "\n",
    "* To see the documentation for any of these functions, google them... NumPy and SciPy functions are all very well documented.  For example:  http://docs.scipy.org/doc/numpy-1.10.1/reference/generated/numpy.arange.html\n",
    "\n",
    "* You can also use the ```?numpy.arange``` or ```??numpy.arange``` syntax in Jupyter Notebook"
   ]
  },
  {
   "cell_type": "code",
   "execution_count": 13,
   "metadata": {
    "ExecuteTime": {
     "end_time": "2018-03-07T00:34:27.924027Z",
     "start_time": "2018-03-07T00:34:27.917104Z"
    }
   },
   "outputs": [
    {
     "data": {
      "text/plain": [
       "array([0, 1, 2, 3, 4, 5, 6, 7, 8, 9])"
      ]
     },
     "execution_count": 13,
     "metadata": {},
     "output_type": "execute_result"
    }
   ],
   "source": [
    "numpy.arange(10) # if you enter an integer, it will be of numpy.int data type"
   ]
  },
  {
   "cell_type": "code",
   "execution_count": 14,
   "metadata": {
    "ExecuteTime": {
     "end_time": "2018-03-07T00:34:28.109928Z",
     "start_time": "2018-03-07T00:34:28.104326Z"
    }
   },
   "outputs": [
    {
     "data": {
      "text/plain": [
       "array([0., 1., 2., 3., 4., 5., 6., 7., 8., 9.])"
      ]
     },
     "execution_count": 14,
     "metadata": {},
     "output_type": "execute_result"
    }
   ],
   "source": [
    "numpy.arange(10.) # adding the decimal ensures it is of numpy.float type"
   ]
  },
  {
   "cell_type": "markdown",
   "metadata": {},
   "source": [
    "**```numpy.linspace(start, stop, N)```** generates an array of **```N```** evenly spaced numbers from start to stop."
   ]
  },
  {
   "cell_type": "code",
   "execution_count": 15,
   "metadata": {
    "ExecuteTime": {
     "end_time": "2018-03-07T00:34:28.456710Z",
     "start_time": "2018-03-07T00:34:28.448870Z"
    }
   },
   "outputs": [
    {
     "data": {
      "text/plain": [
       "array([0.        , 0.11111111, 0.22222222, 0.33333333, 0.44444444,\n",
       "       0.55555556, 0.66666667, 0.77777778, 0.88888889, 1.        ])"
      ]
     },
     "execution_count": 15,
     "metadata": {},
     "output_type": "execute_result"
    }
   ],
   "source": [
    "numpy.linspace(0, 1, 10)"
   ]
  },
  {
   "cell_type": "markdown",
   "metadata": {},
   "source": [
    "# Operations on arrays\n",
    "\n",
    "Basic arithmetic operations on NumPy arrays occur *elementwise*.  "
   ]
  },
  {
   "cell_type": "code",
   "execution_count": 16,
   "metadata": {
    "ExecuteTime": {
     "end_time": "2018-03-07T00:34:39.844687Z",
     "start_time": "2018-03-07T00:34:39.840006Z"
    }
   },
   "outputs": [
    {
     "name": "stdout",
     "output_type": "stream",
     "text": [
      "[[1. 2.]\n",
      " [3. 4.]\n",
      " [5. 6.]]\n"
     ]
    }
   ],
   "source": [
    "A = numpy.array(( [1,2], [3,4], [5,6] ), dtype=float)\n",
    "print(A)"
   ]
  },
  {
   "cell_type": "code",
   "execution_count": 17,
   "metadata": {
    "ExecuteTime": {
     "end_time": "2018-03-07T00:34:40.104497Z",
     "start_time": "2018-03-07T00:34:40.098441Z"
    }
   },
   "outputs": [
    {
     "name": "stdout",
     "output_type": "stream",
     "text": [
      "[[ 7  8]\n",
      " [ 9 10]\n",
      " [11 12]]\n"
     ]
    }
   ],
   "source": [
    "B = numpy.array(( [7,8], [9,10], [11,12] ))\n",
    "print(B)"
   ]
  },
  {
   "cell_type": "code",
   "execution_count": 18,
   "metadata": {
    "ExecuteTime": {
     "end_time": "2018-03-07T00:34:40.397685Z",
     "start_time": "2018-03-07T00:34:40.393390Z"
    }
   },
   "outputs": [
    {
     "name": "stdout",
     "output_type": "stream",
     "text": [
      "[[ 8. 10.]\n",
      " [12. 14.]\n",
      " [16. 18.]]\n",
      "[[-6. -6.]\n",
      " [-6. -6.]\n",
      " [-6. -6.]]\n"
     ]
    }
   ],
   "source": [
    "print(A+B)\n",
    "print(A-B)"
   ]
  },
  {
   "cell_type": "code",
   "execution_count": 19,
   "metadata": {
    "ExecuteTime": {
     "end_time": "2018-03-07T00:34:41.174287Z",
     "start_time": "2018-03-07T00:34:41.168684Z"
    }
   },
   "outputs": [
    {
     "name": "stdout",
     "output_type": "stream",
     "text": [
      "[[ 7. 16.]\n",
      " [27. 40.]\n",
      " [55. 72.]]\n"
     ]
    }
   ],
   "source": [
    "print(A*B) # element-wise mutiplication"
   ]
  },
  {
   "cell_type": "markdown",
   "metadata": {},
   "source": [
    "### Dot products on arrays\n",
    "\n",
    "A dot product of two arrays needs to have matching interior dimensions: ```[i x j] . [j x k] = [j x k]```\n",
    "\n",
    "__Can you solve the error below?  Hint:  Transpose an array in place using ```array_name.T``` or ```numpy.transpose(array_name)```__"
   ]
  },
  {
   "cell_type": "code",
   "execution_count": 20,
   "metadata": {
    "ExecuteTime": {
     "end_time": "2018-03-07T00:34:42.142776Z",
     "start_time": "2018-03-07T00:34:42.001169Z"
    }
   },
   "outputs": [
    {
     "name": "stdout",
     "output_type": "stream",
     "text": [
      "(3, 2)\n",
      "(3, 2)\n"
     ]
    },
    {
     "ename": "ValueError",
     "evalue": "shapes (3,2) and (3,2) not aligned: 2 (dim 1) != 3 (dim 0)",
     "output_type": "error",
     "traceback": [
      "\u001b[0;31m---------------------------------------------------------------------------\u001b[0m",
      "\u001b[0;31mValueError\u001b[0m                                Traceback (most recent call last)",
      "\u001b[0;32m<ipython-input-20-1f1daa82605d>\u001b[0m in \u001b[0;36m<module>\u001b[0;34m()\u001b[0m\n\u001b[1;32m      1\u001b[0m \u001b[0mprint\u001b[0m\u001b[0;34m(\u001b[0m\u001b[0mA\u001b[0m\u001b[0;34m.\u001b[0m\u001b[0mshape\u001b[0m\u001b[0;34m)\u001b[0m\u001b[0;34m\u001b[0m\u001b[0m\n\u001b[1;32m      2\u001b[0m \u001b[0mprint\u001b[0m\u001b[0;34m(\u001b[0m\u001b[0mB\u001b[0m\u001b[0;34m.\u001b[0m\u001b[0mshape\u001b[0m\u001b[0;34m)\u001b[0m\u001b[0;34m\u001b[0m\u001b[0m\n\u001b[0;32m----> 3\u001b[0;31m \u001b[0mprint\u001b[0m\u001b[0;34m(\u001b[0m\u001b[0mnumpy\u001b[0m\u001b[0;34m.\u001b[0m\u001b[0mdot\u001b[0m\u001b[0;34m(\u001b[0m\u001b[0mA\u001b[0m\u001b[0;34m,\u001b[0m\u001b[0mB\u001b[0m\u001b[0;34m)\u001b[0m\u001b[0;34m)\u001b[0m \u001b[0;31m# matrix dot product\u001b[0m\u001b[0;34m\u001b[0m\u001b[0m\n\u001b[0m",
      "\u001b[0;31mValueError\u001b[0m: shapes (3,2) and (3,2) not aligned: 2 (dim 1) != 3 (dim 0)"
     ]
    }
   ],
   "source": [
    "print(A.shape)\n",
    "print(B.shape)\n",
    "print(numpy.dot(A,B)) # matrix dot product"
   ]
  },
  {
   "cell_type": "markdown",
   "metadata": {},
   "source": [
    "Quick computations of means, sums, min, and max can be computed using either the **```A.function()```** or the **```numpy.function(A)```** notation:"
   ]
  },
  {
   "cell_type": "code",
   "execution_count": 21,
   "metadata": {
    "ExecuteTime": {
     "end_time": "2018-03-07T00:34:43.863419Z",
     "start_time": "2018-03-07T00:34:43.856924Z"
    }
   },
   "outputs": [
    {
     "name": "stdout",
     "output_type": "stream",
     "text": [
      "3.5 21.0 1.0 6.0\n",
      "3.5 21.0 1.0 6.0\n"
     ]
    }
   ],
   "source": [
    "print(A.mean(), \\\n",
    "      A.sum(), \\\n",
    "      A.min(), \\\n",
    "      A.max())\n",
    "print(numpy.mean(A), \\\n",
    "      numpy.sum(A), \\\n",
    "      numpy.min(A), \\\n",
    "      numpy.max(A))"
   ]
  },
  {
   "cell_type": "markdown",
   "metadata": {},
   "source": [
    "### Indexing, slicing, iterating\n",
    "\n",
    "To index a NumPy array, use square brackets **```[i,j]```** for **```[row,column]```**.\n",
    "\n",
    "(Don't forget zero indexing.)"
   ]
  },
  {
   "cell_type": "code",
   "execution_count": 22,
   "metadata": {
    "ExecuteTime": {
     "end_time": "2018-03-07T00:34:44.485830Z",
     "start_time": "2018-03-07T00:34:44.479580Z"
    }
   },
   "outputs": [
    {
     "data": {
      "text/plain": [
       "0"
      ]
     },
     "execution_count": 22,
     "metadata": {},
     "output_type": "execute_result"
    }
   ],
   "source": [
    "C = numpy.arange(100).reshape((10,10)) # note array is reshaped upon creation\n",
    "C[0,0]"
   ]
  },
  {
   "cell_type": "code",
   "execution_count": 23,
   "metadata": {
    "ExecuteTime": {
     "end_time": "2018-03-07T00:34:44.831197Z",
     "start_time": "2018-03-07T00:34:44.825623Z"
    }
   },
   "outputs": [
    {
     "data": {
      "text/plain": [
       "array([[ 0,  1,  2],\n",
       "       [10, 11, 12]])"
      ]
     },
     "execution_count": 23,
     "metadata": {},
     "output_type": "execute_result"
    }
   ],
   "source": [
    "C[:2,:3] # prints first 2 rows and 3 columns\n",
    "#C[0:2,0:3] # does the same"
   ]
  },
  {
   "cell_type": "code",
   "execution_count": 24,
   "metadata": {
    "ExecuteTime": {
     "end_time": "2018-03-07T00:34:45.229042Z",
     "start_time": "2018-03-07T00:34:45.224679Z"
    }
   },
   "outputs": [
    {
     "name": "stdout",
     "output_type": "stream",
     "text": [
      "[ 0  1  2  3  4  5  6  7  8  9 10 11 12 13 14 15 16 17 18 19]\n"
     ]
    }
   ],
   "source": [
    "D = numpy.arange(20)\n",
    "print(D)"
   ]
  },
  {
   "cell_type": "markdown",
   "metadata": {},
   "source": [
    "Reverse arrays using the **```[::-1]```** syntax:"
   ]
  },
  {
   "cell_type": "code",
   "execution_count": 25,
   "metadata": {
    "ExecuteTime": {
     "end_time": "2018-03-07T00:34:45.805332Z",
     "start_time": "2018-03-07T00:34:45.800227Z"
    }
   },
   "outputs": [
    {
     "data": {
      "text/plain": [
       "array([19, 18, 17, 16, 15, 14, 13, 12, 11, 10,  9,  8,  7,  6,  5,  4,  3,\n",
       "        2,  1,  0])"
      ]
     },
     "execution_count": 25,
     "metadata": {},
     "output_type": "execute_result"
    }
   ],
   "source": [
    "D[::-1]"
   ]
  },
  {
   "cell_type": "markdown",
   "metadata": {},
   "source": [
    "Skip every nth element sing the **```[::N]```** syntax"
   ]
  },
  {
   "cell_type": "code",
   "execution_count": 26,
   "metadata": {
    "ExecuteTime": {
     "end_time": "2018-03-07T00:34:46.536038Z",
     "start_time": "2018-03-07T00:34:46.527965Z"
    }
   },
   "outputs": [
    {
     "data": {
      "text/plain": [
       "array([ 0,  2,  4,  6,  8, 10, 12, 14, 16, 18])"
      ]
     },
     "execution_count": 26,
     "metadata": {},
     "output_type": "execute_result"
    }
   ],
   "source": [
    "D[::2]"
   ]
  },
  {
   "cell_type": "markdown",
   "metadata": {},
   "source": [
    "To print every nth element:"
   ]
  },
  {
   "cell_type": "code",
   "execution_count": 27,
   "metadata": {
    "ExecuteTime": {
     "end_time": "2018-03-07T00:34:47.254771Z",
     "start_time": "2018-03-07T00:34:47.246221Z"
    }
   },
   "outputs": [
    {
     "data": {
      "text/plain": [
       "array([ 0,  3,  6,  9, 12, 15])"
      ]
     },
     "execution_count": 27,
     "metadata": {},
     "output_type": "execute_result"
    }
   ],
   "source": [
    "D[0:16:3] # prints first 16 elements, skips by 3"
   ]
  },
  {
   "cell_type": "markdown",
   "metadata": {},
   "source": [
    "### Reshaping versus resizing\n",
    "\n",
    "The **```numpy.reshape()```** function returns a *new* argument with the specified shape.\n",
    "The **```numpy.resize()```** function resizes the array *in place*.\n",
    "\n",
    "Be aware of this difference when flattening or reshaping arrays."
   ]
  },
  {
   "cell_type": "code",
   "execution_count": 28,
   "metadata": {
    "ExecuteTime": {
     "end_time": "2018-03-07T00:34:47.720500Z",
     "start_time": "2018-03-07T00:34:47.714309Z"
    }
   },
   "outputs": [
    {
     "data": {
      "text/plain": [
       "(50,)"
      ]
     },
     "execution_count": 28,
     "metadata": {},
     "output_type": "execute_result"
    }
   ],
   "source": [
    "F = numpy.linspace(0,10,50)\n",
    "F.shape"
   ]
  },
  {
   "cell_type": "code",
   "execution_count": 29,
   "metadata": {
    "ExecuteTime": {
     "end_time": "2018-03-07T00:34:47.938055Z",
     "start_time": "2018-03-07T00:34:47.930775Z"
    }
   },
   "outputs": [
    {
     "data": {
      "text/plain": [
       "array([[ 0.        ,  0.20408163,  0.40816327,  0.6122449 ,  0.81632653],\n",
       "       [ 1.02040816,  1.2244898 ,  1.42857143,  1.63265306,  1.83673469],\n",
       "       [ 2.04081633,  2.24489796,  2.44897959,  2.65306122,  2.85714286],\n",
       "       [ 3.06122449,  3.26530612,  3.46938776,  3.67346939,  3.87755102],\n",
       "       [ 4.08163265,  4.28571429,  4.48979592,  4.69387755,  4.89795918],\n",
       "       [ 5.10204082,  5.30612245,  5.51020408,  5.71428571,  5.91836735],\n",
       "       [ 6.12244898,  6.32653061,  6.53061224,  6.73469388,  6.93877551],\n",
       "       [ 7.14285714,  7.34693878,  7.55102041,  7.75510204,  7.95918367],\n",
       "       [ 8.16326531,  8.36734694,  8.57142857,  8.7755102 ,  8.97959184],\n",
       "       [ 9.18367347,  9.3877551 ,  9.59183673,  9.79591837, 10.        ]])"
      ]
     },
     "execution_count": 29,
     "metadata": {},
     "output_type": "execute_result"
    }
   ],
   "source": [
    "F.reshape(10,5)"
   ]
  },
  {
   "cell_type": "code",
   "execution_count": 30,
   "metadata": {
    "ExecuteTime": {
     "end_time": "2018-03-07T00:34:48.158173Z",
     "start_time": "2018-03-07T00:34:48.150601Z"
    }
   },
   "outputs": [
    {
     "data": {
      "text/plain": [
       "(50,)"
      ]
     },
     "execution_count": 30,
     "metadata": {},
     "output_type": "execute_result"
    }
   ],
   "source": [
    "F.shape # F has not been rewritten!  Shape is still (50,)"
   ]
  },
  {
   "cell_type": "code",
   "execution_count": 31,
   "metadata": {
    "ExecuteTime": {
     "end_time": "2018-03-07T00:34:48.444934Z",
     "start_time": "2018-03-07T00:34:48.439910Z"
    }
   },
   "outputs": [
    {
     "name": "stdout",
     "output_type": "stream",
     "text": [
      "[[ 0.          0.20408163  0.40816327  0.6122449   0.81632653]\n",
      " [ 1.02040816  1.2244898   1.42857143  1.63265306  1.83673469]\n",
      " [ 2.04081633  2.24489796  2.44897959  2.65306122  2.85714286]\n",
      " [ 3.06122449  3.26530612  3.46938776  3.67346939  3.87755102]\n",
      " [ 4.08163265  4.28571429  4.48979592  4.69387755  4.89795918]\n",
      " [ 5.10204082  5.30612245  5.51020408  5.71428571  5.91836735]\n",
      " [ 6.12244898  6.32653061  6.53061224  6.73469388  6.93877551]\n",
      " [ 7.14285714  7.34693878  7.55102041  7.75510204  7.95918367]\n",
      " [ 8.16326531  8.36734694  8.57142857  8.7755102   8.97959184]\n",
      " [ 9.18367347  9.3877551   9.59183673  9.79591837 10.        ]]\n"
     ]
    }
   ],
   "source": [
    "F.resize(10,5)\n",
    "print(F)"
   ]
  },
  {
   "cell_type": "code",
   "execution_count": 32,
   "metadata": {
    "ExecuteTime": {
     "end_time": "2018-03-07T00:34:50.357077Z",
     "start_time": "2018-03-07T00:34:50.351443Z"
    }
   },
   "outputs": [
    {
     "name": "stdout",
     "output_type": "stream",
     "text": [
      "(10, 5)\n",
      "50\n"
     ]
    }
   ],
   "source": [
    "print(F.shape)\n",
    "print(F.size)"
   ]
  }
 ],
 "metadata": {
  "kernelspec": {
   "display_name": "Python 3",
   "language": "python",
   "name": "python3"
  },
  "language_info": {
   "codemirror_mode": {
    "name": "ipython",
    "version": 3
   },
   "file_extension": ".py",
   "mimetype": "text/x-python",
   "name": "python",
   "nbconvert_exporter": "python",
   "pygments_lexer": "ipython3",
   "version": "3.6.4"
  }
 },
 "nbformat": 4,
 "nbformat_minor": 1
}
